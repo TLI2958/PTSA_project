{
 "cells": [
  {
   "cell_type": "code",
   "execution_count": 1,
   "id": "3788ae25",
   "metadata": {
    "id": "3788ae25"
   },
   "outputs": [],
   "source": [
    "import warnings\n",
    "warnings.filterwarnings('ignore')\n",
    "\n",
    "import numpy as np\n",
    "import pandas as pd\n",
    "import matplotlib.pyplot as plt\n",
    "import seaborn as sns\n",
    "import tensorflow as tf"
   ]
  },
  {
   "cell_type": "code",
   "execution_count": 2,
   "id": "f7ec7b6f",
   "metadata": {
    "colab": {
     "base_uri": "https://localhost:8080/"
    },
    "id": "f7ec7b6f",
    "outputId": "92a7b146-ae98-4da9-f6ec-5e79a38905e1"
   },
   "outputs": [
    {
     "name": "stdout",
     "output_type": "stream",
     "text": [
      "[PhysicalDevice(name='/physical_device:CPU:0', device_type='CPU')]\n",
      "WARNING:tensorflow:From C:\\Users\\dujy0\\AppData\\Local\\Temp\\ipykernel_12848\\4004085722.py:13: is_gpu_available (from tensorflow.python.framework.test_util) is deprecated and will be removed in a future version.\n",
      "Instructions for updating:\n",
      "Use `tf.config.list_physical_devices('GPU')` instead.\n",
      "\n",
      "CUDA GPU: False\n"
     ]
    }
   ],
   "source": [
    "# Check for GPU\n",
    "import tensorflow as tf\n",
    "try:\n",
    "    from google.colab import drive\n",
    "    IN_COLAB=True\n",
    "except:\n",
    "    IN_COLAB=False\n",
    "\n",
    "if IN_COLAB:\n",
    "    print(\"We're running Colab\")\n",
    "else:\n",
    "    print(tf.config.list_physical_devices())\n",
    "    print('\\nCUDA GPU: ' + str(tf.test.is_gpu_available(cuda_only=True)))"
   ]
  },
  {
   "cell_type": "markdown",
   "id": "1f0ebbfa",
   "metadata": {
    "id": "1f0ebbfa"
   },
   "source": [
    "# Data Preprocessing"
   ]
  },
  {
   "cell_type": "code",
   "execution_count": 3,
   "id": "825068e6",
   "metadata": {
    "id": "825068e6"
   },
   "outputs": [],
   "source": [
    "import os\n",
    "os.chdir('..')\n",
    "df = pd.read_csv('./daily01-ithaca/daily01-NY_Ithaca_13_E.csv', header = 0, index_col = 0)\n",
    "Date = pd.to_datetime(df.LST_DATE, format='%Y%m%d', errors='coerce')\n",
    "df['Time'] = Date"
   ]
  },
  {
   "cell_type": "code",
   "execution_count": 4,
   "id": "ec34f475",
   "metadata": {
    "colab": {
     "base_uri": "https://localhost:8080/"
    },
    "id": "ec34f475",
    "outputId": "b270aad1-8d00-4006-aa4a-6830348c3bda"
   },
   "outputs": [
    {
     "data": {
      "text/plain": [
       "Index(['WBANNO', 'LST_DATE', 'CRX_VN', 'LONGITUDE', 'LATITUDE', 'T_DAILY_MAX',\n",
       "       'T_DAILY_MIN', 'T_DAILY_MEAN', 'T_DAILY_AVG', 'P_DAILY_CALC',\n",
       "       'SOLARAD_DAILY', 'SUR_TEMP_DAILY_TYPE', 'SUR_TEMP_DAILY_MAX',\n",
       "       'SUR_TEMP_DAILY_MIN', 'SUR_TEMP_DAILY_AVG', 'RH_DAILY_MAX',\n",
       "       'RH_DAILY_MIN', 'RH_DAILY_AVG', 'SOIL_MOISTURE_5_DAILY',\n",
       "       'SOIL_MOISTURE_10_DAILY', 'SOIL_MOISTURE_20_DAILY',\n",
       "       'SOIL_MOISTURE_50_DAILY', 'SOIL_MOISTURE_100_DAILY',\n",
       "       'SOIL_TEMP_5_DAILY', 'SOIL_TEMP_10_DAILY', 'SOIL_TEMP_20_DAILY',\n",
       "       'SOIL_TEMP_50_DAILY', 'SOIL_TEMP_100_DAILY', 'Time'],\n",
       "      dtype='object')"
      ]
     },
     "execution_count": 4,
     "metadata": {},
     "output_type": "execute_result"
    }
   ],
   "source": [
    "df.columns"
   ]
  },
  {
   "cell_type": "code",
   "execution_count": 5,
   "id": "ef4cc5e3",
   "metadata": {
    "id": "ef4cc5e3"
   },
   "outputs": [],
   "source": [
    "data = df[['T_DAILY_MAX',\n",
    "       'T_DAILY_MIN', 'T_DAILY_MEAN', 'T_DAILY_AVG', 'P_DAILY_CALC',\n",
    "       'SOLARAD_DAILY', 'SUR_TEMP_DAILY_MAX',\n",
    "       'SUR_TEMP_DAILY_MIN', 'SUR_TEMP_DAILY_AVG', 'RH_DAILY_MAX',\n",
    "       'RH_DAILY_MIN', 'RH_DAILY_AVG']]"
   ]
  },
  {
   "cell_type": "code",
   "execution_count": 6,
   "id": "8058f298",
   "metadata": {
    "id": "8058f298"
   },
   "outputs": [
    {
     "data": {
      "text/plain": [
       "T_DAILY_MAX             76\n",
       "T_DAILY_MIN             76\n",
       "T_DAILY_MEAN            76\n",
       "T_DAILY_AVG             77\n",
       "P_DAILY_CALC            47\n",
       "SOLARAD_DAILY           56\n",
       "SUR_TEMP_DAILY_MAX     438\n",
       "SUR_TEMP_DAILY_MIN     438\n",
       "SUR_TEMP_DAILY_AVG      56\n",
       "RH_DAILY_MAX          2405\n",
       "RH_DAILY_MIN          2405\n",
       "RH_DAILY_AVG          2405\n",
       "dtype: int64"
      ]
     },
     "execution_count": 6,
     "metadata": {},
     "output_type": "execute_result"
    }
   ],
   "source": [
    "data.index = df['Time']\n",
    "data.isna().sum()"
   ]
  },
  {
   "cell_type": "code",
   "execution_count": 7,
   "id": "d0d169f2",
   "metadata": {
    "id": "d0d169f2"
   },
   "outputs": [],
   "source": [
    "# forward fill the missing values\n",
    "data.ffill(axis = 0, inplace = True)\n",
    "# drop NaN at the top\n",
    "data.dropna(inplace = True)\n",
    "# set target\n",
    "data['target'] = data['T_DAILY_AVG']"
   ]
  },
  {
   "cell_type": "code",
   "execution_count": 8,
   "id": "f1601b98",
   "metadata": {
    "colab": {
     "base_uri": "https://localhost:8080/",
     "height": 648
    },
    "id": "f1601b98",
    "outputId": "9d388348-d146-4685-e158-4bcfca9a0671"
   },
   "outputs": [
    {
     "data": {
      "text/html": [
       "<div>\n",
       "<style scoped>\n",
       "    .dataframe tbody tr th:only-of-type {\n",
       "        vertical-align: middle;\n",
       "    }\n",
       "\n",
       "    .dataframe tbody tr th {\n",
       "        vertical-align: top;\n",
       "    }\n",
       "\n",
       "    .dataframe thead th {\n",
       "        text-align: right;\n",
       "    }\n",
       "</style>\n",
       "<table border=\"1\" class=\"dataframe\">\n",
       "  <thead>\n",
       "    <tr style=\"text-align: right;\">\n",
       "      <th></th>\n",
       "      <th>T_DAILY_MAX</th>\n",
       "      <th>T_DAILY_MIN</th>\n",
       "      <th>T_DAILY_MEAN</th>\n",
       "      <th>T_DAILY_AVG</th>\n",
       "      <th>P_DAILY_CALC</th>\n",
       "      <th>SOLARAD_DAILY</th>\n",
       "      <th>SUR_TEMP_DAILY_MAX</th>\n",
       "      <th>SUR_TEMP_DAILY_MIN</th>\n",
       "      <th>SUR_TEMP_DAILY_AVG</th>\n",
       "      <th>RH_DAILY_MAX</th>\n",
       "      <th>RH_DAILY_MIN</th>\n",
       "      <th>RH_DAILY_AVG</th>\n",
       "      <th>target</th>\n",
       "    </tr>\n",
       "    <tr>\n",
       "      <th>Time</th>\n",
       "      <th></th>\n",
       "      <th></th>\n",
       "      <th></th>\n",
       "      <th></th>\n",
       "      <th></th>\n",
       "      <th></th>\n",
       "      <th></th>\n",
       "      <th></th>\n",
       "      <th></th>\n",
       "      <th></th>\n",
       "      <th></th>\n",
       "      <th></th>\n",
       "      <th></th>\n",
       "    </tr>\n",
       "  </thead>\n",
       "  <tbody>\n",
       "    <tr>\n",
       "      <th>2011-04-13</th>\n",
       "      <td>7.6</td>\n",
       "      <td>5.3</td>\n",
       "      <td>6.4</td>\n",
       "      <td>6.4</td>\n",
       "      <td>18.9</td>\n",
       "      <td>2.66</td>\n",
       "      <td>13.4</td>\n",
       "      <td>5.7</td>\n",
       "      <td>7.1</td>\n",
       "      <td>96.9</td>\n",
       "      <td>75.2</td>\n",
       "      <td>91.3</td>\n",
       "      <td>6.4</td>\n",
       "    </tr>\n",
       "    <tr>\n",
       "      <th>2011-04-14</th>\n",
       "      <td>12.3</td>\n",
       "      <td>1.1</td>\n",
       "      <td>6.7</td>\n",
       "      <td>6.6</td>\n",
       "      <td>0.0</td>\n",
       "      <td>23.43</td>\n",
       "      <td>20.7</td>\n",
       "      <td>0.6</td>\n",
       "      <td>8.7</td>\n",
       "      <td>95.6</td>\n",
       "      <td>50.2</td>\n",
       "      <td>76.3</td>\n",
       "      <td>6.6</td>\n",
       "    </tr>\n",
       "    <tr>\n",
       "      <th>2011-04-15</th>\n",
       "      <td>11.7</td>\n",
       "      <td>-2.9</td>\n",
       "      <td>4.4</td>\n",
       "      <td>5.4</td>\n",
       "      <td>0.0</td>\n",
       "      <td>20.62</td>\n",
       "      <td>20.3</td>\n",
       "      <td>-2.6</td>\n",
       "      <td>7.2</td>\n",
       "      <td>79.9</td>\n",
       "      <td>27.2</td>\n",
       "      <td>53.4</td>\n",
       "      <td>5.4</td>\n",
       "    </tr>\n",
       "    <tr>\n",
       "      <th>2011-04-16</th>\n",
       "      <td>8.1</td>\n",
       "      <td>2.5</td>\n",
       "      <td>5.3</td>\n",
       "      <td>5.2</td>\n",
       "      <td>36.1</td>\n",
       "      <td>5.13</td>\n",
       "      <td>8.8</td>\n",
       "      <td>2.3</td>\n",
       "      <td>5.1</td>\n",
       "      <td>97.3</td>\n",
       "      <td>62.2</td>\n",
       "      <td>81.1</td>\n",
       "      <td>5.2</td>\n",
       "    </tr>\n",
       "    <tr>\n",
       "      <th>2011-04-17</th>\n",
       "      <td>9.8</td>\n",
       "      <td>1.4</td>\n",
       "      <td>5.6</td>\n",
       "      <td>5.6</td>\n",
       "      <td>4.7</td>\n",
       "      <td>9.53</td>\n",
       "      <td>12.6</td>\n",
       "      <td>0.8</td>\n",
       "      <td>5.9</td>\n",
       "      <td>96.8</td>\n",
       "      <td>40.5</td>\n",
       "      <td>68.6</td>\n",
       "      <td>5.6</td>\n",
       "    </tr>\n",
       "    <tr>\n",
       "      <th>...</th>\n",
       "      <td>...</td>\n",
       "      <td>...</td>\n",
       "      <td>...</td>\n",
       "      <td>...</td>\n",
       "      <td>...</td>\n",
       "      <td>...</td>\n",
       "      <td>...</td>\n",
       "      <td>...</td>\n",
       "      <td>...</td>\n",
       "      <td>...</td>\n",
       "      <td>...</td>\n",
       "      <td>...</td>\n",
       "      <td>...</td>\n",
       "    </tr>\n",
       "    <tr>\n",
       "      <th>2023-11-01</th>\n",
       "      <td>3.5</td>\n",
       "      <td>-2.2</td>\n",
       "      <td>0.6</td>\n",
       "      <td>0.2</td>\n",
       "      <td>3.0</td>\n",
       "      <td>5.25</td>\n",
       "      <td>9.0</td>\n",
       "      <td>-4.6</td>\n",
       "      <td>0.3</td>\n",
       "      <td>89.9</td>\n",
       "      <td>69.2</td>\n",
       "      <td>83.8</td>\n",
       "      <td>0.2</td>\n",
       "    </tr>\n",
       "    <tr>\n",
       "      <th>2023-11-02</th>\n",
       "      <td>6.1</td>\n",
       "      <td>-3.3</td>\n",
       "      <td>1.4</td>\n",
       "      <td>1.0</td>\n",
       "      <td>0.0</td>\n",
       "      <td>6.21</td>\n",
       "      <td>12.1</td>\n",
       "      <td>-5.2</td>\n",
       "      <td>0.6</td>\n",
       "      <td>90.0</td>\n",
       "      <td>53.4</td>\n",
       "      <td>75.2</td>\n",
       "      <td>1.0</td>\n",
       "    </tr>\n",
       "    <tr>\n",
       "      <th>2023-11-03</th>\n",
       "      <td>12.9</td>\n",
       "      <td>1.4</td>\n",
       "      <td>7.1</td>\n",
       "      <td>7.4</td>\n",
       "      <td>0.0</td>\n",
       "      <td>10.68</td>\n",
       "      <td>13.5</td>\n",
       "      <td>-1.1</td>\n",
       "      <td>5.7</td>\n",
       "      <td>63.6</td>\n",
       "      <td>26.1</td>\n",
       "      <td>43.0</td>\n",
       "      <td>7.4</td>\n",
       "    </tr>\n",
       "    <tr>\n",
       "      <th>2023-11-04</th>\n",
       "      <td>13.4</td>\n",
       "      <td>5.7</td>\n",
       "      <td>9.6</td>\n",
       "      <td>9.5</td>\n",
       "      <td>0.0</td>\n",
       "      <td>5.49</td>\n",
       "      <td>16.5</td>\n",
       "      <td>3.5</td>\n",
       "      <td>8.0</td>\n",
       "      <td>78.3</td>\n",
       "      <td>34.7</td>\n",
       "      <td>50.7</td>\n",
       "      <td>9.5</td>\n",
       "    </tr>\n",
       "    <tr>\n",
       "      <th>2023-11-05</th>\n",
       "      <td>13.4</td>\n",
       "      <td>5.7</td>\n",
       "      <td>9.6</td>\n",
       "      <td>9.5</td>\n",
       "      <td>0.0</td>\n",
       "      <td>5.49</td>\n",
       "      <td>16.5</td>\n",
       "      <td>3.5</td>\n",
       "      <td>8.0</td>\n",
       "      <td>78.3</td>\n",
       "      <td>34.7</td>\n",
       "      <td>50.7</td>\n",
       "      <td>9.5</td>\n",
       "    </tr>\n",
       "  </tbody>\n",
       "</table>\n",
       "<p>4590 rows × 13 columns</p>\n",
       "</div>"
      ],
      "text/plain": [
       "            T_DAILY_MAX  T_DAILY_MIN  T_DAILY_MEAN  T_DAILY_AVG  P_DAILY_CALC  \\\n",
       "Time                                                                            \n",
       "2011-04-13          7.6          5.3           6.4          6.4          18.9   \n",
       "2011-04-14         12.3          1.1           6.7          6.6           0.0   \n",
       "2011-04-15         11.7         -2.9           4.4          5.4           0.0   \n",
       "2011-04-16          8.1          2.5           5.3          5.2          36.1   \n",
       "2011-04-17          9.8          1.4           5.6          5.6           4.7   \n",
       "...                 ...          ...           ...          ...           ...   \n",
       "2023-11-01          3.5         -2.2           0.6          0.2           3.0   \n",
       "2023-11-02          6.1         -3.3           1.4          1.0           0.0   \n",
       "2023-11-03         12.9          1.4           7.1          7.4           0.0   \n",
       "2023-11-04         13.4          5.7           9.6          9.5           0.0   \n",
       "2023-11-05         13.4          5.7           9.6          9.5           0.0   \n",
       "\n",
       "            SOLARAD_DAILY  SUR_TEMP_DAILY_MAX  SUR_TEMP_DAILY_MIN  \\\n",
       "Time                                                                \n",
       "2011-04-13           2.66                13.4                 5.7   \n",
       "2011-04-14          23.43                20.7                 0.6   \n",
       "2011-04-15          20.62                20.3                -2.6   \n",
       "2011-04-16           5.13                 8.8                 2.3   \n",
       "2011-04-17           9.53                12.6                 0.8   \n",
       "...                   ...                 ...                 ...   \n",
       "2023-11-01           5.25                 9.0                -4.6   \n",
       "2023-11-02           6.21                12.1                -5.2   \n",
       "2023-11-03          10.68                13.5                -1.1   \n",
       "2023-11-04           5.49                16.5                 3.5   \n",
       "2023-11-05           5.49                16.5                 3.5   \n",
       "\n",
       "            SUR_TEMP_DAILY_AVG  RH_DAILY_MAX  RH_DAILY_MIN  RH_DAILY_AVG  \\\n",
       "Time                                                                       \n",
       "2011-04-13                 7.1          96.9          75.2          91.3   \n",
       "2011-04-14                 8.7          95.6          50.2          76.3   \n",
       "2011-04-15                 7.2          79.9          27.2          53.4   \n",
       "2011-04-16                 5.1          97.3          62.2          81.1   \n",
       "2011-04-17                 5.9          96.8          40.5          68.6   \n",
       "...                        ...           ...           ...           ...   \n",
       "2023-11-01                 0.3          89.9          69.2          83.8   \n",
       "2023-11-02                 0.6          90.0          53.4          75.2   \n",
       "2023-11-03                 5.7          63.6          26.1          43.0   \n",
       "2023-11-04                 8.0          78.3          34.7          50.7   \n",
       "2023-11-05                 8.0          78.3          34.7          50.7   \n",
       "\n",
       "            target  \n",
       "Time                \n",
       "2011-04-13     6.4  \n",
       "2011-04-14     6.6  \n",
       "2011-04-15     5.4  \n",
       "2011-04-16     5.2  \n",
       "2011-04-17     5.6  \n",
       "...            ...  \n",
       "2023-11-01     0.2  \n",
       "2023-11-02     1.0  \n",
       "2023-11-03     7.4  \n",
       "2023-11-04     9.5  \n",
       "2023-11-05     9.5  \n",
       "\n",
       "[4590 rows x 13 columns]"
      ]
     },
     "execution_count": 8,
     "metadata": {},
     "output_type": "execute_result"
    }
   ],
   "source": [
    "data"
   ]
  },
  {
   "cell_type": "code",
   "execution_count": 9,
   "id": "a6a51031",
   "metadata": {
    "id": "a6a51031"
   },
   "outputs": [],
   "source": [
    "from sklearn.model_selection import train_test_split\n",
    "train, test = train_test_split(data, test_size=0.2, shuffle = False)"
   ]
  },
  {
   "cell_type": "code",
   "execution_count": 10,
   "id": "597b6d4b",
   "metadata": {
    "id": "597b6d4b"
   },
   "outputs": [],
   "source": [
    "from sklearn.preprocessing import MinMaxScaler\n",
    "import pickle\n",
    "\n",
    "scaler = MinMaxScaler()\n",
    "scaler.fit(train)\n",
    "train = scaler.transform(train)\n",
    "test = scaler.transform(test)"
   ]
  },
  {
   "cell_type": "code",
   "execution_count": 11,
   "id": "aba1ac71",
   "metadata": {
    "colab": {
     "base_uri": "https://localhost:8080/"
    },
    "id": "aba1ac71",
    "outputId": "26de5820-8f95-411f-8874-7d7105534dfb"
   },
   "outputs": [
    {
     "data": {
      "text/plain": [
       "(3672, 13)"
      ]
     },
     "execution_count": 11,
     "metadata": {},
     "output_type": "execute_result"
    }
   ],
   "source": [
    "train.shape"
   ]
  },
  {
   "cell_type": "code",
   "execution_count": 12,
   "id": "bf181b56",
   "metadata": {
    "colab": {
     "base_uri": "https://localhost:8080/"
    },
    "id": "bf181b56",
    "outputId": "5f06a974-220c-4a0d-809b-8c5eee7b6e53"
   },
   "outputs": [
    {
     "data": {
      "text/plain": [
       "(918, 13)"
      ]
     },
     "execution_count": 12,
     "metadata": {},
     "output_type": "execute_result"
    }
   ],
   "source": [
    "test.shape"
   ]
  },
  {
   "cell_type": "code",
   "execution_count": 13,
   "id": "99ce69f2",
   "metadata": {
    "id": "99ce69f2"
   },
   "outputs": [],
   "source": [
    "# splitting data into sequences\n",
    "def split_sequences(features, target, seq_len, forecast_len):\n",
    "    X,y = list(), list()\n",
    "    for i in range(len(features)):\n",
    "        end_input = i + seq_len\n",
    "        end_predict = end_input + forecast_len\n",
    "        if end_predict > len(features)-1:\n",
    "            break\n",
    "        seq_x, seq_y = features[i:end_input,:], target[end_input:end_predict]\n",
    "        X.append(seq_x)\n",
    "        y.append(seq_y)\n",
    "    return tf.convert_to_tensor(X, dtype=tf.float64), tf.convert_to_tensor(y, dtype=tf.float64)"
   ]
  },
  {
   "cell_type": "markdown",
   "id": "6adc7e6b",
   "metadata": {
    "id": "6adc7e6b"
   },
   "source": [
    "# Define Model"
   ]
  },
  {
   "cell_type": "code",
   "execution_count": 14,
   "id": "7e46daa1",
   "metadata": {
    "id": "7e46daa1"
   },
   "outputs": [],
   "source": [
    "from tensorflow.keras.models import Sequential, Model\n",
    "from tensorflow.keras.layers import LSTM, Dense, RNN, LSTMCell, Input, Bidirectional\n",
    "from tensorflow.keras.losses import BinaryCrossentropy, MeanSquaredError\n",
    "from tensorflow.keras.optimizers import Adam\n",
    "from tensorflow.keras.callbacks import TensorBoard\n",
    "from tensorflow.keras.utils import plot_model\n",
    "\n",
    "class MyModel(tf.keras.Model):\n",
    "\n",
    "    def __init__(self, input_shape, output_shape, hidden_units = 30, activation_type = 'tanh', name = 'LSTM'):\n",
    "        super().__init__(name = name)\n",
    "        self.input_layer = Input(shape = input_shape, name = 'input')\n",
    "        self.lstm1 = LSTM(units=hidden_units, activation = activation_type, input_shape = input_shape, return_sequences=False, name = 'lstm_1')\n",
    "        self.dense1 = Dense(units=output_shape, activation = 'sigmoid', name = 'dense_1')\n",
    "        #self.dropout = tf.keras.layers.Dropout(0.5)\n",
    "\n",
    "    def call(self, inputs, training=False):\n",
    "        x = self.lstm1(inputs)\n",
    "        x = self.dense1(x)\n",
    "        #if training:\n",
    "        #  x = self.dropout(x, training=training)\n",
    "        return x\n",
    "\n",
    "    def summary(self):\n",
    "        model = Model(inputs = [self.input_layer], outputs = self.call(self.input_layer), name = self.name)\n",
    "        return model.summary()"
   ]
  },
  {
   "cell_type": "markdown",
   "id": "28807bc6",
   "metadata": {
    "id": "28807bc6"
   },
   "source": [
    "# Model Training\n",
    "## input length : output length = 16:4"
   ]
  },
  {
   "cell_type": "code",
   "execution_count": 15,
   "id": "03ec4f70",
   "metadata": {
    "id": "03ec4f70"
   },
   "outputs": [],
   "source": [
    "# prepare sequences\n",
    "seq_len = 16\n",
    "forecast_len = 4\n",
    "X_train, y_train = split_sequences(train[:,:-1], train[:,-1], seq_len = seq_len, forecast_len = forecast_len)\n",
    "X_test, y_test = split_sequences(test[:,:-1], test[:,-1],seq_len = seq_len, forecast_len =  forecast_len)\n",
    "n_features = X_train.shape[2]"
   ]
  },
  {
   "cell_type": "code",
   "execution_count": 16,
   "id": "c26eaa20",
   "metadata": {
    "colab": {
     "base_uri": "https://localhost:8080/"
    },
    "id": "c26eaa20",
    "outputId": "765c3d35-253d-4890-ce6c-5aa9a098c39a"
   },
   "outputs": [
    {
     "data": {
      "text/plain": [
       "TensorShape([3652, 16, 12])"
      ]
     },
     "execution_count": 16,
     "metadata": {},
     "output_type": "execute_result"
    }
   ],
   "source": [
    "X_train.shape"
   ]
  },
  {
   "cell_type": "code",
   "execution_count": 17,
   "id": "039bed2b",
   "metadata": {
    "colab": {
     "base_uri": "https://localhost:8080/"
    },
    "id": "039bed2b",
    "outputId": "d2a3473c-b45d-41d3-9fe5-f87a359c9a72"
   },
   "outputs": [
    {
     "data": {
      "text/plain": [
       "TensorShape([3652, 4])"
      ]
     },
     "execution_count": 17,
     "metadata": {},
     "output_type": "execute_result"
    }
   ],
   "source": [
    "y_train.shape"
   ]
  },
  {
   "cell_type": "code",
   "execution_count": 18,
   "id": "7f03c179",
   "metadata": {
    "colab": {
     "base_uri": "https://localhost:8080/"
    },
    "id": "7f03c179",
    "outputId": "35b7c868-74f1-49f7-90ca-2d1b99363aa9"
   },
   "outputs": [
    {
     "name": "stdout",
     "output_type": "stream",
     "text": [
      "Model: \"LSTM_16-4\"\n",
      "_________________________________________________________________\n",
      " Layer (type)                Output Shape              Param #   \n",
      "=================================================================\n",
      " input (InputLayer)          [(None, 16, 12)]          0         \n",
      "                                                                 \n",
      " lstm_1 (LSTM)               (None, 30)                5160      \n",
      "                                                                 \n",
      " dense_1 (Dense)             (None, 4)                 124       \n",
      "                                                                 \n",
      "=================================================================\n",
      "Total params: 5,284\n",
      "Trainable params: 5,284\n",
      "Non-trainable params: 0\n",
      "_________________________________________________________________\n"
     ]
    }
   ],
   "source": [
    "# create model instance\n",
    "model_name = 'LSTM_16-4'\n",
    "model = MyModel(input_shape = (seq_len, n_features), output_shape = (forecast_len), name = model_name)\n",
    "model.summary()"
   ]
  },
  {
   "cell_type": "code",
   "execution_count": 19,
   "id": "06942327",
   "metadata": {
    "colab": {
     "base_uri": "https://localhost:8080/"
    },
    "id": "06942327",
    "outputId": "327d16b0-0506-4f7e-b2f8-13764fe2a9f3"
   },
   "outputs": [
    {
     "name": "stdout",
     "output_type": "stream",
     "text": [
      "Epoch 1/30\n",
      "33/33 [==============================] - 2s 15ms/step - loss: 0.0158 - mse: 0.0158 - acc: 0.2374 - val_loss: 0.0086 - val_mse: 0.0086 - val_acc: 0.2678\n",
      "Epoch 2/30\n",
      "33/33 [==============================] - 0s 4ms/step - loss: 0.0086 - mse: 0.0086 - acc: 0.2401 - val_loss: 0.0078 - val_mse: 0.0078 - val_acc: 0.2514\n",
      "Epoch 3/30\n",
      "33/33 [==============================] - 0s 4ms/step - loss: 0.0081 - mse: 0.0081 - acc: 0.2663 - val_loss: 0.0074 - val_mse: 0.0074 - val_acc: 0.2978\n",
      "Epoch 4/30\n",
      "33/33 [==============================] - 0s 5ms/step - loss: 0.0080 - mse: 0.0080 - acc: 0.2809 - val_loss: 0.0073 - val_mse: 0.0073 - val_acc: 0.3497\n",
      "Epoch 5/30\n",
      "33/33 [==============================] - 0s 5ms/step - loss: 0.0079 - mse: 0.0079 - acc: 0.3131 - val_loss: 0.0071 - val_mse: 0.0071 - val_acc: 0.3852\n",
      "Epoch 6/30\n",
      "33/33 [==============================] - 0s 5ms/step - loss: 0.0079 - mse: 0.0079 - acc: 0.3281 - val_loss: 0.0070 - val_mse: 0.0070 - val_acc: 0.3115\n",
      "Epoch 7/30\n",
      "33/33 [==============================] - 0s 5ms/step - loss: 0.0076 - mse: 0.0076 - acc: 0.3509 - val_loss: 0.0070 - val_mse: 0.0070 - val_acc: 0.3798\n",
      "Epoch 8/30\n",
      "33/33 [==============================] - 0s 5ms/step - loss: 0.0074 - mse: 0.0074 - acc: 0.3545 - val_loss: 0.0072 - val_mse: 0.0072 - val_acc: 0.2923\n",
      "Epoch 9/30\n",
      "33/33 [==============================] - 0s 4ms/step - loss: 0.0073 - mse: 0.0073 - acc: 0.3673 - val_loss: 0.0066 - val_mse: 0.0066 - val_acc: 0.3279\n",
      "Epoch 10/30\n",
      "33/33 [==============================] - 0s 4ms/step - loss: 0.0073 - mse: 0.0073 - acc: 0.3783 - val_loss: 0.0066 - val_mse: 0.0066 - val_acc: 0.3825\n",
      "Epoch 11/30\n",
      "33/33 [==============================] - 0s 4ms/step - loss: 0.0072 - mse: 0.0072 - acc: 0.3789 - val_loss: 0.0067 - val_mse: 0.0067 - val_acc: 0.3770\n",
      "Epoch 12/30\n",
      "33/33 [==============================] - 0s 4ms/step - loss: 0.0071 - mse: 0.0071 - acc: 0.3907 - val_loss: 0.0066 - val_mse: 0.0066 - val_acc: 0.3033\n",
      "Epoch 13/30\n",
      "33/33 [==============================] - 0s 4ms/step - loss: 0.0072 - mse: 0.0072 - acc: 0.3600 - val_loss: 0.0068 - val_mse: 0.0068 - val_acc: 0.4044\n",
      "Epoch 14/30\n",
      "33/33 [==============================] - 0s 4ms/step - loss: 0.0072 - mse: 0.0072 - acc: 0.3871 - val_loss: 0.0068 - val_mse: 0.0068 - val_acc: 0.3224\n",
      "Epoch 15/30\n",
      "33/33 [==============================] - 0s 4ms/step - loss: 0.0070 - mse: 0.0070 - acc: 0.3828 - val_loss: 0.0063 - val_mse: 0.0063 - val_acc: 0.3880\n",
      "Epoch 16/30\n",
      "33/33 [==============================] - 0s 5ms/step - loss: 0.0070 - mse: 0.0070 - acc: 0.3740 - val_loss: 0.0065 - val_mse: 0.0065 - val_acc: 0.4044\n",
      "Epoch 17/30\n",
      "33/33 [==============================] - 0s 5ms/step - loss: 0.0070 - mse: 0.0070 - acc: 0.3691 - val_loss: 0.0066 - val_mse: 0.0066 - val_acc: 0.4180\n",
      "Epoch 18/30\n",
      "33/33 [==============================] - 0s 5ms/step - loss: 0.0071 - mse: 0.0071 - acc: 0.3682 - val_loss: 0.0066 - val_mse: 0.0066 - val_acc: 0.3880\n",
      "Epoch 19/30\n",
      "33/33 [==============================] - 0s 4ms/step - loss: 0.0070 - mse: 0.0070 - acc: 0.3746 - val_loss: 0.0067 - val_mse: 0.0067 - val_acc: 0.4071\n",
      "Epoch 20/30\n",
      "33/33 [==============================] - 0s 4ms/step - loss: 0.0069 - mse: 0.0069 - acc: 0.3825 - val_loss: 0.0064 - val_mse: 0.0064 - val_acc: 0.3934\n",
      "Epoch 21/30\n",
      "33/33 [==============================] - 0s 4ms/step - loss: 0.0069 - mse: 0.0069 - acc: 0.3816 - val_loss: 0.0065 - val_mse: 0.0065 - val_acc: 0.3661\n",
      "Epoch 22/30\n",
      "33/33 [==============================] - 0s 4ms/step - loss: 0.0069 - mse: 0.0069 - acc: 0.3834 - val_loss: 0.0064 - val_mse: 0.0064 - val_acc: 0.4071\n",
      "Epoch 23/30\n",
      "33/33 [==============================] - 0s 4ms/step - loss: 0.0069 - mse: 0.0069 - acc: 0.3783 - val_loss: 0.0065 - val_mse: 0.0065 - val_acc: 0.4208\n",
      "Epoch 24/30\n",
      "33/33 [==============================] - 0s 5ms/step - loss: 0.0069 - mse: 0.0069 - acc: 0.3853 - val_loss: 0.0066 - val_mse: 0.0066 - val_acc: 0.4098\n",
      "Epoch 25/30\n",
      "33/33 [==============================] - 0s 4ms/step - loss: 0.0069 - mse: 0.0069 - acc: 0.3774 - val_loss: 0.0066 - val_mse: 0.0066 - val_acc: 0.3962\n",
      "Epoch 26/30\n",
      "33/33 [==============================] - 0s 4ms/step - loss: 0.0069 - mse: 0.0069 - acc: 0.3813 - val_loss: 0.0066 - val_mse: 0.0066 - val_acc: 0.3525\n",
      "Epoch 27/30\n",
      "33/33 [==============================] - 0s 4ms/step - loss: 0.0068 - mse: 0.0068 - acc: 0.3901 - val_loss: 0.0067 - val_mse: 0.0067 - val_acc: 0.4044\n",
      "Epoch 28/30\n",
      "33/33 [==============================] - 0s 4ms/step - loss: 0.0067 - mse: 0.0067 - acc: 0.3880 - val_loss: 0.0068 - val_mse: 0.0068 - val_acc: 0.3388\n",
      "Epoch 29/30\n",
      "33/33 [==============================] - 0s 4ms/step - loss: 0.0068 - mse: 0.0068 - acc: 0.3594 - val_loss: 0.0071 - val_mse: 0.0071 - val_acc: 0.4153\n",
      "Epoch 30/30\n",
      "33/33 [==============================] - 0s 4ms/step - loss: 0.0068 - mse: 0.0068 - acc: 0.3801 - val_loss: 0.0070 - val_mse: 0.0070 - val_acc: 0.3852\n"
     ]
    },
    {
     "data": {
      "text/plain": [
       "<keras.callbacks.History at 0x27b1a04de10>"
      ]
     },
     "execution_count": 19,
     "metadata": {},
     "output_type": "execute_result"
    }
   ],
   "source": [
    "# Fit the model\n",
    "model.compile(loss=MeanSquaredError(), optimizer=Adam(learning_rate = 0.01), metrics = ['mse', 'acc'])\n",
    "model.fit(X_train,\n",
    "          y_train,\n",
    "          batch_size=100,\n",
    "          epochs=30,\n",
    "          verbose='auto',\n",
    "          callbacks=None,\n",
    "          validation_split=0.1,\n",
    "          shuffle=True)\n",
    "# traning for > 40 epoch starts to overfit"
   ]
  },
  {
   "cell_type": "code",
   "execution_count": 20,
   "id": "ceea1dc7",
   "metadata": {
    "colab": {
     "base_uri": "https://localhost:8080/"
    },
    "id": "ceea1dc7",
    "outputId": "11ab063d-975d-4ee8-8b0c-a449c2f4aaab"
   },
   "outputs": [
    {
     "name": "stderr",
     "output_type": "stream",
     "text": [
      "WARNING:absl:Found untraced functions such as lstm_cell_layer_call_fn, lstm_cell_layer_call_and_return_conditional_losses while saving (showing 2 of 2). These functions will not be directly callable after loading.\n"
     ]
    },
    {
     "name": "stdout",
     "output_type": "stream",
     "text": [
      "INFO:tensorflow:Assets written to: ./LSTM/models_daily_v2/LSTM_16-4\\assets\n"
     ]
    },
    {
     "name": "stderr",
     "output_type": "stream",
     "text": [
      "INFO:tensorflow:Assets written to: ./LSTM/models_daily_v2/LSTM_16-4\\assets\n"
     ]
    },
    {
     "name": "stdout",
     "output_type": "stream",
     "text": [
      "115/115 [==============================] - 0s 906us/step\n",
      "29/29 [==============================] - 0s 911us/step\n",
      "mean_squared_error\n",
      "train set: 0.006848143924325187\n",
      "test set: 0.006876010535207377\n"
     ]
    }
   ],
   "source": [
    "# save trained model\n",
    "model.save('./LSTM/models_daily_v2/' + model_name)\n",
    "y_hat_train = model.predict(X_train)\n",
    "y_hat_test = model.predict(X_test)\n",
    "from sklearn.metrics import mean_squared_error\n",
    "print('mean_squared_error')\n",
    "print('train set:', mean_squared_error(y_train, y_hat_train, sample_weight=None))\n",
    "print('test set:', mean_squared_error(y_test, y_hat_test, sample_weight=None))"
   ]
  },
  {
   "cell_type": "markdown",
   "id": "1258ce9b",
   "metadata": {
    "id": "1258ce9b"
   },
   "source": [
    "## input length : output length = 24:6"
   ]
  },
  {
   "cell_type": "code",
   "execution_count": 21,
   "id": "8be2411e",
   "metadata": {
    "id": "8be2411e"
   },
   "outputs": [],
   "source": [
    "# reset memory\n",
    "tf.Graph().as_default()\n",
    "\n",
    "# prepare sequences\n",
    "seq_len = 24\n",
    "forecast_len = 6\n",
    "X_train, y_train = split_sequences(train[:,:-1], train[:,-1], seq_len = seq_len, forecast_len = forecast_len)\n",
    "X_test, y_test = split_sequences(test[:,:-1], test[:,-1],seq_len = seq_len, forecast_len =  forecast_len)\n",
    "n_features = X_train.shape[2]"
   ]
  },
  {
   "cell_type": "code",
   "execution_count": 22,
   "id": "787bb430",
   "metadata": {
    "id": "787bb430",
    "outputId": "54bc67c8-56ed-4d5c-e398-f943317bcf3f"
   },
   "outputs": [
    {
     "name": "stdout",
     "output_type": "stream",
     "text": [
      "Model: \"LSTM_24-6\"\n",
      "_________________________________________________________________\n",
      " Layer (type)                Output Shape              Param #   \n",
      "=================================================================\n",
      " input (InputLayer)          [(None, 24, 12)]          0         \n",
      "                                                                 \n",
      " lstm_1 (LSTM)               (None, 30)                5160      \n",
      "                                                                 \n",
      " dense_1 (Dense)             (None, 6)                 186       \n",
      "                                                                 \n",
      "=================================================================\n",
      "Total params: 5,346\n",
      "Trainable params: 5,346\n",
      "Non-trainable params: 0\n",
      "_________________________________________________________________\n"
     ]
    }
   ],
   "source": [
    "# create model instance\n",
    "model_name = 'LSTM_24-6'\n",
    "model = MyModel(input_shape = (seq_len, n_features), output_shape = (forecast_len), name = model_name)\n",
    "model.summary()"
   ]
  },
  {
   "cell_type": "code",
   "execution_count": 23,
   "id": "c2e8f948",
   "metadata": {
    "id": "c2e8f948",
    "outputId": "8ac4a356-bf84-42af-af69-98dade95567f"
   },
   "outputs": [
    {
     "name": "stdout",
     "output_type": "stream",
     "text": [
      "Epoch 1/40\n",
      "33/33 [==============================] - 2s 15ms/step - loss: 0.0166 - mse: 0.0166 - acc: 0.1471 - val_loss: 0.0086 - val_mse: 0.0086 - val_acc: 0.1397\n",
      "Epoch 2/40\n",
      "33/33 [==============================] - 0s 5ms/step - loss: 0.0087 - mse: 0.0087 - acc: 0.1770 - val_loss: 0.0077 - val_mse: 0.0077 - val_acc: 0.1753\n",
      "Epoch 3/40\n",
      "33/33 [==============================] - 0s 5ms/step - loss: 0.0084 - mse: 0.0084 - acc: 0.1959 - val_loss: 0.0077 - val_mse: 0.0077 - val_acc: 0.2274\n",
      "Epoch 4/40\n",
      "33/33 [==============================] - 0s 6ms/step - loss: 0.0082 - mse: 0.0082 - acc: 0.2017 - val_loss: 0.0075 - val_mse: 0.0075 - val_acc: 0.1644\n",
      "Epoch 5/40\n",
      "33/33 [==============================] - 0s 5ms/step - loss: 0.0081 - mse: 0.0081 - acc: 0.2060 - val_loss: 0.0076 - val_mse: 0.0076 - val_acc: 0.2603\n",
      "Epoch 6/40\n",
      "33/33 [==============================] - 0s 5ms/step - loss: 0.0080 - mse: 0.0080 - acc: 0.2063 - val_loss: 0.0079 - val_mse: 0.0079 - val_acc: 0.2219\n",
      "Epoch 7/40\n",
      "33/33 [==============================] - 0s 5ms/step - loss: 0.0082 - mse: 0.0082 - acc: 0.2215 - val_loss: 0.0075 - val_mse: 0.0075 - val_acc: 0.2274\n",
      "Epoch 8/40\n",
      "33/33 [==============================] - 0s 5ms/step - loss: 0.0079 - mse: 0.0079 - acc: 0.2292 - val_loss: 0.0074 - val_mse: 0.0074 - val_acc: 0.2329\n",
      "Epoch 9/40\n",
      "33/33 [==============================] - 0s 5ms/step - loss: 0.0078 - mse: 0.0078 - acc: 0.2374 - val_loss: 0.0072 - val_mse: 0.0072 - val_acc: 0.2274\n",
      "Epoch 10/40\n",
      "33/33 [==============================] - 0s 5ms/step - loss: 0.0078 - mse: 0.0078 - acc: 0.2499 - val_loss: 0.0072 - val_mse: 0.0072 - val_acc: 0.1890\n",
      "Epoch 11/40\n",
      "33/33 [==============================] - 0s 5ms/step - loss: 0.0077 - mse: 0.0077 - acc: 0.2432 - val_loss: 0.0070 - val_mse: 0.0070 - val_acc: 0.2329\n",
      "Epoch 12/40\n",
      "33/33 [==============================] - 0s 5ms/step - loss: 0.0079 - mse: 0.0079 - acc: 0.2319 - val_loss: 0.0072 - val_mse: 0.0072 - val_acc: 0.2548\n",
      "Epoch 13/40\n",
      "33/33 [==============================] - 0s 5ms/step - loss: 0.0079 - mse: 0.0079 - acc: 0.2414 - val_loss: 0.0074 - val_mse: 0.0074 - val_acc: 0.2274\n",
      "Epoch 14/40\n",
      "33/33 [==============================] - 0s 5ms/step - loss: 0.0078 - mse: 0.0078 - acc: 0.2490 - val_loss: 0.0071 - val_mse: 0.0071 - val_acc: 0.2247\n",
      "Epoch 15/40\n",
      "33/33 [==============================] - 0s 5ms/step - loss: 0.0076 - mse: 0.0076 - acc: 0.2484 - val_loss: 0.0070 - val_mse: 0.0070 - val_acc: 0.2712\n",
      "Epoch 16/40\n",
      "33/33 [==============================] - 0s 5ms/step - loss: 0.0076 - mse: 0.0076 - acc: 0.2560 - val_loss: 0.0069 - val_mse: 0.0069 - val_acc: 0.2384\n",
      "Epoch 17/40\n",
      "33/33 [==============================] - 0s 5ms/step - loss: 0.0076 - mse: 0.0076 - acc: 0.2551 - val_loss: 0.0076 - val_mse: 0.0076 - val_acc: 0.2521\n",
      "Epoch 18/40\n",
      "33/33 [==============================] - 0s 5ms/step - loss: 0.0078 - mse: 0.0078 - acc: 0.2539 - val_loss: 0.0072 - val_mse: 0.0072 - val_acc: 0.2630\n",
      "Epoch 19/40\n",
      "33/33 [==============================] - 0s 5ms/step - loss: 0.0076 - mse: 0.0076 - acc: 0.2685 - val_loss: 0.0074 - val_mse: 0.0074 - val_acc: 0.2822\n",
      "Epoch 20/40\n",
      "33/33 [==============================] - 0s 5ms/step - loss: 0.0076 - mse: 0.0076 - acc: 0.2579 - val_loss: 0.0070 - val_mse: 0.0070 - val_acc: 0.2493\n",
      "Epoch 21/40\n",
      "33/33 [==============================] - 0s 5ms/step - loss: 0.0074 - mse: 0.0074 - acc: 0.2728 - val_loss: 0.0069 - val_mse: 0.0069 - val_acc: 0.3014\n",
      "Epoch 22/40\n",
      "33/33 [==============================] - 0s 5ms/step - loss: 0.0075 - mse: 0.0075 - acc: 0.2621 - val_loss: 0.0072 - val_mse: 0.0072 - val_acc: 0.2658\n",
      "Epoch 23/40\n",
      "33/33 [==============================] - 0s 6ms/step - loss: 0.0075 - mse: 0.0075 - acc: 0.2649 - val_loss: 0.0070 - val_mse: 0.0070 - val_acc: 0.2932\n",
      "Epoch 24/40\n",
      "33/33 [==============================] - 0s 5ms/step - loss: 0.0074 - mse: 0.0074 - acc: 0.2658 - val_loss: 0.0072 - val_mse: 0.0072 - val_acc: 0.2767\n",
      "Epoch 25/40\n",
      "33/33 [==============================] - 0s 5ms/step - loss: 0.0074 - mse: 0.0074 - acc: 0.2716 - val_loss: 0.0070 - val_mse: 0.0070 - val_acc: 0.2329\n",
      "Epoch 26/40\n",
      "33/33 [==============================] - 0s 5ms/step - loss: 0.0074 - mse: 0.0074 - acc: 0.2682 - val_loss: 0.0069 - val_mse: 0.0069 - val_acc: 0.2795\n",
      "Epoch 27/40\n",
      "33/33 [==============================] - 0s 5ms/step - loss: 0.0074 - mse: 0.0074 - acc: 0.2777 - val_loss: 0.0074 - val_mse: 0.0074 - val_acc: 0.2521\n",
      "Epoch 28/40\n",
      "33/33 [==============================] - 0s 5ms/step - loss: 0.0074 - mse: 0.0074 - acc: 0.2762 - val_loss: 0.0068 - val_mse: 0.0068 - val_acc: 0.2986\n",
      "Epoch 29/40\n",
      "33/33 [==============================] - 0s 5ms/step - loss: 0.0074 - mse: 0.0074 - acc: 0.2810 - val_loss: 0.0073 - val_mse: 0.0073 - val_acc: 0.2658\n",
      "Epoch 30/40\n",
      "33/33 [==============================] - 0s 5ms/step - loss: 0.0075 - mse: 0.0075 - acc: 0.2710 - val_loss: 0.0069 - val_mse: 0.0069 - val_acc: 0.2466\n",
      "Epoch 31/40\n",
      "33/33 [==============================] - 0s 5ms/step - loss: 0.0073 - mse: 0.0073 - acc: 0.2768 - val_loss: 0.0068 - val_mse: 0.0068 - val_acc: 0.2849\n",
      "Epoch 32/40\n",
      "33/33 [==============================] - 0s 5ms/step - loss: 0.0072 - mse: 0.0072 - acc: 0.2762 - val_loss: 0.0071 - val_mse: 0.0071 - val_acc: 0.2877\n",
      "Epoch 33/40\n",
      "33/33 [==============================] - 0s 5ms/step - loss: 0.0072 - mse: 0.0072 - acc: 0.2777 - val_loss: 0.0072 - val_mse: 0.0072 - val_acc: 0.2274\n",
      "Epoch 34/40\n",
      "33/33 [==============================] - 0s 5ms/step - loss: 0.0073 - mse: 0.0073 - acc: 0.2710 - val_loss: 0.0068 - val_mse: 0.0068 - val_acc: 0.2630\n",
      "Epoch 35/40\n",
      "33/33 [==============================] - 0s 5ms/step - loss: 0.0072 - mse: 0.0072 - acc: 0.2716 - val_loss: 0.0073 - val_mse: 0.0073 - val_acc: 0.2493\n",
      "Epoch 36/40\n",
      "33/33 [==============================] - 0s 5ms/step - loss: 0.0073 - mse: 0.0073 - acc: 0.2795 - val_loss: 0.0074 - val_mse: 0.0074 - val_acc: 0.2685\n",
      "Epoch 37/40\n",
      "33/33 [==============================] - 0s 5ms/step - loss: 0.0070 - mse: 0.0070 - acc: 0.2710 - val_loss: 0.0070 - val_mse: 0.0070 - val_acc: 0.2658\n",
      "Epoch 38/40\n",
      "33/33 [==============================] - 0s 6ms/step - loss: 0.0070 - mse: 0.0070 - acc: 0.2844 - val_loss: 0.0073 - val_mse: 0.0073 - val_acc: 0.2822\n",
      "Epoch 39/40\n",
      "33/33 [==============================] - 0s 5ms/step - loss: 0.0069 - mse: 0.0069 - acc: 0.2795 - val_loss: 0.0074 - val_mse: 0.0074 - val_acc: 0.3014\n",
      "Epoch 40/40\n",
      "33/33 [==============================] - 0s 5ms/step - loss: 0.0069 - mse: 0.0069 - acc: 0.2740 - val_loss: 0.0078 - val_mse: 0.0078 - val_acc: 0.2466\n"
     ]
    },
    {
     "data": {
      "text/plain": [
       "<keras.callbacks.History at 0x27b23953f40>"
      ]
     },
     "execution_count": 23,
     "metadata": {},
     "output_type": "execute_result"
    }
   ],
   "source": [
    "# Fit the model\n",
    "model.compile(loss=MeanSquaredError(), optimizer=Adam(learning_rate = 0.01), metrics = ['mse', 'acc'])\n",
    "model.fit(X_train,\n",
    "          y_train,\n",
    "          batch_size=100,\n",
    "          epochs=40,\n",
    "          verbose='auto',\n",
    "          callbacks=None,\n",
    "          validation_split=0.1,\n",
    "          shuffle=True)"
   ]
  },
  {
   "cell_type": "code",
   "execution_count": 24,
   "id": "520fc1a0",
   "metadata": {
    "id": "520fc1a0",
    "outputId": "8f3c74b0-4fe1-40a9-fd1f-b85fac9efb6a"
   },
   "outputs": [
    {
     "name": "stderr",
     "output_type": "stream",
     "text": [
      "WARNING:absl:Found untraced functions such as lstm_cell_1_layer_call_fn, lstm_cell_1_layer_call_and_return_conditional_losses while saving (showing 2 of 2). These functions will not be directly callable after loading.\n"
     ]
    },
    {
     "name": "stdout",
     "output_type": "stream",
     "text": [
      "INFO:tensorflow:Assets written to: ./LSTM/models_daily_v2/LSTM_24-6\\assets\n"
     ]
    },
    {
     "name": "stderr",
     "output_type": "stream",
     "text": [
      "INFO:tensorflow:Assets written to: ./LSTM/models_daily_v2/LSTM_24-6\\assets\n"
     ]
    },
    {
     "name": "stdout",
     "output_type": "stream",
     "text": [
      "114/114 [==============================] - 0s 1ms/step\n",
      "28/28 [==============================] - 0s 1ms/step\n",
      "mean_squared_error\n",
      "train set: 0.007013208249888376\n",
      "test set: 0.00734360034315104\n"
     ]
    }
   ],
   "source": [
    "# evaluate the model\n",
    "# save trained model\n",
    "model.save('./LSTM/models_daily_v2/' + model_name)\n",
    "from sklearn.metrics import mean_squared_error\n",
    "\n",
    "y_hat_train = model.predict(X_train)\n",
    "y_hat_test = model.predict(X_test)\n",
    "\n",
    "print('mean_squared_error')\n",
    "print('train set:', mean_squared_error(y_train, y_hat_train, sample_weight=None))\n",
    "print('test set:', mean_squared_error(y_test, y_hat_test, sample_weight=None))"
   ]
  },
  {
   "cell_type": "markdown",
   "id": "82dbd001",
   "metadata": {
    "id": "82dbd001"
   },
   "source": [
    "## input length : output length = 32:8"
   ]
  },
  {
   "cell_type": "code",
   "execution_count": 25,
   "id": "86bc5076",
   "metadata": {
    "id": "86bc5076"
   },
   "outputs": [],
   "source": [
    "# reset memory\n",
    "tf.Graph().as_default()\n",
    "\n",
    "# prepare sequences\n",
    "seq_len = 32\n",
    "forecast_len = 8\n",
    "X_train, y_train = split_sequences(train[:,:-1], train[:,-1], seq_len = seq_len, forecast_len = forecast_len)\n",
    "X_test, y_test = split_sequences(test[:,:-1], test[:,-1],seq_len = seq_len, forecast_len =  forecast_len)\n",
    "n_features = X_train.shape[2]"
   ]
  },
  {
   "cell_type": "code",
   "execution_count": 26,
   "id": "ab4164d4",
   "metadata": {
    "id": "ab4164d4",
    "outputId": "d7523ef9-bb0a-4785-fb62-58000a5af611"
   },
   "outputs": [
    {
     "name": "stdout",
     "output_type": "stream",
     "text": [
      "Model: \"LSTM_32-8\"\n",
      "_________________________________________________________________\n",
      " Layer (type)                Output Shape              Param #   \n",
      "=================================================================\n",
      " input (InputLayer)          [(None, 32, 12)]          0         \n",
      "                                                                 \n",
      " lstm_1 (LSTM)               (None, 30)                5160      \n",
      "                                                                 \n",
      " dense_1 (Dense)             (None, 8)                 248       \n",
      "                                                                 \n",
      "=================================================================\n",
      "Total params: 5,408\n",
      "Trainable params: 5,408\n",
      "Non-trainable params: 0\n",
      "_________________________________________________________________\n"
     ]
    }
   ],
   "source": [
    "# create model instance\n",
    "model_name = 'LSTM_32-8'\n",
    "model = MyModel(input_shape = (seq_len, n_features), output_shape = (forecast_len), name = model_name)\n",
    "model.summary()"
   ]
  },
  {
   "cell_type": "code",
   "execution_count": 27,
   "id": "0b571424",
   "metadata": {
    "id": "0b571424",
    "outputId": "7f3720b5-35d9-46f8-a945-642272faf6e3"
   },
   "outputs": [
    {
     "name": "stdout",
     "output_type": "stream",
     "text": [
      "Epoch 1/30\n",
      "33/33 [==============================] - 2s 17ms/step - loss: 0.0207 - mse: 0.0207 - acc: 0.1178 - val_loss: 0.0092 - val_mse: 0.0092 - val_acc: 0.1236\n",
      "Epoch 2/30\n",
      "33/33 [==============================] - 0s 7ms/step - loss: 0.0092 - mse: 0.0092 - acc: 0.1319 - val_loss: 0.0079 - val_mse: 0.0079 - val_acc: 0.1511\n",
      "Epoch 3/30\n",
      "33/33 [==============================] - 0s 7ms/step - loss: 0.0087 - mse: 0.0087 - acc: 0.1551 - val_loss: 0.0077 - val_mse: 0.0077 - val_acc: 0.1236\n",
      "Epoch 4/30\n",
      "33/33 [==============================] - 0s 7ms/step - loss: 0.0085 - mse: 0.0085 - acc: 0.1518 - val_loss: 0.0076 - val_mse: 0.0076 - val_acc: 0.1896\n",
      "Epoch 5/30\n",
      "33/33 [==============================] - 0s 7ms/step - loss: 0.0083 - mse: 0.0083 - acc: 0.1738 - val_loss: 0.0074 - val_mse: 0.0074 - val_acc: 0.1896\n",
      "Epoch 6/30\n",
      "33/33 [==============================] - 0s 7ms/step - loss: 0.0083 - mse: 0.0083 - acc: 0.1909 - val_loss: 0.0078 - val_mse: 0.0078 - val_acc: 0.1786\n",
      "Epoch 7/30\n",
      "33/33 [==============================] - 0s 7ms/step - loss: 0.0083 - mse: 0.0083 - acc: 0.1876 - val_loss: 0.0076 - val_mse: 0.0076 - val_acc: 0.2363\n",
      "Epoch 8/30\n",
      "33/33 [==============================] - 0s 7ms/step - loss: 0.0084 - mse: 0.0084 - acc: 0.1995 - val_loss: 0.0074 - val_mse: 0.0074 - val_acc: 0.2198\n",
      "Epoch 9/30\n",
      "33/33 [==============================] - 0s 7ms/step - loss: 0.0082 - mse: 0.0082 - acc: 0.1977 - val_loss: 0.0076 - val_mse: 0.0076 - val_acc: 0.2253\n",
      "Epoch 10/30\n",
      "33/33 [==============================] - 0s 7ms/step - loss: 0.0082 - mse: 0.0082 - acc: 0.1980 - val_loss: 0.0075 - val_mse: 0.0075 - val_acc: 0.1923\n",
      "Epoch 11/30\n",
      "33/33 [==============================] - 0s 7ms/step - loss: 0.0081 - mse: 0.0081 - acc: 0.2047 - val_loss: 0.0074 - val_mse: 0.0074 - val_acc: 0.1868\n",
      "Epoch 12/30\n",
      "33/33 [==============================] - 0s 7ms/step - loss: 0.0081 - mse: 0.0081 - acc: 0.2010 - val_loss: 0.0074 - val_mse: 0.0074 - val_acc: 0.2088\n",
      "Epoch 13/30\n",
      "33/33 [==============================] - 0s 7ms/step - loss: 0.0080 - mse: 0.0080 - acc: 0.2176 - val_loss: 0.0074 - val_mse: 0.0074 - val_acc: 0.1813\n",
      "Epoch 14/30\n",
      "33/33 [==============================] - 0s 7ms/step - loss: 0.0079 - mse: 0.0079 - acc: 0.2007 - val_loss: 0.0077 - val_mse: 0.0077 - val_acc: 0.2308\n",
      "Epoch 15/30\n",
      "33/33 [==============================] - 0s 7ms/step - loss: 0.0077 - mse: 0.0077 - acc: 0.2185 - val_loss: 0.0078 - val_mse: 0.0078 - val_acc: 0.1841\n",
      "Epoch 16/30\n",
      "33/33 [==============================] - 0s 7ms/step - loss: 0.0078 - mse: 0.0078 - acc: 0.1992 - val_loss: 0.0074 - val_mse: 0.0074 - val_acc: 0.1841\n",
      "Epoch 17/30\n",
      "33/33 [==============================] - 0s 7ms/step - loss: 0.0077 - mse: 0.0077 - acc: 0.2081 - val_loss: 0.0073 - val_mse: 0.0073 - val_acc: 0.2198\n",
      "Epoch 18/30\n",
      "33/33 [==============================] - 0s 7ms/step - loss: 0.0078 - mse: 0.0078 - acc: 0.2035 - val_loss: 0.0081 - val_mse: 0.0081 - val_acc: 0.1978\n",
      "Epoch 19/30\n",
      "33/33 [==============================] - 0s 7ms/step - loss: 0.0077 - mse: 0.0077 - acc: 0.2139 - val_loss: 0.0076 - val_mse: 0.0076 - val_acc: 0.1923\n",
      "Epoch 20/30\n",
      "33/33 [==============================] - 0s 8ms/step - loss: 0.0076 - mse: 0.0076 - acc: 0.2209 - val_loss: 0.0076 - val_mse: 0.0076 - val_acc: 0.2170\n",
      "Epoch 21/30\n",
      "33/33 [==============================] - 0s 7ms/step - loss: 0.0074 - mse: 0.0074 - acc: 0.2160 - val_loss: 0.0077 - val_mse: 0.0077 - val_acc: 0.2170\n",
      "Epoch 22/30\n",
      "33/33 [==============================] - 0s 7ms/step - loss: 0.0073 - mse: 0.0073 - acc: 0.2222 - val_loss: 0.0081 - val_mse: 0.0081 - val_acc: 0.1978\n",
      "Epoch 23/30\n",
      "33/33 [==============================] - 0s 6ms/step - loss: 0.0075 - mse: 0.0075 - acc: 0.2173 - val_loss: 0.0078 - val_mse: 0.0078 - val_acc: 0.2005\n",
      "Epoch 24/30\n",
      "33/33 [==============================] - 0s 7ms/step - loss: 0.0073 - mse: 0.0073 - acc: 0.2090 - val_loss: 0.0084 - val_mse: 0.0084 - val_acc: 0.2253\n",
      "Epoch 25/30\n",
      "33/33 [==============================] - 0s 7ms/step - loss: 0.0073 - mse: 0.0073 - acc: 0.2194 - val_loss: 0.0077 - val_mse: 0.0077 - val_acc: 0.2060\n",
      "Epoch 26/30\n",
      "33/33 [==============================] - 0s 7ms/step - loss: 0.0075 - mse: 0.0075 - acc: 0.2118 - val_loss: 0.0077 - val_mse: 0.0077 - val_acc: 0.1896\n",
      "Epoch 27/30\n",
      "33/33 [==============================] - 0s 7ms/step - loss: 0.0073 - mse: 0.0073 - acc: 0.2179 - val_loss: 0.0075 - val_mse: 0.0075 - val_acc: 0.1923\n",
      "Epoch 28/30\n",
      "33/33 [==============================] - 0s 7ms/step - loss: 0.0070 - mse: 0.0070 - acc: 0.2166 - val_loss: 0.0079 - val_mse: 0.0079 - val_acc: 0.2060\n",
      "Epoch 29/30\n",
      "33/33 [==============================] - 0s 7ms/step - loss: 0.0070 - mse: 0.0070 - acc: 0.2261 - val_loss: 0.0079 - val_mse: 0.0079 - val_acc: 0.1978\n",
      "Epoch 30/30\n",
      "33/33 [==============================] - 0s 7ms/step - loss: 0.0072 - mse: 0.0072 - acc: 0.2179 - val_loss: 0.0080 - val_mse: 0.0080 - val_acc: 0.1951\n"
     ]
    },
    {
     "data": {
      "text/plain": [
       "<keras.callbacks.History at 0x27b270773a0>"
      ]
     },
     "execution_count": 27,
     "metadata": {},
     "output_type": "execute_result"
    }
   ],
   "source": [
    "# Fit the model\n",
    "model.compile(loss=MeanSquaredError(), optimizer=Adam(learning_rate = 0.01), metrics = ['mse', 'acc'])\n",
    "model.fit(X_train,\n",
    "          y_train,\n",
    "          batch_size=100,\n",
    "          epochs=30,\n",
    "          verbose='auto',\n",
    "          callbacks=None,\n",
    "          validation_split=0.1,\n",
    "          shuffle=True)"
   ]
  },
  {
   "cell_type": "code",
   "execution_count": 28,
   "id": "ed47bbbb",
   "metadata": {
    "id": "ed47bbbb",
    "outputId": "7c5c3683-2276-48de-f836-5addae59c1b9",
    "scrolled": true
   },
   "outputs": [
    {
     "name": "stderr",
     "output_type": "stream",
     "text": [
      "WARNING:absl:Found untraced functions such as lstm_cell_2_layer_call_fn, lstm_cell_2_layer_call_and_return_conditional_losses while saving (showing 2 of 2). These functions will not be directly callable after loading.\n"
     ]
    },
    {
     "name": "stdout",
     "output_type": "stream",
     "text": [
      "INFO:tensorflow:Assets written to: ./LSTM/models_daily_v2/LSTM_32-8\\assets\n"
     ]
    },
    {
     "name": "stderr",
     "output_type": "stream",
     "text": [
      "INFO:tensorflow:Assets written to: ./LSTM/models_daily_v2/LSTM_32-8\\assets\n"
     ]
    },
    {
     "name": "stdout",
     "output_type": "stream",
     "text": [
      "114/114 [==============================] - 0s 1ms/step\n",
      "28/28 [==============================] - 0s 1ms/step\n",
      "mean_squared_error\n",
      "train set: 0.007214247874597157\n",
      "test set: 0.007903344178832789\n"
     ]
    }
   ],
   "source": [
    "# save trained model\n",
    "model.save('./LSTM/models_daily_v2/' + model_name)\n",
    "# evaluate the model\n",
    "from sklearn.metrics import mean_squared_error\n",
    "\n",
    "y_hat_train = model.predict(X_train)\n",
    "y_hat_test = model.predict(X_test)\n",
    "\n",
    "print('mean_squared_error')\n",
    "print('train set:', mean_squared_error(y_train, y_hat_train, sample_weight=None))\n",
    "print('test set:', mean_squared_error(y_test, y_hat_test, sample_weight=None))"
   ]
  },
  {
   "cell_type": "markdown",
   "id": "147e0a20",
   "metadata": {
    "id": "147e0a20"
   },
   "source": [
    "## input length : output length = 40:10"
   ]
  },
  {
   "cell_type": "code",
   "execution_count": 29,
   "id": "0c9521fc",
   "metadata": {
    "id": "0c9521fc"
   },
   "outputs": [],
   "source": [
    "# reset memory\n",
    "tf.Graph().as_default()\n",
    "\n",
    "# prepare sequences\n",
    "seq_len = 40\n",
    "forecast_len = 10\n",
    "X_train, y_train = split_sequences(train[:,:-1], train[:,-1], seq_len = seq_len, forecast_len = forecast_len)\n",
    "X_test, y_test = split_sequences(test[:,:-1], test[:,-1],seq_len = seq_len, forecast_len =  forecast_len)\n",
    "n_features = X_train.shape[2]"
   ]
  },
  {
   "cell_type": "code",
   "execution_count": 30,
   "id": "2091b9f3",
   "metadata": {
    "id": "2091b9f3",
    "outputId": "4ce3fc97-fc9a-42c0-9684-6763e9693c6d"
   },
   "outputs": [
    {
     "name": "stdout",
     "output_type": "stream",
     "text": [
      "Model: \"LSTM_40-10\"\n",
      "_________________________________________________________________\n",
      " Layer (type)                Output Shape              Param #   \n",
      "=================================================================\n",
      " input (InputLayer)          [(None, 40, 12)]          0         \n",
      "                                                                 \n",
      " lstm_1 (LSTM)               (None, 30)                5160      \n",
      "                                                                 \n",
      " dense_1 (Dense)             (None, 10)                310       \n",
      "                                                                 \n",
      "=================================================================\n",
      "Total params: 5,470\n",
      "Trainable params: 5,470\n",
      "Non-trainable params: 0\n",
      "_________________________________________________________________\n"
     ]
    }
   ],
   "source": [
    "# create model instance\n",
    "model_name = 'LSTM_40-10'\n",
    "model = MyModel(input_shape = (seq_len, n_features), output_shape = (forecast_len), name = model_name)\n",
    "model.summary()"
   ]
  },
  {
   "cell_type": "code",
   "execution_count": 31,
   "id": "2de6ddb4",
   "metadata": {
    "id": "2de6ddb4",
    "outputId": "cac550bf-dc35-40d3-8f6d-5aba0b2b63a8"
   },
   "outputs": [
    {
     "name": "stdout",
     "output_type": "stream",
     "text": [
      "Epoch 1/30\n",
      "33/33 [==============================] - 2s 29ms/step - loss: 0.0185 - mse: 0.0185 - val_loss: 0.0097 - val_mse: 0.0097\n",
      "Epoch 2/30\n",
      "33/33 [==============================] - 0s 10ms/step - loss: 0.0098 - mse: 0.0098 - val_loss: 0.0087 - val_mse: 0.0087\n",
      "Epoch 3/30\n",
      "33/33 [==============================] - 0s 10ms/step - loss: 0.0091 - mse: 0.0091 - val_loss: 0.0083 - val_mse: 0.0083\n",
      "Epoch 4/30\n",
      "33/33 [==============================] - 0s 10ms/step - loss: 0.0089 - mse: 0.0089 - val_loss: 0.0080 - val_mse: 0.0080\n",
      "Epoch 5/30\n",
      "33/33 [==============================] - 0s 10ms/step - loss: 0.0087 - mse: 0.0087 - val_loss: 0.0077 - val_mse: 0.0077\n",
      "Epoch 6/30\n",
      "33/33 [==============================] - 0s 11ms/step - loss: 0.0085 - mse: 0.0085 - val_loss: 0.0079 - val_mse: 0.0079\n",
      "Epoch 7/30\n",
      "33/33 [==============================] - 0s 11ms/step - loss: 0.0085 - mse: 0.0085 - val_loss: 0.0078 - val_mse: 0.0078\n",
      "Epoch 8/30\n",
      "33/33 [==============================] - 0s 10ms/step - loss: 0.0085 - mse: 0.0085 - val_loss: 0.0074 - val_mse: 0.0074\n",
      "Epoch 9/30\n",
      "33/33 [==============================] - 0s 11ms/step - loss: 0.0083 - mse: 0.0083 - val_loss: 0.0083 - val_mse: 0.0083\n",
      "Epoch 10/30\n",
      "33/33 [==============================] - 0s 10ms/step - loss: 0.0083 - mse: 0.0083 - val_loss: 0.0074 - val_mse: 0.0074\n",
      "Epoch 11/30\n",
      "33/33 [==============================] - 0s 10ms/step - loss: 0.0082 - mse: 0.0082 - val_loss: 0.0075 - val_mse: 0.0075\n",
      "Epoch 12/30\n",
      "33/33 [==============================] - 0s 10ms/step - loss: 0.0081 - mse: 0.0081 - val_loss: 0.0076 - val_mse: 0.0076\n",
      "Epoch 13/30\n",
      "33/33 [==============================] - 0s 11ms/step - loss: 0.0081 - mse: 0.0081 - val_loss: 0.0079 - val_mse: 0.0079\n",
      "Epoch 14/30\n",
      "33/33 [==============================] - 0s 11ms/step - loss: 0.0082 - mse: 0.0082 - val_loss: 0.0077 - val_mse: 0.0077\n",
      "Epoch 15/30\n",
      "33/33 [==============================] - 0s 10ms/step - loss: 0.0080 - mse: 0.0080 - val_loss: 0.0075 - val_mse: 0.0075\n",
      "Epoch 16/30\n",
      "33/33 [==============================] - 0s 11ms/step - loss: 0.0079 - mse: 0.0079 - val_loss: 0.0075 - val_mse: 0.0075\n",
      "Epoch 17/30\n",
      "33/33 [==============================] - 0s 10ms/step - loss: 0.0080 - mse: 0.0080 - val_loss: 0.0075 - val_mse: 0.0075\n",
      "Epoch 18/30\n",
      "33/33 [==============================] - 0s 11ms/step - loss: 0.0079 - mse: 0.0079 - val_loss: 0.0076 - val_mse: 0.0076\n",
      "Epoch 19/30\n",
      "33/33 [==============================] - 0s 11ms/step - loss: 0.0078 - mse: 0.0078 - val_loss: 0.0073 - val_mse: 0.0073\n",
      "Epoch 20/30\n",
      "33/33 [==============================] - 0s 11ms/step - loss: 0.0080 - mse: 0.0080 - val_loss: 0.0080 - val_mse: 0.0080\n",
      "Epoch 21/30\n",
      "33/33 [==============================] - 0s 11ms/step - loss: 0.0080 - mse: 0.0080 - val_loss: 0.0075 - val_mse: 0.0075\n",
      "Epoch 22/30\n",
      "33/33 [==============================] - 0s 11ms/step - loss: 0.0078 - mse: 0.0078 - val_loss: 0.0075 - val_mse: 0.0075\n",
      "Epoch 23/30\n",
      "33/33 [==============================] - 0s 11ms/step - loss: 0.0078 - mse: 0.0078 - val_loss: 0.0076 - val_mse: 0.0076\n",
      "Epoch 24/30\n",
      "33/33 [==============================] - 0s 11ms/step - loss: 0.0079 - mse: 0.0079 - val_loss: 0.0075 - val_mse: 0.0075\n",
      "Epoch 25/30\n",
      "33/33 [==============================] - 0s 11ms/step - loss: 0.0076 - mse: 0.0076 - val_loss: 0.0076 - val_mse: 0.0076\n",
      "Epoch 26/30\n",
      "33/33 [==============================] - 0s 11ms/step - loss: 0.0078 - mse: 0.0078 - val_loss: 0.0082 - val_mse: 0.0082\n",
      "Epoch 27/30\n",
      "33/33 [==============================] - 0s 11ms/step - loss: 0.0078 - mse: 0.0078 - val_loss: 0.0079 - val_mse: 0.0079\n",
      "Epoch 28/30\n",
      "33/33 [==============================] - 0s 11ms/step - loss: 0.0076 - mse: 0.0076 - val_loss: 0.0079 - val_mse: 0.0079\n",
      "Epoch 29/30\n",
      "33/33 [==============================] - 0s 10ms/step - loss: 0.0076 - mse: 0.0076 - val_loss: 0.0078 - val_mse: 0.0078\n",
      "Epoch 30/30\n",
      "33/33 [==============================] - 0s 11ms/step - loss: 0.0074 - mse: 0.0074 - val_loss: 0.0079 - val_mse: 0.0079\n"
     ]
    },
    {
     "data": {
      "text/plain": [
       "<keras.callbacks.History at 0x27b28b85240>"
      ]
     },
     "execution_count": 31,
     "metadata": {},
     "output_type": "execute_result"
    }
   ],
   "source": [
    "# Fit the model\n",
    "model.compile(loss=MeanSquaredError(), optimizer=Adam(learning_rate = 0.01), metrics = ['mse'])\n",
    "model.fit(X_train,\n",
    "          y_train,\n",
    "          batch_size=100,\n",
    "          epochs=30,\n",
    "          verbose='auto',\n",
    "          callbacks=None,\n",
    "          validation_split=0.1,\n",
    "          shuffle=True)"
   ]
  },
  {
   "cell_type": "code",
   "execution_count": 32,
   "id": "881a1c18",
   "metadata": {
    "id": "881a1c18",
    "outputId": "2e999896-72ae-4c03-adec-032940ce0661"
   },
   "outputs": [
    {
     "name": "stdout",
     "output_type": "stream",
     "text": [
      "114/114 [==============================] - 0s 2ms/step\n",
      "28/28 [==============================] - 0s 2ms/step\n",
      "mean_squared_error\n",
      "train set: 0.007447658622958811\n",
      "test set: 0.007617786699015383\n"
     ]
    }
   ],
   "source": [
    "# save trained model\n",
    "# model.save('./LSTM/models_daily_v2/' + model_name)\n",
    "# evaluate the model\n",
    "from sklearn.metrics import mean_squared_error\n",
    "\n",
    "y_hat_train = model.predict(X_train)\n",
    "y_hat_test = model.predict(X_test)\n",
    "\n",
    "print('mean_squared_error')\n",
    "print('train set:', mean_squared_error(y_train, y_hat_train, sample_weight=None))\n",
    "print('test set:', mean_squared_error(y_test, y_hat_test, sample_weight=None))"
   ]
  },
  {
   "cell_type": "markdown",
   "id": "d3831d94-ee92-4320-9e24-4420a9546a62",
   "metadata": {},
   "source": [
    "# Comparing different activation functions in LSTM layer"
   ]
  },
  {
   "cell_type": "code",
   "execution_count": 33,
   "id": "5b9b8df2-e7d5-4301-a1a0-d35b939b0c84",
   "metadata": {},
   "outputs": [],
   "source": [
    "model_2 = MyModel(input_shape = (seq_len, n_features), output_shape = (forecast_len), activation_type='relu', name = 'LSTM_40-10_relu')\n",
    "model_3 = MyModel(input_shape = (seq_len, n_features), output_shape = (forecast_len), activation_type='softmax', name = 'LSTM_40-10_softmax')"
   ]
  },
  {
   "cell_type": "code",
   "execution_count": 34,
   "id": "c1e941af-c701-4c5b-a8d1-83e12101631c",
   "metadata": {},
   "outputs": [
    {
     "name": "stdout",
     "output_type": "stream",
     "text": [
      "Epoch 1/30\n",
      "33/33 [==============================] - 1s 15ms/step - loss: 0.0237 - mse: 0.0237 - val_loss: 0.0187 - val_mse: 0.0187\n",
      "Epoch 2/30\n",
      "33/33 [==============================] - 0s 9ms/step - loss: 0.0114 - mse: 0.0114 - val_loss: 0.0086 - val_mse: 0.0086\n",
      "Epoch 3/30\n",
      "33/33 [==============================] - 0s 9ms/step - loss: 0.0096 - mse: 0.0096 - val_loss: 0.0084 - val_mse: 0.0084\n",
      "Epoch 4/30\n",
      "33/33 [==============================] - 0s 9ms/step - loss: 0.0093 - mse: 0.0093 - val_loss: 0.0081 - val_mse: 0.0081\n",
      "Epoch 5/30\n",
      "33/33 [==============================] - 0s 9ms/step - loss: 0.0091 - mse: 0.0091 - val_loss: 0.0082 - val_mse: 0.0082\n",
      "Epoch 6/30\n",
      "33/33 [==============================] - 0s 9ms/step - loss: 0.0089 - mse: 0.0089 - val_loss: 0.0077 - val_mse: 0.0077\n",
      "Epoch 7/30\n",
      "33/33 [==============================] - 0s 9ms/step - loss: 0.0089 - mse: 0.0089 - val_loss: 0.0076 - val_mse: 0.0076\n",
      "Epoch 8/30\n",
      "33/33 [==============================] - 0s 9ms/step - loss: 0.0087 - mse: 0.0087 - val_loss: 0.0076 - val_mse: 0.0076\n",
      "Epoch 9/30\n",
      "33/33 [==============================] - 0s 9ms/step - loss: 0.0086 - mse: 0.0086 - val_loss: 0.0079 - val_mse: 0.0079\n",
      "Epoch 10/30\n",
      "33/33 [==============================] - 0s 9ms/step - loss: 0.0086 - mse: 0.0086 - val_loss: 0.0076 - val_mse: 0.0076\n",
      "Epoch 11/30\n",
      "33/33 [==============================] - 0s 9ms/step - loss: 0.0085 - mse: 0.0085 - val_loss: 0.0075 - val_mse: 0.0075\n",
      "Epoch 12/30\n",
      "33/33 [==============================] - 0s 9ms/step - loss: 0.0084 - mse: 0.0084 - val_loss: 0.0076 - val_mse: 0.0076\n",
      "Epoch 13/30\n",
      "33/33 [==============================] - 0s 9ms/step - loss: 0.0085 - mse: 0.0085 - val_loss: 0.0075 - val_mse: 0.0075\n",
      "Epoch 14/30\n",
      "33/33 [==============================] - 0s 9ms/step - loss: 0.0082 - mse: 0.0082 - val_loss: 0.0076 - val_mse: 0.0076\n",
      "Epoch 15/30\n",
      "33/33 [==============================] - 0s 9ms/step - loss: 0.0083 - mse: 0.0083 - val_loss: 0.0079 - val_mse: 0.0079\n",
      "Epoch 16/30\n",
      "33/33 [==============================] - 0s 9ms/step - loss: 0.0081 - mse: 0.0081 - val_loss: 0.0073 - val_mse: 0.0073\n",
      "Epoch 17/30\n",
      "33/33 [==============================] - 0s 9ms/step - loss: 0.0081 - mse: 0.0081 - val_loss: 0.0075 - val_mse: 0.0075\n",
      "Epoch 18/30\n",
      "33/33 [==============================] - 0s 10ms/step - loss: 0.0081 - mse: 0.0081 - val_loss: 0.0078 - val_mse: 0.0078\n",
      "Epoch 19/30\n",
      "33/33 [==============================] - 0s 9ms/step - loss: 0.0082 - mse: 0.0082 - val_loss: 0.0074 - val_mse: 0.0074\n",
      "Epoch 20/30\n",
      "33/33 [==============================] - 0s 9ms/step - loss: 0.0083 - mse: 0.0083 - val_loss: 0.0076 - val_mse: 0.0076\n",
      "Epoch 21/30\n",
      "33/33 [==============================] - 0s 9ms/step - loss: 0.0083 - mse: 0.0083 - val_loss: 0.0077 - val_mse: 0.0077\n",
      "Epoch 22/30\n",
      "33/33 [==============================] - 0s 9ms/step - loss: 0.0080 - mse: 0.0080 - val_loss: 0.0076 - val_mse: 0.0076\n",
      "Epoch 23/30\n",
      "33/33 [==============================] - 0s 9ms/step - loss: 0.0079 - mse: 0.0079 - val_loss: 0.0079 - val_mse: 0.0079\n",
      "Epoch 24/30\n",
      "33/33 [==============================] - 0s 9ms/step - loss: 0.0079 - mse: 0.0079 - val_loss: 0.0073 - val_mse: 0.0073\n",
      "Epoch 25/30\n",
      "33/33 [==============================] - 0s 9ms/step - loss: 0.0079 - mse: 0.0079 - val_loss: 0.0074 - val_mse: 0.0074\n",
      "Epoch 26/30\n",
      "33/33 [==============================] - 0s 9ms/step - loss: 0.0079 - mse: 0.0079 - val_loss: 0.0073 - val_mse: 0.0073\n",
      "Epoch 27/30\n",
      "33/33 [==============================] - 0s 9ms/step - loss: 0.0078 - mse: 0.0078 - val_loss: 0.0074 - val_mse: 0.0074\n",
      "Epoch 28/30\n",
      "33/33 [==============================] - 0s 9ms/step - loss: 0.0078 - mse: 0.0078 - val_loss: 0.0080 - val_mse: 0.0080\n",
      "Epoch 29/30\n",
      "33/33 [==============================] - 0s 9ms/step - loss: 0.0078 - mse: 0.0078 - val_loss: 0.0078 - val_mse: 0.0078\n",
      "Epoch 30/30\n",
      "33/33 [==============================] - 0s 9ms/step - loss: 0.0079 - mse: 0.0079 - val_loss: 0.0076 - val_mse: 0.0076\n"
     ]
    },
    {
     "data": {
      "text/plain": [
       "<keras.callbacks.History at 0x27b26465450>"
      ]
     },
     "execution_count": 34,
     "metadata": {},
     "output_type": "execute_result"
    }
   ],
   "source": [
    "model_2.compile(loss=MeanSquaredError(), optimizer=Adam(learning_rate = 0.01), metrics = ['mse'])\n",
    "model_2.fit(X_train,\n",
    "          y_train,\n",
    "          batch_size=100,\n",
    "          epochs=30,\n",
    "          verbose='auto',\n",
    "          callbacks=None,\n",
    "          validation_split=0.1,\n",
    "          shuffle=True)"
   ]
  },
  {
   "cell_type": "code",
   "execution_count": 35,
   "id": "96c44fb9-ba4d-40b4-9d01-8b81d9bd9046",
   "metadata": {},
   "outputs": [
    {
     "name": "stdout",
     "output_type": "stream",
     "text": [
      "Epoch 1/40\n",
      "33/33 [==============================] - 1s 15ms/step - loss: 0.0392 - mse: 0.0392 - val_loss: 0.0318 - val_mse: 0.0318\n",
      "Epoch 2/40\n",
      "33/33 [==============================] - 0s 9ms/step - loss: 0.0238 - mse: 0.0238 - val_loss: 0.0172 - val_mse: 0.0172\n",
      "Epoch 3/40\n",
      "33/33 [==============================] - 0s 9ms/step - loss: 0.0138 - mse: 0.0138 - val_loss: 0.0122 - val_mse: 0.0122\n",
      "Epoch 4/40\n",
      "33/33 [==============================] - 0s 9ms/step - loss: 0.0107 - mse: 0.0107 - val_loss: 0.0093 - val_mse: 0.0093\n",
      "Epoch 5/40\n",
      "33/33 [==============================] - 0s 9ms/step - loss: 0.0095 - mse: 0.0095 - val_loss: 0.0086 - val_mse: 0.0086\n",
      "Epoch 6/40\n",
      "33/33 [==============================] - 0s 9ms/step - loss: 0.0092 - mse: 0.0092 - val_loss: 0.0082 - val_mse: 0.0082\n",
      "Epoch 7/40\n",
      "33/33 [==============================] - 0s 9ms/step - loss: 0.0090 - mse: 0.0090 - val_loss: 0.0081 - val_mse: 0.0081\n",
      "Epoch 8/40\n",
      "33/33 [==============================] - 0s 9ms/step - loss: 0.0089 - mse: 0.0089 - val_loss: 0.0081 - val_mse: 0.0081\n",
      "Epoch 9/40\n",
      "33/33 [==============================] - 0s 9ms/step - loss: 0.0088 - mse: 0.0088 - val_loss: 0.0080 - val_mse: 0.0080\n",
      "Epoch 10/40\n",
      "33/33 [==============================] - 0s 9ms/step - loss: 0.0087 - mse: 0.0087 - val_loss: 0.0079 - val_mse: 0.0079\n",
      "Epoch 11/40\n",
      "33/33 [==============================] - 0s 9ms/step - loss: 0.0087 - mse: 0.0087 - val_loss: 0.0079 - val_mse: 0.0079\n",
      "Epoch 12/40\n",
      "33/33 [==============================] - 0s 9ms/step - loss: 0.0086 - mse: 0.0086 - val_loss: 0.0083 - val_mse: 0.0083\n",
      "Epoch 13/40\n",
      "33/33 [==============================] - 0s 9ms/step - loss: 0.0087 - mse: 0.0087 - val_loss: 0.0078 - val_mse: 0.0078\n",
      "Epoch 14/40\n",
      "33/33 [==============================] - 0s 9ms/step - loss: 0.0085 - mse: 0.0085 - val_loss: 0.0078 - val_mse: 0.0078\n",
      "Epoch 15/40\n",
      "33/33 [==============================] - 0s 9ms/step - loss: 0.0085 - mse: 0.0085 - val_loss: 0.0080 - val_mse: 0.0080\n",
      "Epoch 16/40\n",
      "33/33 [==============================] - 0s 9ms/step - loss: 0.0085 - mse: 0.0085 - val_loss: 0.0078 - val_mse: 0.0078\n",
      "Epoch 17/40\n",
      "33/33 [==============================] - 0s 9ms/step - loss: 0.0085 - mse: 0.0085 - val_loss: 0.0078 - val_mse: 0.0078\n",
      "Epoch 18/40\n",
      "33/33 [==============================] - 0s 9ms/step - loss: 0.0084 - mse: 0.0084 - val_loss: 0.0078 - val_mse: 0.0078\n",
      "Epoch 19/40\n",
      "33/33 [==============================] - 0s 9ms/step - loss: 0.0085 - mse: 0.0085 - val_loss: 0.0077 - val_mse: 0.0077\n",
      "Epoch 20/40\n",
      "33/33 [==============================] - 0s 9ms/step - loss: 0.0085 - mse: 0.0085 - val_loss: 0.0080 - val_mse: 0.0080\n",
      "Epoch 21/40\n",
      "33/33 [==============================] - 0s 9ms/step - loss: 0.0084 - mse: 0.0084 - val_loss: 0.0077 - val_mse: 0.0077\n",
      "Epoch 22/40\n",
      "33/33 [==============================] - 0s 9ms/step - loss: 0.0084 - mse: 0.0084 - val_loss: 0.0077 - val_mse: 0.0077\n",
      "Epoch 23/40\n",
      "33/33 [==============================] - 0s 9ms/step - loss: 0.0084 - mse: 0.0084 - val_loss: 0.0086 - val_mse: 0.0086\n",
      "Epoch 24/40\n",
      "33/33 [==============================] - 0s 9ms/step - loss: 0.0087 - mse: 0.0087 - val_loss: 0.0077 - val_mse: 0.0077\n",
      "Epoch 25/40\n",
      "33/33 [==============================] - 0s 9ms/step - loss: 0.0083 - mse: 0.0083 - val_loss: 0.0080 - val_mse: 0.0080\n",
      "Epoch 26/40\n",
      "33/33 [==============================] - 0s 9ms/step - loss: 0.0084 - mse: 0.0084 - val_loss: 0.0081 - val_mse: 0.0081\n",
      "Epoch 27/40\n",
      "33/33 [==============================] - 0s 9ms/step - loss: 0.0083 - mse: 0.0083 - val_loss: 0.0077 - val_mse: 0.0077\n",
      "Epoch 28/40\n",
      "33/33 [==============================] - 0s 9ms/step - loss: 0.0083 - mse: 0.0083 - val_loss: 0.0078 - val_mse: 0.0078\n",
      "Epoch 29/40\n",
      "33/33 [==============================] - 0s 9ms/step - loss: 0.0083 - mse: 0.0083 - val_loss: 0.0077 - val_mse: 0.0077\n",
      "Epoch 30/40\n",
      "33/33 [==============================] - 0s 9ms/step - loss: 0.0083 - mse: 0.0083 - val_loss: 0.0082 - val_mse: 0.0082\n",
      "Epoch 31/40\n",
      "33/33 [==============================] - 0s 10ms/step - loss: 0.0084 - mse: 0.0084 - val_loss: 0.0083 - val_mse: 0.0083\n",
      "Epoch 32/40\n",
      "33/33 [==============================] - 0s 9ms/step - loss: 0.0083 - mse: 0.0083 - val_loss: 0.0077 - val_mse: 0.0077\n",
      "Epoch 33/40\n",
      "33/33 [==============================] - 0s 9ms/step - loss: 0.0083 - mse: 0.0083 - val_loss: 0.0078 - val_mse: 0.0078\n",
      "Epoch 34/40\n",
      "33/33 [==============================] - 0s 9ms/step - loss: 0.0083 - mse: 0.0083 - val_loss: 0.0079 - val_mse: 0.0079\n",
      "Epoch 35/40\n",
      "33/33 [==============================] - 0s 9ms/step - loss: 0.0082 - mse: 0.0082 - val_loss: 0.0078 - val_mse: 0.0078\n",
      "Epoch 36/40\n",
      "33/33 [==============================] - 0s 9ms/step - loss: 0.0083 - mse: 0.0083 - val_loss: 0.0076 - val_mse: 0.0076\n",
      "Epoch 37/40\n",
      "33/33 [==============================] - 0s 9ms/step - loss: 0.0083 - mse: 0.0083 - val_loss: 0.0077 - val_mse: 0.0077\n",
      "Epoch 38/40\n",
      "33/33 [==============================] - 0s 9ms/step - loss: 0.0082 - mse: 0.0082 - val_loss: 0.0077 - val_mse: 0.0077\n",
      "Epoch 39/40\n",
      "33/33 [==============================] - 0s 9ms/step - loss: 0.0082 - mse: 0.0082 - val_loss: 0.0079 - val_mse: 0.0079\n",
      "Epoch 40/40\n",
      "33/33 [==============================] - 0s 9ms/step - loss: 0.0082 - mse: 0.0082 - val_loss: 0.0080 - val_mse: 0.0080\n"
     ]
    },
    {
     "data": {
      "text/plain": [
       "<keras.callbacks.History at 0x27b26a127d0>"
      ]
     },
     "execution_count": 35,
     "metadata": {},
     "output_type": "execute_result"
    }
   ],
   "source": [
    "model_3.compile(loss=MeanSquaredError(), optimizer=Adam(learning_rate = 0.01), metrics = ['mse'])\n",
    "model_3.fit(X_train,\n",
    "          y_train,\n",
    "          batch_size=100,\n",
    "          epochs=40,\n",
    "          verbose='auto',\n",
    "          callbacks=None,\n",
    "          validation_split=0.1,\n",
    "          shuffle=True)"
   ]
  },
  {
   "cell_type": "code",
   "execution_count": 40,
   "id": "835da065",
   "metadata": {
    "id": "835da065"
   },
   "outputs": [
    {
     "name": "stdout",
     "output_type": "stream",
     "text": [
      "28/28 [==============================] - 0s 2ms/step\n",
      "28/28 [==============================] - 0s 1ms/step\n",
      "28/28 [==============================] - 0s 2ms/step\n"
     ]
    },
    {
     "data": {
      "image/png": "[encoded data removed]",
      "text/plain": [
       "<Figure size 900x600 with 2 Axes>"
      ]
     },
     "metadata": {},
     "output_type": "display_data"
    },
    {
     "data": {
      "text/plain": [
       "<Figure size 640x480 with 0 Axes>"
      ]
     },
     "metadata": {},
     "output_type": "display_data"
    }
   ],
   "source": [
    "y_hat_test = model.predict(X_test)\n",
    "y_hat_test_relu = model_2.predict(X_test)\n",
    "y_hat_test_softmax = model_3.predict(X_test)\n",
    "i,j = np.random.randint(low=0, high=y_test.shape[0], size=(2,))\n",
    "\n",
    "# convert back to real temperatures\n",
    "scalar2 = MinMaxScaler()\n",
    "scalar2.min_, scalar2.scale_ = scaler.min_[3], scaler.scale_[3]\n",
    "t_test = scalar2.inverse_transform(y_test)\n",
    "t_hat_test_relu = scalar2.inverse_transform(y_hat_test_relu)\n",
    "t_hat_test_softmax = scalar2.inverse_transform(y_hat_test_softmax)\n",
    "t_hat_test = scalar2.inverse_transform(y_hat_test)\n",
    "\n",
    "fig, (ax1, ax2) = plt.subplots(2, 1, figsize=(9,6))\n",
    "fig.suptitle('Different types of activation function in LSTM')\n",
    "\n",
    "l1, = ax1.plot(np.arange(1,forecast_len+1) , t_test[j,:], 'ko--', label = 'true value')\n",
    "l2, = ax1.plot(np.arange(1,forecast_len+1),t_hat_test[j,:], 'rx--', label='tanh')\n",
    "l3, = ax1.plot(np.arange(1,forecast_len+1),t_hat_test_relu[j,:], 'g.--', label='relu')\n",
    "l4, = ax1.plot(np.arange(1,forecast_len+1),t_hat_test_softmax[j,:], 'b.--', label='softmax')\n",
    "ax1.set_ylabel(str(np.asarray(df['Time'].dt.date)[train.shape[0] + j]))\n",
    "\n",
    "\n",
    "ax2.plot(np.arange(1,forecast_len+1) , t_test[i,:], 'ko--', label = 'true value')\n",
    "ax2.plot(np.arange(1,forecast_len+1),t_hat_test[i,:], 'rx--', label='tanh')\n",
    "ax2.plot(np.arange(1,forecast_len+1),t_hat_test_relu[i,:], 'g.--', label='relu')\n",
    "ax2.plot(np.arange(1,forecast_len+1),t_hat_test_softmax[i,:], 'b.--', label='softmax')\n",
    "ax2.set_ylabel(str(np.asarray(df['Time'].dt.date)[train.shape[0] + i]))\n",
    "ax2.set_xlabel('day (s)')\n",
    "fig.legend([l1,l2,l3,l4],[\"true value\", \"tanh\", \"relu\", \"softmax\"], loc=\"outside upper right\")\n",
    "plt.show()\n",
    "plt.savefig(\"./activation_comp.png\") "
   ]
  },
  {
   "cell_type": "code",
   "execution_count": null,
   "id": "aa9fd52f-6089-4492-9b3b-c99b82437fcd",
   "metadata": {},
   "outputs": [],
   "source": []
  }
 ],
 "metadata": {
  "colab": {
   "provenance": []
  },
  "kernelspec": {
   "display_name": "Python 3 (ipykernel)",
   "language": "python",
   "name": "python3"
  },
  "language_info": {
   "codemirror_mode": {
    "name": "ipython",
    "version": 3
   },
   "file_extension": ".py",
   "mimetype": "text/x-python",
   "name": "python",
   "nbconvert_exporter": "python",
   "pygments_lexer": "ipython3",
   "version": "3.10.13"
  }
 },
 "nbformat": 4,
 "nbformat_minor": 5
}
