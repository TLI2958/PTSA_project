{
 "cells": [
  {
   "cell_type": "code",
   "execution_count": 1,
   "id": "3788ae25",
   "metadata": {},
   "outputs": [],
   "source": [
    "import warnings\n",
    "warnings.filterwarnings('ignore')\n",
    "\n",
    "import numpy as np\n",
    "import pandas as pd\n",
    "import matplotlib.pyplot as plt\n",
    "import seaborn as sns\n",
    "import tensorflow as tf"
   ]
  },
  {
   "cell_type": "code",
   "execution_count": 2,
   "id": "f7ec7b6f",
   "metadata": {},
   "outputs": [
    {
     "name": "stdout",
     "output_type": "stream",
     "text": [
      "[PhysicalDevice(name='/physical_device:CPU:0', device_type='CPU')]\n",
      "WARNING:tensorflow:From C:\\Users\\dujy0\\AppData\\Local\\Temp\\ipykernel_24412\\4004085722.py:13: is_gpu_available (from tensorflow.python.framework.test_util) is deprecated and will be removed in a future version.\n",
      "Instructions for updating:\n",
      "Use `tf.config.list_physical_devices('GPU')` instead.\n",
      "\n",
      "CUDA GPU: False\n"
     ]
    }
   ],
   "source": [
    "# Check for GPU\n",
    "import tensorflow as tf\n",
    "try:\n",
    "    from google.colab import drive\n",
    "    IN_COLAB=True\n",
    "except:\n",
    "    IN_COLAB=False\n",
    "\n",
    "if IN_COLAB:\n",
    "    print(\"We're running Colab\")\n",
    "else:\n",
    "    print(tf.config.list_physical_devices())\n",
    "    print('\\nCUDA GPU: ' + str(tf.test.is_gpu_available(cuda_only=True)))"
   ]
  },
  {
   "cell_type": "markdown",
   "id": "1f0ebbfa",
   "metadata": {},
   "source": [
    "# Data Preprocessing"
   ]
  },
  {
   "cell_type": "code",
   "execution_count": 3,
   "id": "825068e6",
   "metadata": {},
   "outputs": [],
   "source": [
    "import os\n",
    "os.chdir('..')\n",
    "\n",
    "df = pd.read_csv('./hourly02-ithaca/hourly02-NY_Ithaca_13_E.csv', header = 0, index_col = 0)"
   ]
  },
  {
   "cell_type": "code",
   "execution_count": 5,
   "id": "fa511986",
   "metadata": {},
   "outputs": [],
   "source": [
    "Date = pd.to_datetime(df.UTC_DATE, format='%Y%m%d', errors='coerce')\n",
    "+ pd.to_timedelta(df.UTC_TIME//100, unit = 'hours')\n",
    "df['Time'] = Date"
   ]
  },
  {
   "cell_type": "code",
   "execution_count": 6,
   "id": "ec34f475",
   "metadata": {},
   "outputs": [
    {
     "data": {
      "text/plain": [
       "Index(['WBANNO', 'UTC_DATE', 'UTC_TIME', 'LST_DATE', 'LST_TIME', 'CRX_VN',\n",
       "       'LONGITUDE', 'LATITUDE', 'T_CALC', 'T_HR_AVG', 'T_MAX', 'T_MIN',\n",
       "       'P_CALC', 'SOLARAD', 'SOLARAD_FLAG', 'SOLARAD_MAX', 'SOLARAD_MAX_FLAG',\n",
       "       'SOLARAD_MIN', 'SOLARAD_MIN_FLAG', 'SUR_TEMP_TYPE', 'SUR_TEMP',\n",
       "       'SUR_TEMP_FLAG', 'SUR_TEMP_MAX', 'SUR_TEMP_MAX_FLAG', 'SUR_TEMP_MIN',\n",
       "       'SUR_TEMP_MIN_FLAG', 'RH_HR_AVG', 'RH_HR_AVG_FLAG', 'SOIL_MOISTURE_5',\n",
       "       'SOIL_MOISTURE_10', 'SOIL_MOISTURE_20', 'SOIL_MOISTURE_50',\n",
       "       'SOIL_MOISTURE_100', 'SOIL_TEMP_5', 'SOIL_TEMP_10', 'SOIL_TEMP_20',\n",
       "       'SOIL_TEMP_50', 'SOIL_TEMP_100', 'Time'],\n",
       "      dtype='object')"
      ]
     },
     "execution_count": 6,
     "metadata": {},
     "output_type": "execute_result"
    }
   ],
   "source": [
    "df.columns"
   ]
  },
  {
   "cell_type": "code",
   "execution_count": 7,
   "id": "ef4cc5e3",
   "metadata": {},
   "outputs": [],
   "source": [
    "data = df[['T_CALC', 'T_HR_AVG', 'T_MAX', 'T_MIN',\n",
    "       'P_CALC', 'SOLARAD', 'SOLARAD_MAX',\n",
    "       'SOLARAD_MIN', 'SUR_TEMP',\n",
    "           'SUR_TEMP_MAX', 'SUR_TEMP_MIN', 'RH_HR_AVG']]"
   ]
  },
  {
   "cell_type": "code",
   "execution_count": 8,
   "id": "8058f298",
   "metadata": {},
   "outputs": [],
   "source": [
    "data.index = df['Time']"
   ]
  },
  {
   "cell_type": "code",
   "execution_count": 9,
   "id": "eb188d49",
   "metadata": {},
   "outputs": [
    {
     "data": {
      "text/plain": [
       "T_CALC         -30.8\n",
       "T_HR_AVG       -29.3\n",
       "T_MAX          -28.4\n",
       "T_MIN          -30.9\n",
       "P_CALC           0.0\n",
       "SOLARAD          0.0\n",
       "SOLARAD_MAX      0.0\n",
       "SOLARAD_MIN      0.0\n",
       "SUR_TEMP       -35.8\n",
       "SUR_TEMP_MAX   -61.0\n",
       "SUR_TEMP_MIN   -36.0\n",
       "RH_HR_AVG        0.0\n",
       "dtype: float64"
      ]
     },
     "execution_count": 9,
     "metadata": {},
     "output_type": "execute_result"
    }
   ],
   "source": [
    "# check for N/A\n",
    "data.min()"
   ]
  },
  {
   "cell_type": "code",
   "execution_count": 10,
   "id": "aba2a471",
   "metadata": {},
   "outputs": [
    {
     "data": {
      "text/html": [
       "<div>\n",
       "<style scoped>\n",
       "    .dataframe tbody tr th:only-of-type {\n",
       "        vertical-align: middle;\n",
       "    }\n",
       "\n",
       "    .dataframe tbody tr th {\n",
       "        vertical-align: top;\n",
       "    }\n",
       "\n",
       "    .dataframe thead th {\n",
       "        text-align: right;\n",
       "    }\n",
       "</style>\n",
       "<table border=\"1\" class=\"dataframe\">\n",
       "  <thead>\n",
       "    <tr style=\"text-align: right;\">\n",
       "      <th></th>\n",
       "      <th>T_CALC</th>\n",
       "      <th>T_HR_AVG</th>\n",
       "      <th>T_MAX</th>\n",
       "      <th>T_MIN</th>\n",
       "      <th>P_CALC</th>\n",
       "      <th>SOLARAD</th>\n",
       "      <th>SOLARAD_MAX</th>\n",
       "      <th>SOLARAD_MIN</th>\n",
       "      <th>SUR_TEMP</th>\n",
       "      <th>SUR_TEMP_MAX</th>\n",
       "      <th>SUR_TEMP_MIN</th>\n",
       "      <th>RH_HR_AVG</th>\n",
       "    </tr>\n",
       "    <tr>\n",
       "      <th>Time</th>\n",
       "      <th></th>\n",
       "      <th></th>\n",
       "      <th></th>\n",
       "      <th></th>\n",
       "      <th></th>\n",
       "      <th></th>\n",
       "      <th></th>\n",
       "      <th></th>\n",
       "      <th></th>\n",
       "      <th></th>\n",
       "      <th></th>\n",
       "      <th></th>\n",
       "    </tr>\n",
       "  </thead>\n",
       "  <tbody>\n",
       "    <tr>\n",
       "      <th>2004-10-27</th>\n",
       "      <td>NaN</td>\n",
       "      <td>NaN</td>\n",
       "      <td>NaN</td>\n",
       "      <td>NaN</td>\n",
       "      <td>NaN</td>\n",
       "      <td>27.0</td>\n",
       "      <td>NaN</td>\n",
       "      <td>NaN</td>\n",
       "      <td>8.8</td>\n",
       "      <td>NaN</td>\n",
       "      <td>NaN</td>\n",
       "      <td>0.0</td>\n",
       "    </tr>\n",
       "    <tr>\n",
       "      <th>2004-10-27</th>\n",
       "      <td>NaN</td>\n",
       "      <td>NaN</td>\n",
       "      <td>NaN</td>\n",
       "      <td>NaN</td>\n",
       "      <td>NaN</td>\n",
       "      <td>0.0</td>\n",
       "      <td>NaN</td>\n",
       "      <td>NaN</td>\n",
       "      <td>6.7</td>\n",
       "      <td>NaN</td>\n",
       "      <td>NaN</td>\n",
       "      <td>0.0</td>\n",
       "    </tr>\n",
       "    <tr>\n",
       "      <th>2004-10-28</th>\n",
       "      <td>7.8</td>\n",
       "      <td>7.6</td>\n",
       "      <td>8.0</td>\n",
       "      <td>7.3</td>\n",
       "      <td>0.0</td>\n",
       "      <td>0.0</td>\n",
       "      <td>NaN</td>\n",
       "      <td>NaN</td>\n",
       "      <td>6.1</td>\n",
       "      <td>NaN</td>\n",
       "      <td>NaN</td>\n",
       "      <td>0.0</td>\n",
       "    </tr>\n",
       "    <tr>\n",
       "      <th>2004-10-28</th>\n",
       "      <td>6.5</td>\n",
       "      <td>7.0</td>\n",
       "      <td>7.8</td>\n",
       "      <td>6.5</td>\n",
       "      <td>0.0</td>\n",
       "      <td>0.0</td>\n",
       "      <td>NaN</td>\n",
       "      <td>NaN</td>\n",
       "      <td>5.6</td>\n",
       "      <td>NaN</td>\n",
       "      <td>NaN</td>\n",
       "      <td>0.0</td>\n",
       "    </tr>\n",
       "    <tr>\n",
       "      <th>2004-10-28</th>\n",
       "      <td>5.4</td>\n",
       "      <td>6.2</td>\n",
       "      <td>6.5</td>\n",
       "      <td>5.4</td>\n",
       "      <td>0.0</td>\n",
       "      <td>0.0</td>\n",
       "      <td>NaN</td>\n",
       "      <td>NaN</td>\n",
       "      <td>5.0</td>\n",
       "      <td>NaN</td>\n",
       "      <td>NaN</td>\n",
       "      <td>0.0</td>\n",
       "    </tr>\n",
       "    <tr>\n",
       "      <th>...</th>\n",
       "      <td>...</td>\n",
       "      <td>...</td>\n",
       "      <td>...</td>\n",
       "      <td>...</td>\n",
       "      <td>...</td>\n",
       "      <td>...</td>\n",
       "      <td>...</td>\n",
       "      <td>...</td>\n",
       "      <td>...</td>\n",
       "      <td>...</td>\n",
       "      <td>...</td>\n",
       "      <td>...</td>\n",
       "    </tr>\n",
       "    <tr>\n",
       "      <th>2023-11-06</th>\n",
       "      <td>1.1</td>\n",
       "      <td>1.3</td>\n",
       "      <td>2.1</td>\n",
       "      <td>0.3</td>\n",
       "      <td>0.0</td>\n",
       "      <td>0.0</td>\n",
       "      <td>0.0</td>\n",
       "      <td>0.0</td>\n",
       "      <td>-1.6</td>\n",
       "      <td>-0.9</td>\n",
       "      <td>-2.0</td>\n",
       "      <td>76.0</td>\n",
       "    </tr>\n",
       "    <tr>\n",
       "      <th>2023-11-06</th>\n",
       "      <td>-0.1</td>\n",
       "      <td>0.0</td>\n",
       "      <td>1.0</td>\n",
       "      <td>-1.1</td>\n",
       "      <td>0.0</td>\n",
       "      <td>0.0</td>\n",
       "      <td>0.0</td>\n",
       "      <td>0.0</td>\n",
       "      <td>-2.3</td>\n",
       "      <td>-1.9</td>\n",
       "      <td>-2.8</td>\n",
       "      <td>80.0</td>\n",
       "    </tr>\n",
       "    <tr>\n",
       "      <th>2023-11-06</th>\n",
       "      <td>-0.5</td>\n",
       "      <td>-0.4</td>\n",
       "      <td>0.1</td>\n",
       "      <td>-0.7</td>\n",
       "      <td>0.0</td>\n",
       "      <td>0.0</td>\n",
       "      <td>0.0</td>\n",
       "      <td>0.0</td>\n",
       "      <td>-3.1</td>\n",
       "      <td>-2.8</td>\n",
       "      <td>-3.3</td>\n",
       "      <td>83.0</td>\n",
       "    </tr>\n",
       "    <tr>\n",
       "      <th>2023-11-06</th>\n",
       "      <td>-1.4</td>\n",
       "      <td>-1.3</td>\n",
       "      <td>-0.5</td>\n",
       "      <td>-1.7</td>\n",
       "      <td>0.0</td>\n",
       "      <td>0.0</td>\n",
       "      <td>0.0</td>\n",
       "      <td>0.0</td>\n",
       "      <td>-3.2</td>\n",
       "      <td>-2.8</td>\n",
       "      <td>-3.5</td>\n",
       "      <td>85.0</td>\n",
       "    </tr>\n",
       "    <tr>\n",
       "      <th>2023-11-06</th>\n",
       "      <td>-1.9</td>\n",
       "      <td>-1.6</td>\n",
       "      <td>-1.4</td>\n",
       "      <td>-2.2</td>\n",
       "      <td>0.0</td>\n",
       "      <td>0.0</td>\n",
       "      <td>0.0</td>\n",
       "      <td>0.0</td>\n",
       "      <td>-3.5</td>\n",
       "      <td>-3.3</td>\n",
       "      <td>-3.8</td>\n",
       "      <td>87.0</td>\n",
       "    </tr>\n",
       "  </tbody>\n",
       "</table>\n",
       "<p>166759 rows × 12 columns</p>\n",
       "</div>"
      ],
      "text/plain": [
       "            T_CALC  T_HR_AVG  T_MAX  T_MIN  P_CALC  SOLARAD  SOLARAD_MAX  \\\n",
       "Time                                                                       \n",
       "2004-10-27     NaN       NaN    NaN    NaN     NaN     27.0          NaN   \n",
       "2004-10-27     NaN       NaN    NaN    NaN     NaN      0.0          NaN   \n",
       "2004-10-28     7.8       7.6    8.0    7.3     0.0      0.0          NaN   \n",
       "2004-10-28     6.5       7.0    7.8    6.5     0.0      0.0          NaN   \n",
       "2004-10-28     5.4       6.2    6.5    5.4     0.0      0.0          NaN   \n",
       "...            ...       ...    ...    ...     ...      ...          ...   \n",
       "2023-11-06     1.1       1.3    2.1    0.3     0.0      0.0          0.0   \n",
       "2023-11-06    -0.1       0.0    1.0   -1.1     0.0      0.0          0.0   \n",
       "2023-11-06    -0.5      -0.4    0.1   -0.7     0.0      0.0          0.0   \n",
       "2023-11-06    -1.4      -1.3   -0.5   -1.7     0.0      0.0          0.0   \n",
       "2023-11-06    -1.9      -1.6   -1.4   -2.2     0.0      0.0          0.0   \n",
       "\n",
       "            SOLARAD_MIN  SUR_TEMP  SUR_TEMP_MAX  SUR_TEMP_MIN  RH_HR_AVG  \n",
       "Time                                                                      \n",
       "2004-10-27          NaN       8.8           NaN           NaN        0.0  \n",
       "2004-10-27          NaN       6.7           NaN           NaN        0.0  \n",
       "2004-10-28          NaN       6.1           NaN           NaN        0.0  \n",
       "2004-10-28          NaN       5.6           NaN           NaN        0.0  \n",
       "2004-10-28          NaN       5.0           NaN           NaN        0.0  \n",
       "...                 ...       ...           ...           ...        ...  \n",
       "2023-11-06          0.0      -1.6          -0.9          -2.0       76.0  \n",
       "2023-11-06          0.0      -2.3          -1.9          -2.8       80.0  \n",
       "2023-11-06          0.0      -3.1          -2.8          -3.3       83.0  \n",
       "2023-11-06          0.0      -3.2          -2.8          -3.5       85.0  \n",
       "2023-11-06          0.0      -3.5          -3.3          -3.8       87.0  \n",
       "\n",
       "[166759 rows x 12 columns]"
      ]
     },
     "execution_count": 10,
     "metadata": {},
     "output_type": "execute_result"
    }
   ],
   "source": [
    "data"
   ]
  },
  {
   "cell_type": "code",
   "execution_count": 11,
   "id": "21b1a43c",
   "metadata": {},
   "outputs": [
    {
     "data": {
      "text/plain": [
       "T_CALC           1384\n",
       "T_HR_AVG         1446\n",
       "T_MAX            1385\n",
       "T_MIN            1389\n",
       "P_CALC            832\n",
       "SOLARAD           570\n",
       "SOLARAD_MAX      9757\n",
       "SOLARAD_MIN      9757\n",
       "SUR_TEMP          724\n",
       "SUR_TEMP_MAX     9911\n",
       "SUR_TEMP_MIN     9911\n",
       "RH_HR_AVG       48248\n",
       "dtype: int64"
      ]
     },
     "execution_count": 11,
     "metadata": {},
     "output_type": "execute_result"
    }
   ],
   "source": [
    "data.isna().sum()"
   ]
  },
  {
   "cell_type": "code",
   "execution_count": 12,
   "id": "00be0a2f",
   "metadata": {},
   "outputs": [
    {
     "data": {
      "text/plain": [
       "T_CALC          float64\n",
       "T_HR_AVG        float64\n",
       "T_MAX           float64\n",
       "T_MIN           float64\n",
       "P_CALC          float64\n",
       "SOLARAD         float64\n",
       "SOLARAD_MAX     float64\n",
       "SOLARAD_MIN     float64\n",
       "SUR_TEMP        float64\n",
       "SUR_TEMP_MAX    float64\n",
       "SUR_TEMP_MIN    float64\n",
       "RH_HR_AVG       float64\n",
       "dtype: object"
      ]
     },
     "execution_count": 12,
     "metadata": {},
     "output_type": "execute_result"
    }
   ],
   "source": [
    "# Check data types\n",
    "data.dtypes"
   ]
  },
  {
   "cell_type": "code",
   "execution_count": 13,
   "id": "98be58ba",
   "metadata": {},
   "outputs": [
    {
     "data": {
      "text/plain": [
       "(166759, 12)"
      ]
     },
     "execution_count": 13,
     "metadata": {},
     "output_type": "execute_result"
    }
   ],
   "source": [
    "data.shape"
   ]
  },
  {
   "cell_type": "code",
   "execution_count": 14,
   "id": "d0d169f2",
   "metadata": {},
   "outputs": [],
   "source": [
    "# forward fill the missing values  \n",
    "data.ffill(axis = 0, inplace = True) "
   ]
  },
  {
   "cell_type": "code",
   "execution_count": 15,
   "id": "f1601b98",
   "metadata": {},
   "outputs": [
    {
     "data": {
      "text/html": [
       "<div>\n",
       "<style scoped>\n",
       "    .dataframe tbody tr th:only-of-type {\n",
       "        vertical-align: middle;\n",
       "    }\n",
       "\n",
       "    .dataframe tbody tr th {\n",
       "        vertical-align: top;\n",
       "    }\n",
       "\n",
       "    .dataframe thead th {\n",
       "        text-align: right;\n",
       "    }\n",
       "</style>\n",
       "<table border=\"1\" class=\"dataframe\">\n",
       "  <thead>\n",
       "    <tr style=\"text-align: right;\">\n",
       "      <th></th>\n",
       "      <th>T_CALC</th>\n",
       "      <th>T_HR_AVG</th>\n",
       "      <th>T_MAX</th>\n",
       "      <th>T_MIN</th>\n",
       "      <th>P_CALC</th>\n",
       "      <th>SOLARAD</th>\n",
       "      <th>SOLARAD_MAX</th>\n",
       "      <th>SOLARAD_MIN</th>\n",
       "      <th>SUR_TEMP</th>\n",
       "      <th>SUR_TEMP_MAX</th>\n",
       "      <th>SUR_TEMP_MIN</th>\n",
       "      <th>RH_HR_AVG</th>\n",
       "    </tr>\n",
       "    <tr>\n",
       "      <th>Time</th>\n",
       "      <th></th>\n",
       "      <th></th>\n",
       "      <th></th>\n",
       "      <th></th>\n",
       "      <th></th>\n",
       "      <th></th>\n",
       "      <th></th>\n",
       "      <th></th>\n",
       "      <th></th>\n",
       "      <th></th>\n",
       "      <th></th>\n",
       "      <th></th>\n",
       "    </tr>\n",
       "  </thead>\n",
       "  <tbody>\n",
       "    <tr>\n",
       "      <th>2004-10-27</th>\n",
       "      <td>NaN</td>\n",
       "      <td>NaN</td>\n",
       "      <td>NaN</td>\n",
       "      <td>NaN</td>\n",
       "      <td>NaN</td>\n",
       "      <td>27.0</td>\n",
       "      <td>NaN</td>\n",
       "      <td>NaN</td>\n",
       "      <td>8.8</td>\n",
       "      <td>NaN</td>\n",
       "      <td>NaN</td>\n",
       "      <td>0.0</td>\n",
       "    </tr>\n",
       "    <tr>\n",
       "      <th>2004-10-27</th>\n",
       "      <td>NaN</td>\n",
       "      <td>NaN</td>\n",
       "      <td>NaN</td>\n",
       "      <td>NaN</td>\n",
       "      <td>NaN</td>\n",
       "      <td>0.0</td>\n",
       "      <td>NaN</td>\n",
       "      <td>NaN</td>\n",
       "      <td>6.7</td>\n",
       "      <td>NaN</td>\n",
       "      <td>NaN</td>\n",
       "      <td>0.0</td>\n",
       "    </tr>\n",
       "    <tr>\n",
       "      <th>2004-10-28</th>\n",
       "      <td>7.8</td>\n",
       "      <td>7.6</td>\n",
       "      <td>8.0</td>\n",
       "      <td>7.3</td>\n",
       "      <td>0.0</td>\n",
       "      <td>0.0</td>\n",
       "      <td>NaN</td>\n",
       "      <td>NaN</td>\n",
       "      <td>6.1</td>\n",
       "      <td>NaN</td>\n",
       "      <td>NaN</td>\n",
       "      <td>0.0</td>\n",
       "    </tr>\n",
       "    <tr>\n",
       "      <th>2004-10-28</th>\n",
       "      <td>6.5</td>\n",
       "      <td>7.0</td>\n",
       "      <td>7.8</td>\n",
       "      <td>6.5</td>\n",
       "      <td>0.0</td>\n",
       "      <td>0.0</td>\n",
       "      <td>NaN</td>\n",
       "      <td>NaN</td>\n",
       "      <td>5.6</td>\n",
       "      <td>NaN</td>\n",
       "      <td>NaN</td>\n",
       "      <td>0.0</td>\n",
       "    </tr>\n",
       "    <tr>\n",
       "      <th>2004-10-28</th>\n",
       "      <td>5.4</td>\n",
       "      <td>6.2</td>\n",
       "      <td>6.5</td>\n",
       "      <td>5.4</td>\n",
       "      <td>0.0</td>\n",
       "      <td>0.0</td>\n",
       "      <td>NaN</td>\n",
       "      <td>NaN</td>\n",
       "      <td>5.0</td>\n",
       "      <td>NaN</td>\n",
       "      <td>NaN</td>\n",
       "      <td>0.0</td>\n",
       "    </tr>\n",
       "    <tr>\n",
       "      <th>...</th>\n",
       "      <td>...</td>\n",
       "      <td>...</td>\n",
       "      <td>...</td>\n",
       "      <td>...</td>\n",
       "      <td>...</td>\n",
       "      <td>...</td>\n",
       "      <td>...</td>\n",
       "      <td>...</td>\n",
       "      <td>...</td>\n",
       "      <td>...</td>\n",
       "      <td>...</td>\n",
       "      <td>...</td>\n",
       "    </tr>\n",
       "    <tr>\n",
       "      <th>2023-11-06</th>\n",
       "      <td>1.1</td>\n",
       "      <td>1.3</td>\n",
       "      <td>2.1</td>\n",
       "      <td>0.3</td>\n",
       "      <td>0.0</td>\n",
       "      <td>0.0</td>\n",
       "      <td>0.0</td>\n",
       "      <td>0.0</td>\n",
       "      <td>-1.6</td>\n",
       "      <td>-0.9</td>\n",
       "      <td>-2.0</td>\n",
       "      <td>76.0</td>\n",
       "    </tr>\n",
       "    <tr>\n",
       "      <th>2023-11-06</th>\n",
       "      <td>-0.1</td>\n",
       "      <td>0.0</td>\n",
       "      <td>1.0</td>\n",
       "      <td>-1.1</td>\n",
       "      <td>0.0</td>\n",
       "      <td>0.0</td>\n",
       "      <td>0.0</td>\n",
       "      <td>0.0</td>\n",
       "      <td>-2.3</td>\n",
       "      <td>-1.9</td>\n",
       "      <td>-2.8</td>\n",
       "      <td>80.0</td>\n",
       "    </tr>\n",
       "    <tr>\n",
       "      <th>2023-11-06</th>\n",
       "      <td>-0.5</td>\n",
       "      <td>-0.4</td>\n",
       "      <td>0.1</td>\n",
       "      <td>-0.7</td>\n",
       "      <td>0.0</td>\n",
       "      <td>0.0</td>\n",
       "      <td>0.0</td>\n",
       "      <td>0.0</td>\n",
       "      <td>-3.1</td>\n",
       "      <td>-2.8</td>\n",
       "      <td>-3.3</td>\n",
       "      <td>83.0</td>\n",
       "    </tr>\n",
       "    <tr>\n",
       "      <th>2023-11-06</th>\n",
       "      <td>-1.4</td>\n",
       "      <td>-1.3</td>\n",
       "      <td>-0.5</td>\n",
       "      <td>-1.7</td>\n",
       "      <td>0.0</td>\n",
       "      <td>0.0</td>\n",
       "      <td>0.0</td>\n",
       "      <td>0.0</td>\n",
       "      <td>-3.2</td>\n",
       "      <td>-2.8</td>\n",
       "      <td>-3.5</td>\n",
       "      <td>85.0</td>\n",
       "    </tr>\n",
       "    <tr>\n",
       "      <th>2023-11-06</th>\n",
       "      <td>-1.9</td>\n",
       "      <td>-1.6</td>\n",
       "      <td>-1.4</td>\n",
       "      <td>-2.2</td>\n",
       "      <td>0.0</td>\n",
       "      <td>0.0</td>\n",
       "      <td>0.0</td>\n",
       "      <td>0.0</td>\n",
       "      <td>-3.5</td>\n",
       "      <td>-3.3</td>\n",
       "      <td>-3.8</td>\n",
       "      <td>87.0</td>\n",
       "    </tr>\n",
       "  </tbody>\n",
       "</table>\n",
       "<p>166759 rows × 12 columns</p>\n",
       "</div>"
      ],
      "text/plain": [
       "            T_CALC  T_HR_AVG  T_MAX  T_MIN  P_CALC  SOLARAD  SOLARAD_MAX  \\\n",
       "Time                                                                       \n",
       "2004-10-27     NaN       NaN    NaN    NaN     NaN     27.0          NaN   \n",
       "2004-10-27     NaN       NaN    NaN    NaN     NaN      0.0          NaN   \n",
       "2004-10-28     7.8       7.6    8.0    7.3     0.0      0.0          NaN   \n",
       "2004-10-28     6.5       7.0    7.8    6.5     0.0      0.0          NaN   \n",
       "2004-10-28     5.4       6.2    6.5    5.4     0.0      0.0          NaN   \n",
       "...            ...       ...    ...    ...     ...      ...          ...   \n",
       "2023-11-06     1.1       1.3    2.1    0.3     0.0      0.0          0.0   \n",
       "2023-11-06    -0.1       0.0    1.0   -1.1     0.0      0.0          0.0   \n",
       "2023-11-06    -0.5      -0.4    0.1   -0.7     0.0      0.0          0.0   \n",
       "2023-11-06    -1.4      -1.3   -0.5   -1.7     0.0      0.0          0.0   \n",
       "2023-11-06    -1.9      -1.6   -1.4   -2.2     0.0      0.0          0.0   \n",
       "\n",
       "            SOLARAD_MIN  SUR_TEMP  SUR_TEMP_MAX  SUR_TEMP_MIN  RH_HR_AVG  \n",
       "Time                                                                      \n",
       "2004-10-27          NaN       8.8           NaN           NaN        0.0  \n",
       "2004-10-27          NaN       6.7           NaN           NaN        0.0  \n",
       "2004-10-28          NaN       6.1           NaN           NaN        0.0  \n",
       "2004-10-28          NaN       5.6           NaN           NaN        0.0  \n",
       "2004-10-28          NaN       5.0           NaN           NaN        0.0  \n",
       "...                 ...       ...           ...           ...        ...  \n",
       "2023-11-06          0.0      -1.6          -0.9          -2.0       76.0  \n",
       "2023-11-06          0.0      -2.3          -1.9          -2.8       80.0  \n",
       "2023-11-06          0.0      -3.1          -2.8          -3.3       83.0  \n",
       "2023-11-06          0.0      -3.2          -2.8          -3.5       85.0  \n",
       "2023-11-06          0.0      -3.5          -3.3          -3.8       87.0  \n",
       "\n",
       "[166759 rows x 12 columns]"
      ]
     },
     "execution_count": 15,
     "metadata": {},
     "output_type": "execute_result"
    }
   ],
   "source": [
    "data"
   ]
  },
  {
   "cell_type": "code",
   "execution_count": 16,
   "id": "5cbbdc3a",
   "metadata": {},
   "outputs": [],
   "source": [
    "# drop NaN at the top\n",
    "data.dropna(inplace = True)"
   ]
  },
  {
   "cell_type": "code",
   "execution_count": 17,
   "id": "a6ba21c5",
   "metadata": {},
   "outputs": [],
   "source": [
    "# set target\n",
    "data['target'] = data['T_HR_AVG']"
   ]
  },
  {
   "cell_type": "code",
   "execution_count": 18,
   "id": "a6a51031",
   "metadata": {},
   "outputs": [],
   "source": [
    "from sklearn.model_selection import train_test_split\n",
    "train, test = train_test_split(data, test_size=0.2, shuffle = False)"
   ]
  },
  {
   "cell_type": "code",
   "execution_count": 19,
   "id": "597b6d4b",
   "metadata": {},
   "outputs": [],
   "source": [
    "from sklearn.preprocessing import MinMaxScaler\n",
    "import pickle\n",
    "\n",
    "scaler = MinMaxScaler()\n",
    "scaler.fit(train)\n",
    "train = scaler.transform(train)\n",
    "test = scaler.transform(test)\n",
    "\n",
    "with open('./LSTM/models/scaler.pkl', 'wb') as f:\n",
    "    pickle.dump(scaler, f)"
   ]
  },
  {
   "cell_type": "code",
   "execution_count": 20,
   "id": "aba1ac71",
   "metadata": {},
   "outputs": [
    {
     "data": {
      "text/plain": [
       "(126057, 13)"
      ]
     },
     "execution_count": 20,
     "metadata": {},
     "output_type": "execute_result"
    }
   ],
   "source": [
    "train.shape"
   ]
  },
  {
   "cell_type": "code",
   "execution_count": 21,
   "id": "bf181b56",
   "metadata": {},
   "outputs": [
    {
     "data": {
      "text/plain": [
       "(31515, 13)"
      ]
     },
     "execution_count": 21,
     "metadata": {},
     "output_type": "execute_result"
    }
   ],
   "source": [
    "test.shape"
   ]
  },
  {
   "cell_type": "code",
   "execution_count": 24,
   "id": "99ce69f2",
   "metadata": {},
   "outputs": [],
   "source": [
    "# splitting data into sequences\n",
    "def split_sequences(features, target, seq_len, forecast_len):\n",
    "    X,y = list(), list()\n",
    "    for i in range(len(features)):\n",
    "        end_input = i + seq_len\n",
    "        end_predict = end_input + forecast_len\n",
    "        if end_predict > len(features)-1:\n",
    "            break\n",
    "        seq_x, seq_y = features[i:end_input,:], target[end_input:end_predict]\n",
    "        X.append(seq_x)\n",
    "        y.append(seq_y)\n",
    "    return tf.convert_to_tensor(X, dtype=tf.float64), tf.convert_to_tensor(y, dtype=tf.float64)"
   ]
  },
  {
   "cell_type": "markdown",
   "id": "6adc7e6b",
   "metadata": {},
   "source": [
    "# Define Model"
   ]
  },
  {
   "cell_type": "code",
   "execution_count": 30,
   "id": "7e46daa1",
   "metadata": {},
   "outputs": [],
   "source": [
    "from tensorflow.keras.models import Sequential, Model\n",
    "from tensorflow.keras.layers import LSTM, Dense, RNN, LSTMCell, Input, Bidirectional\n",
    "from tensorflow.keras.losses import BinaryCrossentropy, MeanSquaredError\n",
    "from tensorflow.keras.optimizers import Adam\n",
    "from tensorflow.keras.callbacks import TensorBoard\n",
    "from tensorflow.keras.utils import plot_model\n",
    "\n",
    "class MyModel(tf.keras.Model):\n",
    "\n",
    "    def __init__(self, input_shape, output_shape, name = 'BiLSTM'):\n",
    "        super().__init__(name = name)\n",
    "        self.input_layer = Input(shape = input_shape, name = 'input')\n",
    "        self.lstm1 = Bidirectional(LSTM(units=30, activation = 'tanh', input_shape = input_shape, return_sequences=False, name = 'lstm_1'), name = 'bilstm_1')\n",
    "        self.dense1 = Dense(units=output_shape, activation = 'relu', name = 'dense_1')\n",
    "        #self.dropout = tf.keras.layers.Dropout(0.5)\n",
    "\n",
    "    def call(self, inputs, training=False):\n",
    "        x = self.lstm1(inputs)\n",
    "        x = self.dense1(x)\n",
    "        #if training:\n",
    "        #  x = self.dropout(x, training=training)\n",
    "        return x\n",
    "    \n",
    "    def summary(self):\n",
    "        model = Model(inputs = [self.input_layer], outputs = self.call(self.input_layer), name = self.name)\n",
    "        return model.summary()"
   ]
  },
  {
   "cell_type": "markdown",
   "id": "28807bc6",
   "metadata": {},
   "source": [
    "# Model Training\n",
    "## input length : output length = 16:4"
   ]
  },
  {
   "cell_type": "code",
   "execution_count": 25,
   "id": "03ec4f70",
   "metadata": {},
   "outputs": [],
   "source": [
    "# prepare sequences\n",
    "seq_len = 16\n",
    "forecast_len = 4\n",
    "X_train, y_train = split_sequences(train[:,:-1], train[:,-1], seq_len = seq_len, forecast_len = forecast_len)\n",
    "X_test, y_test = split_sequences(test[:,:-1], test[:,-1],seq_len = seq_len, forecast_len =  forecast_len)\n",
    "n_features = X_train.shape[2]"
   ]
  },
  {
   "cell_type": "code",
   "execution_count": 26,
   "id": "c26eaa20",
   "metadata": {},
   "outputs": [
    {
     "data": {
      "text/plain": [
       "TensorShape([126037, 16, 12])"
      ]
     },
     "execution_count": 26,
     "metadata": {},
     "output_type": "execute_result"
    }
   ],
   "source": [
    "X_train.shape"
   ]
  },
  {
   "cell_type": "code",
   "execution_count": 27,
   "id": "039bed2b",
   "metadata": {},
   "outputs": [
    {
     "data": {
      "text/plain": [
       "TensorShape([126037, 4])"
      ]
     },
     "execution_count": 27,
     "metadata": {},
     "output_type": "execute_result"
    }
   ],
   "source": [
    "y_train.shape"
   ]
  },
  {
   "cell_type": "code",
   "execution_count": 37,
   "id": "7f03c179",
   "metadata": {},
   "outputs": [
    {
     "name": "stdout",
     "output_type": "stream",
     "text": [
      "Model: \"BiLSTM_16-4\"\n",
      "_________________________________________________________________\n",
      " Layer (type)                Output Shape              Param #   \n",
      "=================================================================\n",
      " input (InputLayer)          [(None, 16, 12)]          0         \n",
      "                                                                 \n",
      " bilstm_1 (Bidirectional)    (None, 60)                10320     \n",
      "                                                                 \n",
      " dense_1 (Dense)             (None, 4)                 244       \n",
      "                                                                 \n",
      "=================================================================\n",
      "Total params: 10,564\n",
      "Trainable params: 10,564\n",
      "Non-trainable params: 0\n",
      "_________________________________________________________________\n"
     ]
    }
   ],
   "source": [
    "# create model instance\n",
    "model_name = 'BiLSTM_16-4'\n",
    "model = MyModel(input_shape = (seq_len, n_features), output_shape = (forecast_len), name = model_name)\n",
    "model.summary()"
   ]
  },
  {
   "cell_type": "code",
   "execution_count": 38,
   "id": "06942327",
   "metadata": {},
   "outputs": [
    {
     "name": "stdout",
     "output_type": "stream",
     "text": [
      "Epoch 1/30\n",
      "1135/1135 [==============================] - 16s 12ms/step - loss: 0.0016 - mse: 0.0016 - acc: 0.5306 - val_loss: 6.8125e-04 - val_mse: 6.8125e-04 - val_acc: 0.5547\n",
      "Epoch 2/30\n",
      "1135/1135 [==============================] - 12s 10ms/step - loss: 6.5089e-04 - mse: 6.5089e-04 - acc: 0.5884 - val_loss: 7.5768e-04 - val_mse: 7.5768e-04 - val_acc: 0.5224\n",
      "Epoch 3/30\n",
      "1135/1135 [==============================] - 12s 11ms/step - loss: 5.9310e-04 - mse: 5.9310e-04 - acc: 0.6097 - val_loss: 6.0193e-04 - val_mse: 6.0193e-04 - val_acc: 0.6015\n",
      "Epoch 4/30\n",
      "1135/1135 [==============================] - 12s 11ms/step - loss: 5.7056e-04 - mse: 5.7056e-04 - acc: 0.6129 - val_loss: 5.2764e-04 - val_mse: 5.2764e-04 - val_acc: 0.4802\n",
      "Epoch 5/30\n",
      "1135/1135 [==============================] - 12s 11ms/step - loss: 5.4763e-04 - mse: 5.4763e-04 - acc: 0.6240 - val_loss: 4.9546e-04 - val_mse: 4.9546e-04 - val_acc: 0.6373\n",
      "Epoch 6/30\n",
      "1135/1135 [==============================] - 12s 10ms/step - loss: 5.3440e-04 - mse: 5.3440e-04 - acc: 0.6289 - val_loss: 4.9012e-04 - val_mse: 4.9012e-04 - val_acc: 0.5077\n",
      "Epoch 7/30\n",
      "1135/1135 [==============================] - 12s 11ms/step - loss: 5.2254e-04 - mse: 5.2254e-04 - acc: 0.6356 - val_loss: 6.2922e-04 - val_mse: 6.2922e-04 - val_acc: 0.5772\n",
      "Epoch 8/30\n",
      "1135/1135 [==============================] - 12s 10ms/step - loss: 5.1206e-04 - mse: 5.1206e-04 - acc: 0.6379 - val_loss: 5.3179e-04 - val_mse: 5.3179e-04 - val_acc: 0.6374\n",
      "Epoch 9/30\n",
      "1135/1135 [==============================] - 12s 10ms/step - loss: 4.9972e-04 - mse: 4.9972e-04 - acc: 0.6404 - val_loss: 5.4041e-04 - val_mse: 5.4041e-04 - val_acc: 0.6567\n",
      "Epoch 10/30\n",
      "1135/1135 [==============================] - 12s 10ms/step - loss: 4.9217e-04 - mse: 4.9217e-04 - acc: 0.6414 - val_loss: 4.8370e-04 - val_mse: 4.8370e-04 - val_acc: 0.6364\n",
      "Epoch 11/30\n",
      "1135/1135 [==============================] - 14s 12ms/step - loss: 4.9116e-04 - mse: 4.9116e-04 - acc: 0.6416 - val_loss: 5.9641e-04 - val_mse: 5.9641e-04 - val_acc: 0.5770\n",
      "Epoch 12/30\n",
      "1135/1135 [==============================] - 14s 12ms/step - loss: 4.8330e-04 - mse: 4.8330e-04 - acc: 0.6463 - val_loss: 4.4582e-04 - val_mse: 4.4582e-04 - val_acc: 0.5830\n",
      "Epoch 13/30\n",
      "1135/1135 [==============================] - 11s 10ms/step - loss: 4.7813e-04 - mse: 4.7813e-04 - acc: 0.6488 - val_loss: 4.5619e-04 - val_mse: 4.5619e-04 - val_acc: 0.6288\n",
      "Epoch 14/30\n",
      "1135/1135 [==============================] - 11s 10ms/step - loss: 4.7236e-04 - mse: 4.7236e-04 - acc: 0.6516 - val_loss: 5.4561e-04 - val_mse: 5.4561e-04 - val_acc: 0.6409\n",
      "Epoch 15/30\n",
      "1135/1135 [==============================] - 12s 11ms/step - loss: 4.6646e-04 - mse: 4.6646e-04 - acc: 0.6506 - val_loss: 4.4690e-04 - val_mse: 4.4690e-04 - val_acc: 0.6145\n",
      "Epoch 16/30\n",
      "1135/1135 [==============================] - 15s 13ms/step - loss: 4.6728e-04 - mse: 4.6728e-04 - acc: 0.6531 - val_loss: 4.4494e-04 - val_mse: 4.4494e-04 - val_acc: 0.5816\n",
      "Epoch 17/30\n",
      "1135/1135 [==============================] - 15s 13ms/step - loss: 4.6392e-04 - mse: 4.6392e-04 - acc: 0.6519 - val_loss: 4.7655e-04 - val_mse: 4.7655e-04 - val_acc: 0.6430\n",
      "Epoch 18/30\n",
      "1135/1135 [==============================] - 11s 10ms/step - loss: 4.5998e-04 - mse: 4.5998e-04 - acc: 0.6526 - val_loss: 4.4062e-04 - val_mse: 4.4062e-04 - val_acc: 0.6325\n",
      "Epoch 19/30\n",
      "1135/1135 [==============================] - 11s 10ms/step - loss: 4.5372e-04 - mse: 4.5372e-04 - acc: 0.6527 - val_loss: 4.5799e-04 - val_mse: 4.5799e-04 - val_acc: 0.6438\n",
      "Epoch 20/30\n",
      "1135/1135 [==============================] - 12s 10ms/step - loss: 4.5210e-04 - mse: 4.5210e-04 - acc: 0.6513 - val_loss: 4.9339e-04 - val_mse: 4.9339e-04 - val_acc: 0.6534\n",
      "Epoch 21/30\n",
      "1135/1135 [==============================] - 15s 13ms/step - loss: 4.5452e-04 - mse: 4.5452e-04 - acc: 0.6483 - val_loss: 4.6688e-04 - val_mse: 4.6688e-04 - val_acc: 0.6051\n",
      "Epoch 22/30\n",
      "1135/1135 [==============================] - 15s 13ms/step - loss: 4.4779e-04 - mse: 4.4779e-04 - acc: 0.6517 - val_loss: 4.4361e-04 - val_mse: 4.4361e-04 - val_acc: 0.6453\n",
      "Epoch 23/30\n",
      "1135/1135 [==============================] - 11s 10ms/step - loss: 4.4781e-04 - mse: 4.4781e-04 - acc: 0.6518 - val_loss: 5.0050e-04 - val_mse: 5.0050e-04 - val_acc: 0.5559\n",
      "Epoch 24/30\n",
      "1135/1135 [==============================] - 12s 10ms/step - loss: 4.4239e-04 - mse: 4.4239e-04 - acc: 0.6517 - val_loss: 4.7540e-04 - val_mse: 4.7540e-04 - val_acc: 0.5803\n",
      "Epoch 25/30\n",
      "1135/1135 [==============================] - 16s 14ms/step - loss: 4.3915e-04 - mse: 4.3915e-04 - acc: 0.6528 - val_loss: 4.2337e-04 - val_mse: 4.2337e-04 - val_acc: 0.6020\n",
      "Epoch 26/30\n",
      "1135/1135 [==============================] - 19s 17ms/step - loss: 4.4255e-04 - mse: 4.4255e-04 - acc: 0.6527 - val_loss: 4.8297e-04 - val_mse: 4.8297e-04 - val_acc: 0.5854\n",
      "Epoch 27/30\n",
      "1135/1135 [==============================] - 15s 13ms/step - loss: 4.3676e-04 - mse: 4.3676e-04 - acc: 0.6533 - val_loss: 4.4509e-04 - val_mse: 4.4509e-04 - val_acc: 0.6180\n",
      "Epoch 28/30\n",
      "1135/1135 [==============================] - 15s 13ms/step - loss: 4.3697e-04 - mse: 4.3697e-04 - acc: 0.6530 - val_loss: 4.2100e-04 - val_mse: 4.2100e-04 - val_acc: 0.6285\n",
      "Epoch 29/30\n",
      "1135/1135 [==============================] - 20s 18ms/step - loss: 4.3725e-04 - mse: 4.3725e-04 - acc: 0.6560 - val_loss: 4.9857e-04 - val_mse: 4.9857e-04 - val_acc: 0.6285\n",
      "Epoch 30/30\n",
      "1135/1135 [==============================] - 18s 16ms/step - loss: 4.8364e-04 - mse: 4.8364e-04 - acc: 0.6449 - val_loss: 4.5989e-04 - val_mse: 4.5989e-04 - val_acc: 0.5975\n"
     ]
    },
    {
     "data": {
      "text/plain": [
       "<keras.callbacks.History at 0x277674db130>"
      ]
     },
     "execution_count": 38,
     "metadata": {},
     "output_type": "execute_result"
    }
   ],
   "source": [
    "# Fit the model\n",
    "model.compile(loss=MeanSquaredError(), optimizer=Adam(learning_rate = 0.01), metrics = ['mse', 'acc'])\n",
    "model.fit(X_train, \n",
    "          y_train, \n",
    "          batch_size=100,\n",
    "          epochs=30,\n",
    "          verbose='auto',\n",
    "          callbacks=None,\n",
    "          validation_split=0.1,\n",
    "          shuffle=True)"
   ]
  },
  {
   "cell_type": "code",
   "execution_count": 39,
   "id": "ceea1dc7",
   "metadata": {},
   "outputs": [
    {
     "name": "stderr",
     "output_type": "stream",
     "text": [
      "WARNING:absl:Found untraced functions such as lstm_cell_13_layer_call_fn, lstm_cell_13_layer_call_and_return_conditional_losses, lstm_cell_14_layer_call_fn, lstm_cell_14_layer_call_and_return_conditional_losses while saving (showing 4 of 4). These functions will not be directly callable after loading.\n"
     ]
    },
    {
     "name": "stdout",
     "output_type": "stream",
     "text": [
      "INFO:tensorflow:Assets written to: ./LSTM/models/BiLSTM_16-4\\assets\n"
     ]
    },
    {
     "name": "stderr",
     "output_type": "stream",
     "text": [
      "INFO:tensorflow:Assets written to: ./LSTM/models/BiLSTM_16-4\\assets\n"
     ]
    },
    {
     "name": "stdout",
     "output_type": "stream",
     "text": [
      "3939/3939 [==============================] - 5s 1ms/step\n",
      "985/985 [==============================] - 1s 1ms/step\n"
     ]
    }
   ],
   "source": [
    "# save trained model\n",
    "model.save('./LSTM/models/' + model_name)\n",
    "y_hat_train = model.predict(X_train)\n",
    "y_hat_test = model.predict(X_test)"
   ]
  },
  {
   "cell_type": "code",
   "execution_count": 40,
   "id": "bd0043ef",
   "metadata": {},
   "outputs": [
    {
     "name": "stdout",
     "output_type": "stream",
     "text": [
      "mean_squared_error\n",
      "train set: 0.00044512811861828965\n",
      "test set: 0.00047597461054126554\n"
     ]
    }
   ],
   "source": [
    "from sklearn.metrics import mean_squared_error\n",
    "print('mean_squared_error')\n",
    "print('train set:', mean_squared_error(y_train, y_hat_train, sample_weight=None))\n",
    "print('test set:', mean_squared_error(y_test, y_hat_test, sample_weight=None))"
   ]
  },
  {
   "cell_type": "markdown",
   "id": "1258ce9b",
   "metadata": {},
   "source": [
    "## input length : output length = 24:6"
   ]
  },
  {
   "cell_type": "code",
   "execution_count": 41,
   "id": "8be2411e",
   "metadata": {},
   "outputs": [],
   "source": [
    "# reset memory\n",
    "tf.Graph().as_default() \n",
    "\n",
    "# prepare sequences\n",
    "seq_len = 24\n",
    "forecast_len = 6\n",
    "X_train, y_train = split_sequences(train[:,:-1], train[:,-1], seq_len = seq_len, forecast_len = forecast_len)\n",
    "X_test, y_test = split_sequences(test[:,:-1], test[:,-1],seq_len = seq_len, forecast_len =  forecast_len)\n",
    "n_features = X_train.shape[2]"
   ]
  },
  {
   "cell_type": "code",
   "execution_count": 42,
   "id": "787bb430",
   "metadata": {},
   "outputs": [
    {
     "name": "stdout",
     "output_type": "stream",
     "text": [
      "Model: \"BiLSTM_24-6\"\n",
      "_________________________________________________________________\n",
      " Layer (type)                Output Shape              Param #   \n",
      "=================================================================\n",
      " input (InputLayer)          [(None, 24, 12)]          0         \n",
      "                                                                 \n",
      " bilstm_1 (Bidirectional)    (None, 60)                10320     \n",
      "                                                                 \n",
      " dense_1 (Dense)             (None, 6)                 366       \n",
      "                                                                 \n",
      "=================================================================\n",
      "Total params: 10,686\n",
      "Trainable params: 10,686\n",
      "Non-trainable params: 0\n",
      "_________________________________________________________________\n"
     ]
    }
   ],
   "source": [
    "# create model instance\n",
    "model_name = 'BiLSTM_24-6'\n",
    "model = MyModel(input_shape = (seq_len, n_features), output_shape = (forecast_len), name = model_name)\n",
    "model.summary()"
   ]
  },
  {
   "cell_type": "code",
   "execution_count": 43,
   "id": "c2e8f948",
   "metadata": {},
   "outputs": [
    {
     "name": "stdout",
     "output_type": "stream",
     "text": [
      "Epoch 1/30\n",
      "1135/1135 [==============================] - 12s 9ms/step - loss: 0.0025 - mse: 0.0025 - acc: 0.5023 - val_loss: 9.1943e-04 - val_mse: 9.1943e-04 - val_acc: 0.5922\n",
      "Epoch 2/30\n",
      "1135/1135 [==============================] - 9s 8ms/step - loss: 9.5031e-04 - mse: 9.5031e-04 - acc: 0.5522 - val_loss: 0.0011 - val_mse: 0.0011 - val_acc: 0.5329\n",
      "Epoch 3/30\n",
      "1135/1135 [==============================] - 9s 8ms/step - loss: 8.7681e-04 - mse: 8.7681e-04 - acc: 0.5619 - val_loss: 7.7156e-04 - val_mse: 7.7156e-04 - val_acc: 0.5875\n",
      "Epoch 4/30\n",
      "1135/1135 [==============================] - 9s 8ms/step - loss: 8.4813e-04 - mse: 8.4813e-04 - acc: 0.5771 - val_loss: 7.7191e-04 - val_mse: 7.7191e-04 - val_acc: 0.5724\n",
      "Epoch 5/30\n",
      "1135/1135 [==============================] - 11s 10ms/step - loss: 8.0143e-04 - mse: 8.0143e-04 - acc: 0.5846 - val_loss: 7.8034e-04 - val_mse: 7.8034e-04 - val_acc: 0.5750\n",
      "Epoch 6/30\n",
      "1135/1135 [==============================] - 11s 10ms/step - loss: 7.6633e-04 - mse: 7.6633e-04 - acc: 0.5957 - val_loss: 7.2298e-04 - val_mse: 7.2298e-04 - val_acc: 0.5694\n",
      "Epoch 7/30\n",
      "1135/1135 [==============================] - 11s 10ms/step - loss: 7.5120e-04 - mse: 7.5120e-04 - acc: 0.6023 - val_loss: 8.1165e-04 - val_mse: 8.1165e-04 - val_acc: 0.5113\n",
      "Epoch 8/30\n",
      "1135/1135 [==============================] - 10s 9ms/step - loss: 7.2784e-04 - mse: 7.2784e-04 - acc: 0.6031 - val_loss: 7.0443e-04 - val_mse: 7.0443e-04 - val_acc: 0.5692\n",
      "Epoch 9/30\n",
      "1135/1135 [==============================] - 9s 8ms/step - loss: 7.1913e-04 - mse: 7.1913e-04 - acc: 0.6091 - val_loss: 7.0733e-04 - val_mse: 7.0733e-04 - val_acc: 0.5317\n",
      "Epoch 10/30\n",
      "1135/1135 [==============================] - 9s 8ms/step - loss: 7.0487e-04 - mse: 7.0487e-04 - acc: 0.6087 - val_loss: 9.0420e-04 - val_mse: 9.0420e-04 - val_acc: 0.5382\n",
      "Epoch 11/30\n",
      "1135/1135 [==============================] - 9s 8ms/step - loss: 7.0063e-04 - mse: 7.0063e-04 - acc: 0.6113 - val_loss: 7.7100e-04 - val_mse: 7.7100e-04 - val_acc: 0.5989\n",
      "Epoch 12/30\n",
      "1135/1135 [==============================] - 12s 10ms/step - loss: 6.8236e-04 - mse: 6.8236e-04 - acc: 0.6138 - val_loss: 6.6662e-04 - val_mse: 6.6662e-04 - val_acc: 0.5668\n",
      "Epoch 13/30\n",
      "1135/1135 [==============================] - 12s 10ms/step - loss: 6.7693e-04 - mse: 6.7693e-04 - acc: 0.6132 - val_loss: 9.0149e-04 - val_mse: 9.0149e-04 - val_acc: 0.5918\n",
      "Epoch 14/30\n",
      "1135/1135 [==============================] - 12s 10ms/step - loss: 6.7307e-04 - mse: 6.7307e-04 - acc: 0.6153 - val_loss: 6.5093e-04 - val_mse: 6.5093e-04 - val_acc: 0.5723\n",
      "Epoch 15/30\n",
      "1135/1135 [==============================] - 10s 9ms/step - loss: 6.6261e-04 - mse: 6.6261e-04 - acc: 0.6174 - val_loss: 8.9613e-04 - val_mse: 8.9613e-04 - val_acc: 0.5558\n",
      "Epoch 16/30\n",
      "1135/1135 [==============================] - 10s 8ms/step - loss: 6.6135e-04 - mse: 6.6135e-04 - acc: 0.6179 - val_loss: 6.6026e-04 - val_mse: 6.6026e-04 - val_acc: 0.5906\n",
      "Epoch 17/30\n",
      "1135/1135 [==============================] - 11s 9ms/step - loss: 6.5281e-04 - mse: 6.5281e-04 - acc: 0.6220 - val_loss: 7.9229e-04 - val_mse: 7.9229e-04 - val_acc: 0.6036\n",
      "Epoch 18/30\n",
      "1135/1135 [==============================] - 12s 11ms/step - loss: 6.5416e-04 - mse: 6.5416e-04 - acc: 0.6217 - val_loss: 8.0999e-04 - val_mse: 8.0999e-04 - val_acc: 0.5713\n",
      "Epoch 19/30\n",
      "1135/1135 [==============================] - 11s 10ms/step - loss: 6.4802e-04 - mse: 6.4802e-04 - acc: 0.6222 - val_loss: 0.0011 - val_mse: 0.0011 - val_acc: 0.5088\n",
      "Epoch 20/30\n",
      "1135/1135 [==============================] - 11s 10ms/step - loss: 6.4568e-04 - mse: 6.4568e-04 - acc: 0.6195 - val_loss: 0.0014 - val_mse: 0.0014 - val_acc: 0.6064\n",
      "Epoch 21/30\n",
      "1135/1135 [==============================] - 9s 8ms/step - loss: 6.4143e-04 - mse: 6.4143e-04 - acc: 0.6228 - val_loss: 0.0012 - val_mse: 0.0012 - val_acc: 0.5523\n",
      "Epoch 22/30\n",
      "1135/1135 [==============================] - 9s 8ms/step - loss: 6.3419e-04 - mse: 6.3419e-04 - acc: 0.6231 - val_loss: 7.5967e-04 - val_mse: 7.5967e-04 - val_acc: 0.5996\n",
      "Epoch 23/30\n",
      "1135/1135 [==============================] - 10s 8ms/step - loss: 6.3404e-04 - mse: 6.3404e-04 - acc: 0.6192 - val_loss: 0.0016 - val_mse: 0.0016 - val_acc: 0.5872\n",
      "Epoch 24/30\n",
      "1135/1135 [==============================] - 10s 9ms/step - loss: 6.3103e-04 - mse: 6.3103e-04 - acc: 0.6236 - val_loss: 0.0029 - val_mse: 0.0029 - val_acc: 0.5483\n",
      "Epoch 25/30\n",
      "1135/1135 [==============================] - 12s 11ms/step - loss: 6.2765e-04 - mse: 6.2765e-04 - acc: 0.6240 - val_loss: 0.0022 - val_mse: 0.0022 - val_acc: 0.5675\n",
      "Epoch 26/30\n",
      "1135/1135 [==============================] - 12s 10ms/step - loss: 6.2203e-04 - mse: 6.2203e-04 - acc: 0.6238 - val_loss: 9.2731e-04 - val_mse: 9.2731e-04 - val_acc: 0.6084\n",
      "Epoch 27/30\n",
      "1135/1135 [==============================] - 12s 10ms/step - loss: 6.1770e-04 - mse: 6.1770e-04 - acc: 0.6248 - val_loss: 7.0274e-04 - val_mse: 7.0274e-04 - val_acc: 0.5898\n",
      "Epoch 28/30\n",
      "1135/1135 [==============================] - 10s 9ms/step - loss: 6.1845e-04 - mse: 6.1845e-04 - acc: 0.6246 - val_loss: 0.0036 - val_mse: 0.0036 - val_acc: 0.5038\n",
      "Epoch 29/30\n",
      "1135/1135 [==============================] - 9s 8ms/step - loss: 6.1440e-04 - mse: 6.1440e-04 - acc: 0.6220 - val_loss: 8.8888e-04 - val_mse: 8.8888e-04 - val_acc: 0.5671\n",
      "Epoch 30/30\n",
      "1135/1135 [==============================] - 10s 9ms/step - loss: 6.1240e-04 - mse: 6.1240e-04 - acc: 0.6241 - val_loss: 0.0025 - val_mse: 0.0025 - val_acc: 0.5389\n"
     ]
    },
    {
     "data": {
      "text/plain": [
       "<keras.callbacks.History at 0x277300acbe0>"
      ]
     },
     "execution_count": 43,
     "metadata": {},
     "output_type": "execute_result"
    }
   ],
   "source": [
    "# Fit the model\n",
    "model.compile(loss=MeanSquaredError(), optimizer=Adam(learning_rate = 0.01), metrics = ['mse', 'acc'])\n",
    "model.fit(X_train, \n",
    "          y_train, \n",
    "          batch_size=100,\n",
    "          epochs=30,\n",
    "          verbose='auto',\n",
    "          callbacks=None,\n",
    "          validation_split=0.1,\n",
    "          shuffle=True)"
   ]
  },
  {
   "cell_type": "code",
   "execution_count": 44,
   "id": "520fc1a0",
   "metadata": {},
   "outputs": [
    {
     "name": "stderr",
     "output_type": "stream",
     "text": [
      "WARNING:absl:Found untraced functions such as lstm_cell_16_layer_call_fn, lstm_cell_16_layer_call_and_return_conditional_losses, lstm_cell_17_layer_call_fn, lstm_cell_17_layer_call_and_return_conditional_losses while saving (showing 4 of 4). These functions will not be directly callable after loading.\n"
     ]
    },
    {
     "name": "stdout",
     "output_type": "stream",
     "text": [
      "INFO:tensorflow:Assets written to: ./LSTM/models/BiLSTM_24-6\\assets\n"
     ]
    },
    {
     "name": "stderr",
     "output_type": "stream",
     "text": [
      "INFO:tensorflow:Assets written to: ./LSTM/models/BiLSTM_24-6\\assets\n"
     ]
    },
    {
     "name": "stdout",
     "output_type": "stream",
     "text": [
      "3939/3939 [==============================] - 7s 2ms/step\n",
      "984/984 [==============================] - 2s 2ms/step\n",
      "mean_squared_error\n",
      "train set: 0.00079637006400036\n",
      "test set: 0.0006432738826293087\n"
     ]
    }
   ],
   "source": [
    "# save trained model\n",
    "model.save('./LSTM/models/' + model_name)\n",
    "# evaluate the model\n",
    "from sklearn.metrics import mean_squared_error\n",
    "\n",
    "y_hat_train = model.predict(X_train)\n",
    "y_hat_test = model.predict(X_test)\n",
    "\n",
    "print('mean_squared_error')\n",
    "print('train set:', mean_squared_error(y_train, y_hat_train, sample_weight=None))\n",
    "print('test set:', mean_squared_error(y_test, y_hat_test, sample_weight=None))"
   ]
  },
  {
   "cell_type": "markdown",
   "id": "82dbd001",
   "metadata": {},
   "source": [
    "## input length : output length = 32:8"
   ]
  },
  {
   "cell_type": "code",
   "execution_count": 45,
   "id": "86bc5076",
   "metadata": {},
   "outputs": [],
   "source": [
    "# reset memory\n",
    "tf.Graph().as_default() \n",
    "\n",
    "# prepare sequences\n",
    "seq_len = 32\n",
    "forecast_len = 8\n",
    "X_train, y_train = split_sequences(train[:,:-1], train[:,-1], seq_len = seq_len, forecast_len = forecast_len)\n",
    "X_test, y_test = split_sequences(test[:,:-1], test[:,-1],seq_len = seq_len, forecast_len =  forecast_len)\n",
    "n_features = X_train.shape[2]"
   ]
  },
  {
   "cell_type": "code",
   "execution_count": 46,
   "id": "ab4164d4",
   "metadata": {},
   "outputs": [
    {
     "name": "stdout",
     "output_type": "stream",
     "text": [
      "Model: \"BiLSTM_32-8\"\n",
      "_________________________________________________________________\n",
      " Layer (type)                Output Shape              Param #   \n",
      "=================================================================\n",
      " input (InputLayer)          [(None, 32, 12)]          0         \n",
      "                                                                 \n",
      " bilstm_1 (Bidirectional)    (None, 60)                10320     \n",
      "                                                                 \n",
      " dense_1 (Dense)             (None, 8)                 488       \n",
      "                                                                 \n",
      "=================================================================\n",
      "Total params: 10,808\n",
      "Trainable params: 10,808\n",
      "Non-trainable params: 0\n",
      "_________________________________________________________________\n"
     ]
    }
   ],
   "source": [
    "# create model instance\n",
    "model_name = 'BiLSTM_32-8'\n",
    "model = MyModel(input_shape = (seq_len, n_features), output_shape = (forecast_len), name = model_name)\n",
    "model.summary()"
   ]
  },
  {
   "cell_type": "code",
   "execution_count": 47,
   "id": "0b571424",
   "metadata": {},
   "outputs": [
    {
     "name": "stdout",
     "output_type": "stream",
     "text": [
      "Epoch 1/30\n",
      "1135/1135 [==============================] - 16s 12ms/step - loss: 0.0026 - mse: 0.0026 - acc: 0.4373 - val_loss: 0.0012 - val_mse: 0.0012 - val_acc: 0.4037\n",
      "Epoch 2/30\n",
      "1135/1135 [==============================] - 14s 12ms/step - loss: 0.0013 - mse: 0.0013 - acc: 0.4994 - val_loss: 0.0013 - val_mse: 0.0013 - val_acc: 0.5161\n",
      "Epoch 3/30\n",
      "1135/1135 [==============================] - 13s 12ms/step - loss: 0.0012 - mse: 0.0012 - acc: 0.5155 - val_loss: 0.0012 - val_mse: 0.0012 - val_acc: 0.3643\n",
      "Epoch 4/30\n",
      "1135/1135 [==============================] - 15s 13ms/step - loss: 0.0011 - mse: 0.0011 - acc: 0.5270 - val_loss: 0.0011 - val_mse: 0.0011 - val_acc: 0.5546\n",
      "Epoch 5/30\n",
      "1135/1135 [==============================] - 17s 15ms/step - loss: 0.0011 - mse: 0.0011 - acc: 0.5384 - val_loss: 0.0011 - val_mse: 0.0011 - val_acc: 0.5247\n",
      "Epoch 6/30\n",
      "1135/1135 [==============================] - 13s 12ms/step - loss: 0.0010 - mse: 0.0010 - acc: 0.5499 - val_loss: 0.0011 - val_mse: 0.0011 - val_acc: 0.5341\n",
      "Epoch 7/30\n",
      "1135/1135 [==============================] - 14s 12ms/step - loss: 0.0010 - mse: 0.0010 - acc: 0.5570 - val_loss: 0.0012 - val_mse: 0.0012 - val_acc: 0.4487\n",
      "Epoch 8/30\n",
      "1135/1135 [==============================] - 13s 12ms/step - loss: 0.0010 - mse: 0.0010 - acc: 0.5599 - val_loss: 0.0011 - val_mse: 0.0011 - val_acc: 0.5556\n",
      "Epoch 9/30\n",
      "1135/1135 [==============================] - 14s 12ms/step - loss: 9.9814e-04 - mse: 9.9814e-04 - acc: 0.5630 - val_loss: 0.0011 - val_mse: 0.0011 - val_acc: 0.5332\n",
      "Epoch 10/30\n",
      "1135/1135 [==============================] - 14s 12ms/step - loss: 9.6915e-04 - mse: 9.6915e-04 - acc: 0.5652 - val_loss: 0.0010 - val_mse: 0.0010 - val_acc: 0.5780\n",
      "Epoch 11/30\n",
      "1135/1135 [==============================] - 14s 13ms/step - loss: 9.6013e-04 - mse: 9.6013e-04 - acc: 0.5658 - val_loss: 0.0011 - val_mse: 0.0011 - val_acc: 0.5137\n",
      "Epoch 12/30\n",
      "1135/1135 [==============================] - 14s 12ms/step - loss: 9.4497e-04 - mse: 9.4497e-04 - acc: 0.5681 - val_loss: 0.0012 - val_mse: 0.0012 - val_acc: 0.5474\n",
      "Epoch 13/30\n",
      "1135/1135 [==============================] - 14s 12ms/step - loss: 9.3693e-04 - mse: 9.3693e-04 - acc: 0.5695 - val_loss: 0.0012 - val_mse: 0.0012 - val_acc: 0.4571\n",
      "Epoch 14/30\n",
      "1135/1135 [==============================] - 14s 12ms/step - loss: 9.2583e-04 - mse: 9.2583e-04 - acc: 0.5699 - val_loss: 0.0012 - val_mse: 0.0012 - val_acc: 0.4902\n",
      "Epoch 15/30\n",
      "1135/1135 [==============================] - 14s 12ms/step - loss: 9.1601e-04 - mse: 9.1601e-04 - acc: 0.5719 - val_loss: 0.0011 - val_mse: 0.0011 - val_acc: 0.5501\n",
      "Epoch 16/30\n",
      "1135/1135 [==============================] - 15s 13ms/step - loss: 9.0682e-04 - mse: 9.0682e-04 - acc: 0.5723 - val_loss: 0.0011 - val_mse: 0.0011 - val_acc: 0.5744\n",
      "Epoch 17/30\n",
      "1135/1135 [==============================] - 15s 13ms/step - loss: 8.9536e-04 - mse: 8.9536e-04 - acc: 0.5716 - val_loss: 0.0010 - val_mse: 0.0010 - val_acc: 0.5088\n",
      "Epoch 18/30\n",
      "1135/1135 [==============================] - 15s 13ms/step - loss: 8.9782e-04 - mse: 8.9782e-04 - acc: 0.5723 - val_loss: 0.0010 - val_mse: 0.0010 - val_acc: 0.5049\n",
      "Epoch 19/30\n",
      "1135/1135 [==============================] - 15s 13ms/step - loss: 8.8755e-04 - mse: 8.8755e-04 - acc: 0.5730 - val_loss: 9.6642e-04 - val_mse: 9.6642e-04 - val_acc: 0.5496\n",
      "Epoch 20/30\n",
      "1135/1135 [==============================] - 15s 13ms/step - loss: 8.8008e-04 - mse: 8.8008e-04 - acc: 0.5704 - val_loss: 0.0010 - val_mse: 0.0010 - val_acc: 0.5649\n",
      "Epoch 21/30\n",
      "1135/1135 [==============================] - 15s 13ms/step - loss: 8.7613e-04 - mse: 8.7613e-04 - acc: 0.5728 - val_loss: 0.0011 - val_mse: 0.0011 - val_acc: 0.5303\n",
      "Epoch 22/30\n",
      "1135/1135 [==============================] - 14s 12ms/step - loss: 8.6942e-04 - mse: 8.6942e-04 - acc: 0.5734 - val_loss: 0.0010 - val_mse: 0.0010 - val_acc: 0.5195\n",
      "Epoch 23/30\n",
      "1135/1135 [==============================] - 14s 12ms/step - loss: 8.6257e-04 - mse: 8.6257e-04 - acc: 0.5715 - val_loss: 0.0012 - val_mse: 0.0012 - val_acc: 0.5406\n",
      "Epoch 24/30\n",
      "1135/1135 [==============================] - 14s 12ms/step - loss: 8.5880e-04 - mse: 8.5880e-04 - acc: 0.5737 - val_loss: 0.0010 - val_mse: 0.0010 - val_acc: 0.5700\n",
      "Epoch 25/30\n",
      "1135/1135 [==============================] - 14s 12ms/step - loss: 8.5915e-04 - mse: 8.5915e-04 - acc: 0.5729 - val_loss: 0.0012 - val_mse: 0.0012 - val_acc: 0.5829\n",
      "Epoch 26/30\n",
      "1135/1135 [==============================] - 13s 12ms/step - loss: 8.4511e-04 - mse: 8.4511e-04 - acc: 0.5724 - val_loss: 0.0011 - val_mse: 0.0011 - val_acc: 0.5365\n",
      "Epoch 27/30\n",
      "1135/1135 [==============================] - 14s 13ms/step - loss: 8.4120e-04 - mse: 8.4120e-04 - acc: 0.5734 - val_loss: 0.0013 - val_mse: 0.0013 - val_acc: 0.5360\n",
      "Epoch 28/30\n",
      "1135/1135 [==============================] - 14s 12ms/step - loss: 8.3980e-04 - mse: 8.3980e-04 - acc: 0.5718 - val_loss: 0.0012 - val_mse: 0.0012 - val_acc: 0.5130\n",
      "Epoch 29/30\n",
      "1135/1135 [==============================] - 13s 12ms/step - loss: 8.4088e-04 - mse: 8.4088e-04 - acc: 0.5710 - val_loss: 0.0012 - val_mse: 0.0012 - val_acc: 0.5667\n",
      "Epoch 30/30\n",
      "1135/1135 [==============================] - 14s 13ms/step - loss: 8.3356e-04 - mse: 8.3356e-04 - acc: 0.5730 - val_loss: 0.0013 - val_mse: 0.0013 - val_acc: 0.5083\n"
     ]
    },
    {
     "data": {
      "text/plain": [
       "<keras.callbacks.History at 0x2774170a6e0>"
      ]
     },
     "execution_count": 47,
     "metadata": {},
     "output_type": "execute_result"
    }
   ],
   "source": [
    "# Fit the model\n",
    "model.compile(loss=MeanSquaredError(), optimizer=Adam(learning_rate = 0.01), metrics = ['mse', 'acc'])\n",
    "model.fit(X_train, \n",
    "          y_train, \n",
    "          batch_size=100,\n",
    "          epochs=30,\n",
    "          verbose='auto',\n",
    "          callbacks=None,\n",
    "          validation_split=0.1,\n",
    "          shuffle=True)"
   ]
  },
  {
   "cell_type": "code",
   "execution_count": 48,
   "id": "ed47bbbb",
   "metadata": {},
   "outputs": [
    {
     "name": "stderr",
     "output_type": "stream",
     "text": [
      "WARNING:absl:Found untraced functions such as lstm_cell_19_layer_call_fn, lstm_cell_19_layer_call_and_return_conditional_losses, lstm_cell_20_layer_call_fn, lstm_cell_20_layer_call_and_return_conditional_losses while saving (showing 4 of 4). These functions will not be directly callable after loading.\n"
     ]
    },
    {
     "name": "stdout",
     "output_type": "stream",
     "text": [
      "INFO:tensorflow:Assets written to: ./LSTM/models/BiLSTM_32-8\\assets\n"
     ]
    },
    {
     "name": "stderr",
     "output_type": "stream",
     "text": [
      "INFO:tensorflow:Assets written to: ./LSTM/models/BiLSTM_32-8\\assets\n"
     ]
    },
    {
     "name": "stdout",
     "output_type": "stream",
     "text": [
      "3939/3939 [==============================] - 8s 2ms/step\n",
      "984/984 [==============================] - 2s 2ms/step\n",
      "mean_squared_error\n",
      "train set: 0.0008957640480050996\n",
      "test set: 0.0009218894732674655\n"
     ]
    }
   ],
   "source": [
    "# save trained model\n",
    "model.save('./LSTM/models/' + model_name)\n",
    "# evaluate the model\n",
    "from sklearn.metrics import mean_squared_error\n",
    "\n",
    "y_hat_train = model.predict(X_train)\n",
    "y_hat_test = model.predict(X_test)\n",
    "\n",
    "print('mean_squared_error')\n",
    "print('train set:', mean_squared_error(y_train, y_hat_train, sample_weight=None))\n",
    "print('test set:', mean_squared_error(y_test, y_hat_test, sample_weight=None))"
   ]
  },
  {
   "cell_type": "markdown",
   "id": "147e0a20",
   "metadata": {},
   "source": [
    "## input length : output length = 40:10"
   ]
  },
  {
   "cell_type": "code",
   "execution_count": 49,
   "id": "0c9521fc",
   "metadata": {},
   "outputs": [],
   "source": [
    "# reset memory\n",
    "tf.Graph().as_default() \n",
    "\n",
    "# prepare sequences\n",
    "seq_len = 40\n",
    "forecast_len = 10\n",
    "X_train, y_train = split_sequences(train[:,:-1], train[:,-1], seq_len = seq_len, forecast_len = forecast_len)\n",
    "X_test, y_test = split_sequences(test[:,:-1], test[:,-1],seq_len = seq_len, forecast_len =  forecast_len)\n",
    "n_features = X_train.shape[2]"
   ]
  },
  {
   "cell_type": "code",
   "execution_count": 50,
   "id": "2091b9f3",
   "metadata": {},
   "outputs": [
    {
     "name": "stdout",
     "output_type": "stream",
     "text": [
      "Model: \"BiLSTM_40-10\"\n",
      "_________________________________________________________________\n",
      " Layer (type)                Output Shape              Param #   \n",
      "=================================================================\n",
      " input (InputLayer)          [(None, 40, 12)]          0         \n",
      "                                                                 \n",
      " bilstm_1 (Bidirectional)    (None, 60)                10320     \n",
      "                                                                 \n",
      " dense_1 (Dense)             (None, 10)                610       \n",
      "                                                                 \n",
      "=================================================================\n",
      "Total params: 10,930\n",
      "Trainable params: 10,930\n",
      "Non-trainable params: 0\n",
      "_________________________________________________________________\n"
     ]
    }
   ],
   "source": [
    "# create model instance\n",
    "model_name = 'BiLSTM_40-10'\n",
    "model = MyModel(input_shape = (seq_len, n_features), output_shape = (forecast_len), name = model_name)\n",
    "model.summary()"
   ]
  },
  {
   "cell_type": "code",
   "execution_count": 51,
   "id": "2de6ddb4",
   "metadata": {},
   "outputs": [
    {
     "name": "stdout",
     "output_type": "stream",
     "text": [
      "Epoch 1/30\n",
      "1135/1135 [==============================] - 20s 15ms/step - loss: 0.0262 - mse: 0.0262 - acc: 0.3476 - val_loss: 0.0028 - val_mse: 0.0028 - val_acc: 0.3716\n",
      "Epoch 2/30\n",
      "1135/1135 [==============================] - 15s 13ms/step - loss: 0.0015 - mse: 0.0015 - acc: 0.4740 - val_loss: 0.0018 - val_mse: 0.0018 - val_acc: 0.3668\n",
      "Epoch 3/30\n",
      "1135/1135 [==============================] - 15s 13ms/step - loss: 0.0014 - mse: 0.0014 - acc: 0.4979 - val_loss: 0.0014 - val_mse: 0.0014 - val_acc: 0.4561\n",
      "Epoch 4/30\n",
      "1135/1135 [==============================] - 16s 14ms/step - loss: 0.0014 - mse: 0.0014 - acc: 0.5044 - val_loss: 0.0015 - val_mse: 0.0015 - val_acc: 0.4685\n",
      "Epoch 5/30\n",
      "1135/1135 [==============================] - 16s 14ms/step - loss: 0.0013 - mse: 0.0013 - acc: 0.5055 - val_loss: 0.0013 - val_mse: 0.0013 - val_acc: 0.4700\n",
      "Epoch 6/30\n",
      "1135/1135 [==============================] - 16s 14ms/step - loss: 0.0013 - mse: 0.0013 - acc: 0.5088 - val_loss: 0.0014 - val_mse: 0.0014 - val_acc: 0.4494\n",
      "Epoch 7/30\n",
      "1135/1135 [==============================] - 16s 14ms/step - loss: 0.0013 - mse: 0.0013 - acc: 0.5119 - val_loss: 0.0015 - val_mse: 0.0015 - val_acc: 0.4338\n",
      "Epoch 8/30\n",
      "1135/1135 [==============================] - 16s 15ms/step - loss: 0.0012 - mse: 0.0012 - acc: 0.5162 - val_loss: 0.0014 - val_mse: 0.0014 - val_acc: 0.5034\n",
      "Epoch 9/30\n",
      "1135/1135 [==============================] - 16s 14ms/step - loss: 0.0012 - mse: 0.0012 - acc: 0.5208 - val_loss: 0.0015 - val_mse: 0.0015 - val_acc: 0.5392\n",
      "Epoch 10/30\n",
      "1135/1135 [==============================] - 15s 13ms/step - loss: 0.0012 - mse: 0.0012 - acc: 0.5267 - val_loss: 0.0015 - val_mse: 0.0015 - val_acc: 0.4645\n",
      "Epoch 11/30\n",
      "1135/1135 [==============================] - 15s 13ms/step - loss: 0.0012 - mse: 0.0012 - acc: 0.5286 - val_loss: 0.0013 - val_mse: 0.0013 - val_acc: 0.5168\n",
      "Epoch 12/30\n",
      "1135/1135 [==============================] - 16s 14ms/step - loss: 0.0011 - mse: 0.0011 - acc: 0.5289 - val_loss: 0.0013 - val_mse: 0.0013 - val_acc: 0.4838\n",
      "Epoch 13/30\n",
      "1135/1135 [==============================] - 16s 14ms/step - loss: 0.0011 - mse: 0.0011 - acc: 0.5310 - val_loss: 0.0015 - val_mse: 0.0015 - val_acc: 0.4746\n",
      "Epoch 14/30\n",
      "1135/1135 [==============================] - 16s 14ms/step - loss: 0.0011 - mse: 0.0011 - acc: 0.5320 - val_loss: 0.0014 - val_mse: 0.0014 - val_acc: 0.5175\n",
      "Epoch 15/30\n",
      "1135/1135 [==============================] - 16s 14ms/step - loss: 0.0011 - mse: 0.0011 - acc: 0.5333 - val_loss: 0.0013 - val_mse: 0.0013 - val_acc: 0.5370\n",
      "Epoch 16/30\n",
      "1135/1135 [==============================] - 16s 14ms/step - loss: 0.0011 - mse: 0.0011 - acc: 0.5354 - val_loss: 0.0014 - val_mse: 0.0014 - val_acc: 0.5037\n",
      "Epoch 17/30\n",
      "1135/1135 [==============================] - 17s 15ms/step - loss: 0.0011 - mse: 0.0011 - acc: 0.5363 - val_loss: 0.0016 - val_mse: 0.0016 - val_acc: 0.5331\n",
      "Epoch 18/30\n",
      "1135/1135 [==============================] - 16s 15ms/step - loss: 0.0011 - mse: 0.0011 - acc: 0.5369 - val_loss: 0.0015 - val_mse: 0.0015 - val_acc: 0.5234\n",
      "Epoch 19/30\n",
      "1135/1135 [==============================] - 16s 15ms/step - loss: 0.0011 - mse: 0.0011 - acc: 0.5359 - val_loss: 0.0013 - val_mse: 0.0013 - val_acc: 0.4657\n",
      "Epoch 20/30\n",
      "1135/1135 [==============================] - 17s 15ms/step - loss: 0.0011 - mse: 0.0011 - acc: 0.5370 - val_loss: 0.0019 - val_mse: 0.0019 - val_acc: 0.5014\n",
      "Epoch 21/30\n",
      "1135/1135 [==============================] - 17s 15ms/step - loss: 0.0011 - mse: 0.0011 - acc: 0.5366 - val_loss: 0.0015 - val_mse: 0.0015 - val_acc: 0.5213\n",
      "Epoch 22/30\n",
      "1135/1135 [==============================] - 17s 15ms/step - loss: 0.0011 - mse: 0.0011 - acc: 0.5382 - val_loss: 0.0014 - val_mse: 0.0014 - val_acc: 0.5442\n",
      "Epoch 23/30\n",
      "1135/1135 [==============================] - 16s 14ms/step - loss: 0.0011 - mse: 0.0011 - acc: 0.5378 - val_loss: 0.0015 - val_mse: 0.0015 - val_acc: 0.4996\n",
      "Epoch 24/30\n",
      "1135/1135 [==============================] - 16s 14ms/step - loss: 0.0011 - mse: 0.0011 - acc: 0.5395 - val_loss: 0.0016 - val_mse: 0.0016 - val_acc: 0.5227\n",
      "Epoch 25/30\n",
      "1135/1135 [==============================] - 16s 14ms/step - loss: 0.0010 - mse: 0.0010 - acc: 0.5400 - val_loss: 0.0014 - val_mse: 0.0014 - val_acc: 0.5001\n",
      "Epoch 26/30\n",
      "1135/1135 [==============================] - 15s 14ms/step - loss: 0.0010 - mse: 0.0010 - acc: 0.5379 - val_loss: 0.0014 - val_mse: 0.0014 - val_acc: 0.5142\n",
      "Epoch 27/30\n",
      "1135/1135 [==============================] - 16s 14ms/step - loss: 0.0010 - mse: 0.0010 - acc: 0.5394 - val_loss: 0.0014 - val_mse: 0.0014 - val_acc: 0.5390\n",
      "Epoch 28/30\n",
      "1135/1135 [==============================] - 17s 15ms/step - loss: 0.0010 - mse: 0.0010 - acc: 0.5406 - val_loss: 0.0013 - val_mse: 0.0013 - val_acc: 0.5218\n",
      "Epoch 29/30\n",
      "1135/1135 [==============================] - 17s 15ms/step - loss: 0.0010 - mse: 0.0010 - acc: 0.5400 - val_loss: 0.0014 - val_mse: 0.0014 - val_acc: 0.4700\n",
      "Epoch 30/30\n",
      "1135/1135 [==============================] - 16s 15ms/step - loss: 0.0010 - mse: 0.0010 - acc: 0.5384 - val_loss: 0.0015 - val_mse: 0.0015 - val_acc: 0.5248\n"
     ]
    },
    {
     "data": {
      "text/plain": [
       "<keras.callbacks.History at 0x2773ec4a3b0>"
      ]
     },
     "execution_count": 51,
     "metadata": {},
     "output_type": "execute_result"
    }
   ],
   "source": [
    "# Fit the model\n",
    "model.compile(loss=MeanSquaredError(), optimizer=Adam(learning_rate = 0.01), metrics = ['mse', 'acc'])\n",
    "model.fit(X_train, \n",
    "          y_train, \n",
    "          batch_size=100,\n",
    "          epochs=30,\n",
    "          verbose='auto',\n",
    "          callbacks=None,\n",
    "          validation_split=0.1,\n",
    "          shuffle=True)\n"
   ]
  },
  {
   "cell_type": "code",
   "execution_count": 52,
   "id": "881a1c18",
   "metadata": {},
   "outputs": [
    {
     "name": "stderr",
     "output_type": "stream",
     "text": [
      "WARNING:absl:Found untraced functions such as lstm_cell_22_layer_call_fn, lstm_cell_22_layer_call_and_return_conditional_losses, lstm_cell_23_layer_call_fn, lstm_cell_23_layer_call_and_return_conditional_losses while saving (showing 4 of 4). These functions will not be directly callable after loading.\n"
     ]
    },
    {
     "name": "stdout",
     "output_type": "stream",
     "text": [
      "INFO:tensorflow:Assets written to: ./LSTM/models/BiLSTM_40-10\\assets\n"
     ]
    },
    {
     "name": "stderr",
     "output_type": "stream",
     "text": [
      "INFO:tensorflow:Assets written to: ./LSTM/models/BiLSTM_40-10\\assets\n"
     ]
    },
    {
     "name": "stdout",
     "output_type": "stream",
     "text": [
      "3938/3938 [==============================] - 9s 2ms/step\n",
      "984/984 [==============================] - 2s 2ms/step\n",
      "mean_squared_error\n",
      "train set: 0.001059352061533607\n",
      "test set: 0.0011339804367236572\n"
     ]
    }
   ],
   "source": [
    "# save trained model\n",
    "model.save('./LSTM/models/' + model_name)\n",
    "# evaluate the model\n",
    "from sklearn.metrics import mean_squared_error\n",
    "\n",
    "y_hat_train = model.predict(X_train)\n",
    "y_hat_test = model.predict(X_test)\n",
    "\n",
    "print('mean_squared_error')\n",
    "print('train set:', mean_squared_error(y_train, y_hat_train, sample_weight=None))\n",
    "print('test set:', mean_squared_error(y_test, y_hat_test, sample_weight=None))"
   ]
  },
  {
   "cell_type": "code",
   "execution_count": null,
   "id": "f75c5a73-c40f-4b16-bef3-463526a7798f",
   "metadata": {},
   "outputs": [],
   "source": []
  }
 ],
 "metadata": {
  "kernelspec": {
   "display_name": "Python 3 (ipykernel)",
   "language": "python",
   "name": "python3"
  },
  "language_info": {
   "codemirror_mode": {
    "name": "ipython",
    "version": 3
   },
   "file_extension": ".py",
   "mimetype": "text/x-python",
   "name": "python",
   "nbconvert_exporter": "python",
   "pygments_lexer": "ipython3",
   "version": "3.10.13"
  }
 },
 "nbformat": 4,
 "nbformat_minor": 5
}
