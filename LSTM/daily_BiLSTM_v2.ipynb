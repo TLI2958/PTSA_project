{
 "cells": [
  {
   "cell_type": "code",
   "execution_count": 1,
   "id": "3788ae25",
   "metadata": {
    "id": "3788ae25"
   },
   "outputs": [],
   "source": [
    "import warnings\n",
    "warnings.filterwarnings('ignore')\n",
    "\n",
    "import numpy as np\n",
    "import pandas as pd\n",
    "import matplotlib.pyplot as plt\n",
    "import seaborn as sns\n",
    "import tensorflow as tf"
   ]
  },
  {
   "cell_type": "code",
   "execution_count": 2,
   "id": "f7ec7b6f",
   "metadata": {
    "colab": {
     "base_uri": "https://localhost:8080/"
    },
    "id": "f7ec7b6f",
    "outputId": "92a7b146-ae98-4da9-f6ec-5e79a38905e1"
   },
   "outputs": [
    {
     "name": "stdout",
     "output_type": "stream",
     "text": [
      "[PhysicalDevice(name='/physical_device:CPU:0', device_type='CPU')]\n",
      "WARNING:tensorflow:From C:\\Users\\dujy0\\AppData\\Local\\Temp\\ipykernel_30016\\4004085722.py:13: is_gpu_available (from tensorflow.python.framework.test_util) is deprecated and will be removed in a future version.\n",
      "Instructions for updating:\n",
      "Use `tf.config.list_physical_devices('GPU')` instead.\n",
      "\n",
      "CUDA GPU: False\n"
     ]
    }
   ],
   "source": [
    "# Check for GPU\n",
    "import tensorflow as tf\n",
    "try:\n",
    "    from google.colab import drive\n",
    "    IN_COLAB=True\n",
    "except:\n",
    "    IN_COLAB=False\n",
    "\n",
    "if IN_COLAB:\n",
    "    print(\"We're running Colab\")\n",
    "else:\n",
    "    print(tf.config.list_physical_devices())\n",
    "    print('\\nCUDA GPU: ' + str(tf.test.is_gpu_available(cuda_only=True)))"
   ]
  },
  {
   "cell_type": "markdown",
   "id": "1f0ebbfa",
   "metadata": {
    "id": "1f0ebbfa"
   },
   "source": [
    "# Data Preprocessing"
   ]
  },
  {
   "cell_type": "code",
   "execution_count": 3,
   "id": "825068e6",
   "metadata": {
    "id": "825068e6"
   },
   "outputs": [],
   "source": [
    "import os\n",
    "os.chdir('..')\n",
    "df = pd.read_csv('./daily01-ithaca/daily01-NY_Ithaca_13_E.csv', header = 0, index_col = 0)\n",
    "Date = pd.to_datetime(df.LST_DATE, format='%Y%m%d', errors='coerce')\n",
    "df['Time'] = Date"
   ]
  },
  {
   "cell_type": "code",
   "execution_count": 4,
   "id": "ec34f475",
   "metadata": {
    "colab": {
     "base_uri": "https://localhost:8080/"
    },
    "id": "ec34f475",
    "outputId": "b270aad1-8d00-4006-aa4a-6830348c3bda"
   },
   "outputs": [
    {
     "data": {
      "text/html": [
       "<div>\n",
       "<style scoped>\n",
       "    .dataframe tbody tr th:only-of-type {\n",
       "        vertical-align: middle;\n",
       "    }\n",
       "\n",
       "    .dataframe tbody tr th {\n",
       "        vertical-align: top;\n",
       "    }\n",
       "\n",
       "    .dataframe thead th {\n",
       "        text-align: right;\n",
       "    }\n",
       "</style>\n",
       "<table border=\"1\" class=\"dataframe\">\n",
       "  <thead>\n",
       "    <tr style=\"text-align: right;\">\n",
       "      <th></th>\n",
       "      <th>WBANNO</th>\n",
       "      <th>LST_DATE</th>\n",
       "      <th>CRX_VN</th>\n",
       "      <th>LONGITUDE</th>\n",
       "      <th>LATITUDE</th>\n",
       "      <th>T_DAILY_MAX</th>\n",
       "      <th>T_DAILY_MIN</th>\n",
       "      <th>T_DAILY_MEAN</th>\n",
       "      <th>T_DAILY_AVG</th>\n",
       "      <th>P_DAILY_CALC</th>\n",
       "      <th>...</th>\n",
       "      <th>SOIL_MOISTURE_10_DAILY</th>\n",
       "      <th>SOIL_MOISTURE_20_DAILY</th>\n",
       "      <th>SOIL_MOISTURE_50_DAILY</th>\n",
       "      <th>SOIL_MOISTURE_100_DAILY</th>\n",
       "      <th>SOIL_TEMP_5_DAILY</th>\n",
       "      <th>SOIL_TEMP_10_DAILY</th>\n",
       "      <th>SOIL_TEMP_20_DAILY</th>\n",
       "      <th>SOIL_TEMP_50_DAILY</th>\n",
       "      <th>SOIL_TEMP_100_DAILY</th>\n",
       "      <th>Time</th>\n",
       "    </tr>\n",
       "  </thead>\n",
       "  <tbody>\n",
       "    <tr>\n",
       "      <th>0</th>\n",
       "      <td>64758</td>\n",
       "      <td>20041027</td>\n",
       "      <td>1.201</td>\n",
       "      <td>-76.25</td>\n",
       "      <td>42.44</td>\n",
       "      <td>NaN</td>\n",
       "      <td>NaN</td>\n",
       "      <td>NaN</td>\n",
       "      <td>NaN</td>\n",
       "      <td>NaN</td>\n",
       "      <td>...</td>\n",
       "      <td>NaN</td>\n",
       "      <td>NaN</td>\n",
       "      <td>NaN</td>\n",
       "      <td>NaN</td>\n",
       "      <td>NaN</td>\n",
       "      <td>NaN</td>\n",
       "      <td>NaN</td>\n",
       "      <td>NaN</td>\n",
       "      <td>NaN</td>\n",
       "      <td>2004-10-27</td>\n",
       "    </tr>\n",
       "    <tr>\n",
       "      <th>1</th>\n",
       "      <td>64758</td>\n",
       "      <td>20041028</td>\n",
       "      <td>1.201</td>\n",
       "      <td>-76.25</td>\n",
       "      <td>42.44</td>\n",
       "      <td>12.7</td>\n",
       "      <td>-0.3</td>\n",
       "      <td>6.2</td>\n",
       "      <td>5.0</td>\n",
       "      <td>0.0</td>\n",
       "      <td>...</td>\n",
       "      <td>NaN</td>\n",
       "      <td>NaN</td>\n",
       "      <td>NaN</td>\n",
       "      <td>NaN</td>\n",
       "      <td>NaN</td>\n",
       "      <td>NaN</td>\n",
       "      <td>NaN</td>\n",
       "      <td>NaN</td>\n",
       "      <td>NaN</td>\n",
       "      <td>2004-10-28</td>\n",
       "    </tr>\n",
       "    <tr>\n",
       "      <th>2</th>\n",
       "      <td>64758</td>\n",
       "      <td>20041029</td>\n",
       "      <td>1.201</td>\n",
       "      <td>-76.25</td>\n",
       "      <td>42.44</td>\n",
       "      <td>16.3</td>\n",
       "      <td>2.5</td>\n",
       "      <td>9.4</td>\n",
       "      <td>9.7</td>\n",
       "      <td>0.0</td>\n",
       "      <td>...</td>\n",
       "      <td>NaN</td>\n",
       "      <td>NaN</td>\n",
       "      <td>NaN</td>\n",
       "      <td>NaN</td>\n",
       "      <td>NaN</td>\n",
       "      <td>NaN</td>\n",
       "      <td>NaN</td>\n",
       "      <td>NaN</td>\n",
       "      <td>NaN</td>\n",
       "      <td>2004-10-29</td>\n",
       "    </tr>\n",
       "    <tr>\n",
       "      <th>3</th>\n",
       "      <td>64758</td>\n",
       "      <td>20041030</td>\n",
       "      <td>1.201</td>\n",
       "      <td>-76.25</td>\n",
       "      <td>42.44</td>\n",
       "      <td>17.5</td>\n",
       "      <td>10.5</td>\n",
       "      <td>14.0</td>\n",
       "      <td>14.5</td>\n",
       "      <td>1.8</td>\n",
       "      <td>...</td>\n",
       "      <td>NaN</td>\n",
       "      <td>NaN</td>\n",
       "      <td>NaN</td>\n",
       "      <td>NaN</td>\n",
       "      <td>NaN</td>\n",
       "      <td>NaN</td>\n",
       "      <td>NaN</td>\n",
       "      <td>NaN</td>\n",
       "      <td>NaN</td>\n",
       "      <td>2004-10-30</td>\n",
       "    </tr>\n",
       "    <tr>\n",
       "      <th>4</th>\n",
       "      <td>64758</td>\n",
       "      <td>20041031</td>\n",
       "      <td>1.201</td>\n",
       "      <td>-76.25</td>\n",
       "      <td>42.44</td>\n",
       "      <td>17.0</td>\n",
       "      <td>9.1</td>\n",
       "      <td>13.1</td>\n",
       "      <td>12.6</td>\n",
       "      <td>0.0</td>\n",
       "      <td>...</td>\n",
       "      <td>NaN</td>\n",
       "      <td>NaN</td>\n",
       "      <td>NaN</td>\n",
       "      <td>NaN</td>\n",
       "      <td>NaN</td>\n",
       "      <td>NaN</td>\n",
       "      <td>NaN</td>\n",
       "      <td>NaN</td>\n",
       "      <td>NaN</td>\n",
       "      <td>2004-10-31</td>\n",
       "    </tr>\n",
       "  </tbody>\n",
       "</table>\n",
       "<p>5 rows × 29 columns</p>\n",
       "</div>"
      ],
      "text/plain": [
       "   WBANNO  LST_DATE  CRX_VN  LONGITUDE  LATITUDE  T_DAILY_MAX  T_DAILY_MIN  \\\n",
       "0   64758  20041027   1.201     -76.25     42.44          NaN          NaN   \n",
       "1   64758  20041028   1.201     -76.25     42.44         12.7         -0.3   \n",
       "2   64758  20041029   1.201     -76.25     42.44         16.3          2.5   \n",
       "3   64758  20041030   1.201     -76.25     42.44         17.5         10.5   \n",
       "4   64758  20041031   1.201     -76.25     42.44         17.0          9.1   \n",
       "\n",
       "   T_DAILY_MEAN  T_DAILY_AVG  P_DAILY_CALC  ...  SOIL_MOISTURE_10_DAILY  \\\n",
       "0           NaN          NaN           NaN  ...                     NaN   \n",
       "1           6.2          5.0           0.0  ...                     NaN   \n",
       "2           9.4          9.7           0.0  ...                     NaN   \n",
       "3          14.0         14.5           1.8  ...                     NaN   \n",
       "4          13.1         12.6           0.0  ...                     NaN   \n",
       "\n",
       "  SOIL_MOISTURE_20_DAILY  SOIL_MOISTURE_50_DAILY  SOIL_MOISTURE_100_DAILY  \\\n",
       "0                    NaN                     NaN                      NaN   \n",
       "1                    NaN                     NaN                      NaN   \n",
       "2                    NaN                     NaN                      NaN   \n",
       "3                    NaN                     NaN                      NaN   \n",
       "4                    NaN                     NaN                      NaN   \n",
       "\n",
       "   SOIL_TEMP_5_DAILY  SOIL_TEMP_10_DAILY  SOIL_TEMP_20_DAILY  \\\n",
       "0                NaN                 NaN                 NaN   \n",
       "1                NaN                 NaN                 NaN   \n",
       "2                NaN                 NaN                 NaN   \n",
       "3                NaN                 NaN                 NaN   \n",
       "4                NaN                 NaN                 NaN   \n",
       "\n",
       "   SOIL_TEMP_50_DAILY  SOIL_TEMP_100_DAILY       Time  \n",
       "0                 NaN                  NaN 2004-10-27  \n",
       "1                 NaN                  NaN 2004-10-28  \n",
       "2                 NaN                  NaN 2004-10-29  \n",
       "3                 NaN                  NaN 2004-10-30  \n",
       "4                 NaN                  NaN 2004-10-31  \n",
       "\n",
       "[5 rows x 29 columns]"
      ]
     },
     "execution_count": 4,
     "metadata": {},
     "output_type": "execute_result"
    }
   ],
   "source": [
    "df.head()"
   ]
  },
  {
   "cell_type": "code",
   "execution_count": 5,
   "id": "ef4cc5e3",
   "metadata": {
    "id": "ef4cc5e3"
   },
   "outputs": [],
   "source": [
    "data = df[['T_DAILY_MAX',\n",
    "       'T_DAILY_MIN', 'T_DAILY_MEAN', 'T_DAILY_AVG', 'P_DAILY_CALC',\n",
    "       'SOLARAD_DAILY', 'SUR_TEMP_DAILY_MAX',\n",
    "       'SUR_TEMP_DAILY_MIN', 'SUR_TEMP_DAILY_AVG', 'RH_DAILY_MAX',\n",
    "       'RH_DAILY_MIN', 'RH_DAILY_AVG']]\n",
    "data.index = df['Time']"
   ]
  },
  {
   "cell_type": "code",
   "execution_count": 6,
   "id": "98be58ba",
   "metadata": {
    "colab": {
     "base_uri": "https://localhost:8080/"
    },
    "id": "98be58ba",
    "outputId": "723b036d-bd78-4de2-896b-0e6d49a3e15d"
   },
   "outputs": [
    {
     "data": {
      "text/plain": [
       "(6949, 12)"
      ]
     },
     "execution_count": 6,
     "metadata": {},
     "output_type": "execute_result"
    }
   ],
   "source": [
    "data.shape"
   ]
  },
  {
   "cell_type": "code",
   "execution_count": 7,
   "id": "d0d169f2",
   "metadata": {
    "id": "d0d169f2"
   },
   "outputs": [],
   "source": [
    "# forward fill the missing values\n",
    "data.ffill(axis = 0, inplace = True)\n",
    "# drop NaN at the top\n",
    "data.dropna(inplace = True)\n",
    "# set target\n",
    "data['target'] = data['T_DAILY_AVG']\n",
    "from sklearn.model_selection import train_test_split\n",
    "train, test = train_test_split(data, test_size=0.2, shuffle = False)"
   ]
  },
  {
   "cell_type": "code",
   "execution_count": 8,
   "id": "597b6d4b",
   "metadata": {
    "id": "597b6d4b"
   },
   "outputs": [],
   "source": [
    "from sklearn.preprocessing import MinMaxScaler\n",
    "import pickle\n",
    "\n",
    "scaler = MinMaxScaler()\n",
    "scaler.fit(train)\n",
    "train = scaler.transform(train)\n",
    "test = scaler.transform(test)"
   ]
  },
  {
   "cell_type": "code",
   "execution_count": 9,
   "id": "aba1ac71",
   "metadata": {
    "colab": {
     "base_uri": "https://localhost:8080/"
    },
    "id": "aba1ac71",
    "outputId": "26de5820-8f95-411f-8874-7d7105534dfb"
   },
   "outputs": [
    {
     "data": {
      "text/plain": [
       "(3672, 13)"
      ]
     },
     "execution_count": 9,
     "metadata": {},
     "output_type": "execute_result"
    }
   ],
   "source": [
    "train.shape"
   ]
  },
  {
   "cell_type": "code",
   "execution_count": 10,
   "id": "bf181b56",
   "metadata": {
    "colab": {
     "base_uri": "https://localhost:8080/"
    },
    "id": "bf181b56",
    "outputId": "5f06a974-220c-4a0d-809b-8c5eee7b6e53"
   },
   "outputs": [
    {
     "data": {
      "text/plain": [
       "(918, 13)"
      ]
     },
     "execution_count": 10,
     "metadata": {},
     "output_type": "execute_result"
    }
   ],
   "source": [
    "test.shape"
   ]
  },
  {
   "cell_type": "code",
   "execution_count": 11,
   "id": "99ce69f2",
   "metadata": {
    "id": "99ce69f2"
   },
   "outputs": [],
   "source": [
    "# splitting data into sequences\n",
    "def split_sequences(features, target, seq_len, forecast_len):\n",
    "    X,y = list(), list()\n",
    "    for i in range(len(features)):\n",
    "        end_input = i + seq_len\n",
    "        end_predict = end_input + forecast_len\n",
    "        if end_predict > len(features)-1:\n",
    "            break\n",
    "        seq_x, seq_y = features[i:end_input,:], target[end_input:end_predict]\n",
    "        X.append(seq_x)\n",
    "        y.append(seq_y)\n",
    "    return tf.convert_to_tensor(X, dtype=tf.float64), tf.convert_to_tensor(y, dtype=tf.float64)"
   ]
  },
  {
   "cell_type": "markdown",
   "id": "6adc7e6b",
   "metadata": {
    "id": "6adc7e6b"
   },
   "source": [
    "# Define Model"
   ]
  },
  {
   "cell_type": "code",
   "execution_count": 12,
   "id": "7e46daa1",
   "metadata": {
    "id": "7e46daa1"
   },
   "outputs": [],
   "source": [
    "from tensorflow.keras.models import Sequential, Model\n",
    "from tensorflow.keras.layers import LSTM, Dense, RNN, LSTMCell, Input, Bidirectional\n",
    "from tensorflow.keras.losses import BinaryCrossentropy, MeanSquaredError\n",
    "from tensorflow.keras.optimizers import Adam\n",
    "from tensorflow.keras.callbacks import TensorBoard\n",
    "from tensorflow.keras.utils import plot_model\n",
    "\n",
    "class MyModel(tf.keras.Model):\n",
    "\n",
    "    def __init__(self, input_shape, output_shape, name = 'BiLSTM-FC'):\n",
    "        super().__init__(name = name)\n",
    "        self.input_layer = Input(shape = input_shape, name = 'input')\n",
    "        self.lstm1 = Bidirectional(LSTM(units=30, activation = 'tanh', input_shape = input_shape, return_sequences=False, name = 'lstm_1'),name = 'bilstm_1')\n",
    "        self.dense1 = Dense(units=output_shape, activation = 'sigmoid', name = 'dense_1')\n",
    "        #self.dropout = tf.keras.layers.Dropout(0.5)\n",
    "\n",
    "    def call(self, inputs, training=False):\n",
    "        x = self.lstm1(inputs)\n",
    "        x = self.dense1(x)\n",
    "        #if training:\n",
    "        #  x = self.dropout(x, training=training)\n",
    "        return x\n",
    "\n",
    "    def summary(self):\n",
    "        model = Model(inputs = [self.input_layer], outputs = self.call(self.input_layer), name = self.name)\n",
    "        return model.summary()"
   ]
  },
  {
   "cell_type": "markdown",
   "id": "28807bc6",
   "metadata": {
    "id": "28807bc6"
   },
   "source": [
    "# Model Training\n",
    "## input length : output length = 16:4"
   ]
  },
  {
   "cell_type": "code",
   "execution_count": 13,
   "id": "03ec4f70",
   "metadata": {
    "id": "03ec4f70"
   },
   "outputs": [],
   "source": [
    "# prepare sequences\n",
    "seq_len = 16\n",
    "forecast_len = 4\n",
    "X_train, y_train = split_sequences(train[:,:-1], train[:,-1], seq_len = seq_len, forecast_len = forecast_len)\n",
    "X_test, y_test = split_sequences(test[:,:-1], test[:,-1],seq_len = seq_len, forecast_len =  forecast_len)\n",
    "n_features = X_train.shape[2]"
   ]
  },
  {
   "cell_type": "code",
   "execution_count": 14,
   "id": "c26eaa20",
   "metadata": {
    "colab": {
     "base_uri": "https://localhost:8080/"
    },
    "id": "c26eaa20",
    "outputId": "765c3d35-253d-4890-ce6c-5aa9a098c39a"
   },
   "outputs": [
    {
     "data": {
      "text/plain": [
       "TensorShape([3652, 16, 12])"
      ]
     },
     "execution_count": 14,
     "metadata": {},
     "output_type": "execute_result"
    }
   ],
   "source": [
    "X_train.shape"
   ]
  },
  {
   "cell_type": "code",
   "execution_count": 15,
   "id": "039bed2b",
   "metadata": {
    "colab": {
     "base_uri": "https://localhost:8080/"
    },
    "id": "039bed2b",
    "outputId": "d2a3473c-b45d-41d3-9fe5-f87a359c9a72"
   },
   "outputs": [
    {
     "data": {
      "text/plain": [
       "TensorShape([3652, 4])"
      ]
     },
     "execution_count": 15,
     "metadata": {},
     "output_type": "execute_result"
    }
   ],
   "source": [
    "y_train.shape"
   ]
  },
  {
   "cell_type": "code",
   "execution_count": 16,
   "id": "7f03c179",
   "metadata": {
    "colab": {
     "base_uri": "https://localhost:8080/"
    },
    "id": "7f03c179",
    "outputId": "35b7c868-74f1-49f7-90ca-2d1b99363aa9"
   },
   "outputs": [
    {
     "name": "stdout",
     "output_type": "stream",
     "text": [
      "Model: \"BiLSTM_16-4\"\n",
      "_________________________________________________________________\n",
      " Layer (type)                Output Shape              Param #   \n",
      "=================================================================\n",
      " input (InputLayer)          [(None, 16, 12)]          0         \n",
      "                                                                 \n",
      " bilstm_1 (Bidirectional)    (None, 60)                10320     \n",
      "                                                                 \n",
      " dense_1 (Dense)             (None, 4)                 244       \n",
      "                                                                 \n",
      "=================================================================\n",
      "Total params: 10,564\n",
      "Trainable params: 10,564\n",
      "Non-trainable params: 0\n",
      "_________________________________________________________________\n"
     ]
    }
   ],
   "source": [
    "# create model instance\n",
    "model_name = 'BiLSTM_16-4'\n",
    "model = MyModel(input_shape = (seq_len, n_features), output_shape = (forecast_len), name = model_name)\n",
    "model.summary()"
   ]
  },
  {
   "cell_type": "code",
   "execution_count": 17,
   "id": "06942327",
   "metadata": {
    "colab": {
     "base_uri": "https://localhost:8080/"
    },
    "id": "06942327",
    "outputId": "327d16b0-0506-4f7e-b2f8-13764fe2a9f3"
   },
   "outputs": [
    {
     "name": "stdout",
     "output_type": "stream",
     "text": [
      "Epoch 1/30\n",
      "33/33 [==============================] - 3s 24ms/step - loss: 0.0187 - mse: 0.0187 - acc: 0.2419 - val_loss: 0.0082 - val_mse: 0.0082 - val_acc: 0.2404\n",
      "Epoch 2/30\n",
      "33/33 [==============================] - 0s 7ms/step - loss: 0.0084 - mse: 0.0084 - acc: 0.2626 - val_loss: 0.0073 - val_mse: 0.0073 - val_acc: 0.2923\n",
      "Epoch 3/30\n",
      "33/33 [==============================] - 0s 7ms/step - loss: 0.0079 - mse: 0.0079 - acc: 0.3083 - val_loss: 0.0067 - val_mse: 0.0067 - val_acc: 0.2541\n",
      "Epoch 4/30\n",
      "33/33 [==============================] - 0s 8ms/step - loss: 0.0078 - mse: 0.0078 - acc: 0.3357 - val_loss: 0.0066 - val_mse: 0.0066 - val_acc: 0.2623\n",
      "Epoch 5/30\n",
      "33/33 [==============================] - 0s 7ms/step - loss: 0.0076 - mse: 0.0076 - acc: 0.3421 - val_loss: 0.0070 - val_mse: 0.0070 - val_acc: 0.3852\n",
      "Epoch 6/30\n",
      "33/33 [==============================] - 0s 6ms/step - loss: 0.0075 - mse: 0.0075 - acc: 0.3475 - val_loss: 0.0064 - val_mse: 0.0064 - val_acc: 0.3197\n",
      "Epoch 7/30\n",
      "33/33 [==============================] - 0s 6ms/step - loss: 0.0073 - mse: 0.0073 - acc: 0.3597 - val_loss: 0.0068 - val_mse: 0.0068 - val_acc: 0.3798\n",
      "Epoch 8/30\n",
      "33/33 [==============================] - 0s 6ms/step - loss: 0.0074 - mse: 0.0074 - acc: 0.3579 - val_loss: 0.0069 - val_mse: 0.0069 - val_acc: 0.3333\n",
      "Epoch 9/30\n",
      "33/33 [==============================] - 0s 7ms/step - loss: 0.0074 - mse: 0.0074 - acc: 0.3691 - val_loss: 0.0063 - val_mse: 0.0063 - val_acc: 0.3333\n",
      "Epoch 10/30\n",
      "33/33 [==============================] - 0s 6ms/step - loss: 0.0072 - mse: 0.0072 - acc: 0.3807 - val_loss: 0.0063 - val_mse: 0.0063 - val_acc: 0.4071\n",
      "Epoch 11/30\n",
      "33/33 [==============================] - 0s 7ms/step - loss: 0.0070 - mse: 0.0070 - acc: 0.3634 - val_loss: 0.0064 - val_mse: 0.0064 - val_acc: 0.3415\n",
      "Epoch 12/30\n",
      "33/33 [==============================] - 0s 7ms/step - loss: 0.0070 - mse: 0.0070 - acc: 0.3807 - val_loss: 0.0063 - val_mse: 0.0063 - val_acc: 0.4098\n",
      "Epoch 13/30\n",
      "33/33 [==============================] - 0s 7ms/step - loss: 0.0072 - mse: 0.0072 - acc: 0.3758 - val_loss: 0.0065 - val_mse: 0.0065 - val_acc: 0.3798\n",
      "Epoch 14/30\n",
      "33/33 [==============================] - 0s 7ms/step - loss: 0.0070 - mse: 0.0070 - acc: 0.3761 - val_loss: 0.0064 - val_mse: 0.0064 - val_acc: 0.3552\n",
      "Epoch 15/30\n",
      "33/33 [==============================] - 0s 7ms/step - loss: 0.0070 - mse: 0.0070 - acc: 0.3603 - val_loss: 0.0064 - val_mse: 0.0064 - val_acc: 0.3770\n",
      "Epoch 16/30\n",
      "33/33 [==============================] - 0s 6ms/step - loss: 0.0069 - mse: 0.0069 - acc: 0.3719 - val_loss: 0.0063 - val_mse: 0.0063 - val_acc: 0.3388\n",
      "Epoch 17/30\n",
      "33/33 [==============================] - 0s 7ms/step - loss: 0.0069 - mse: 0.0069 - acc: 0.3764 - val_loss: 0.0068 - val_mse: 0.0068 - val_acc: 0.4208\n",
      "Epoch 18/30\n",
      "33/33 [==============================] - 0s 7ms/step - loss: 0.0069 - mse: 0.0069 - acc: 0.3813 - val_loss: 0.0065 - val_mse: 0.0065 - val_acc: 0.4126\n",
      "Epoch 19/30\n",
      "33/33 [==============================] - 0s 7ms/step - loss: 0.0068 - mse: 0.0068 - acc: 0.3853 - val_loss: 0.0066 - val_mse: 0.0066 - val_acc: 0.3716\n",
      "Epoch 20/30\n",
      "33/33 [==============================] - 0s 6ms/step - loss: 0.0069 - mse: 0.0069 - acc: 0.3731 - val_loss: 0.0065 - val_mse: 0.0065 - val_acc: 0.3689\n",
      "Epoch 21/30\n",
      "33/33 [==============================] - 0s 7ms/step - loss: 0.0068 - mse: 0.0068 - acc: 0.3737 - val_loss: 0.0066 - val_mse: 0.0066 - val_acc: 0.3142\n",
      "Epoch 22/30\n",
      "33/33 [==============================] - 0s 8ms/step - loss: 0.0069 - mse: 0.0069 - acc: 0.3798 - val_loss: 0.0064 - val_mse: 0.0064 - val_acc: 0.3388\n",
      "Epoch 23/30\n",
      "33/33 [==============================] - 0s 6ms/step - loss: 0.0068 - mse: 0.0068 - acc: 0.3804 - val_loss: 0.0067 - val_mse: 0.0067 - val_acc: 0.3907\n",
      "Epoch 24/30\n",
      "33/33 [==============================] - 0s 7ms/step - loss: 0.0068 - mse: 0.0068 - acc: 0.3841 - val_loss: 0.0066 - val_mse: 0.0066 - val_acc: 0.3443\n",
      "Epoch 25/30\n",
      "33/33 [==============================] - 0s 7ms/step - loss: 0.0067 - mse: 0.0067 - acc: 0.3871 - val_loss: 0.0066 - val_mse: 0.0066 - val_acc: 0.3224\n",
      "Epoch 26/30\n",
      "33/33 [==============================] - 0s 7ms/step - loss: 0.0067 - mse: 0.0067 - acc: 0.3886 - val_loss: 0.0064 - val_mse: 0.0064 - val_acc: 0.3798\n",
      "Epoch 27/30\n",
      "33/33 [==============================] - 0s 7ms/step - loss: 0.0068 - mse: 0.0068 - acc: 0.3935 - val_loss: 0.0066 - val_mse: 0.0066 - val_acc: 0.3361\n",
      "Epoch 28/30\n",
      "33/33 [==============================] - 0s 7ms/step - loss: 0.0066 - mse: 0.0066 - acc: 0.3907 - val_loss: 0.0065 - val_mse: 0.0065 - val_acc: 0.3279\n",
      "Epoch 29/30\n",
      "33/33 [==============================] - 0s 6ms/step - loss: 0.0068 - mse: 0.0068 - acc: 0.3822 - val_loss: 0.0064 - val_mse: 0.0064 - val_acc: 0.3880\n",
      "Epoch 30/30\n",
      "33/33 [==============================] - 0s 7ms/step - loss: 0.0067 - mse: 0.0067 - acc: 0.3911 - val_loss: 0.0066 - val_mse: 0.0066 - val_acc: 0.3306\n"
     ]
    },
    {
     "name": "stderr",
     "output_type": "stream",
     "text": [
      "WARNING:absl:Found untraced functions such as lstm_cell_1_layer_call_fn, lstm_cell_1_layer_call_and_return_conditional_losses, lstm_cell_2_layer_call_fn, lstm_cell_2_layer_call_and_return_conditional_losses while saving (showing 4 of 4). These functions will not be directly callable after loading.\n"
     ]
    },
    {
     "name": "stdout",
     "output_type": "stream",
     "text": [
      "INFO:tensorflow:Assets written to: ./LSTM/models_daily_v2/BiLSTM_16-4\\assets\n"
     ]
    },
    {
     "name": "stderr",
     "output_type": "stream",
     "text": [
      "INFO:tensorflow:Assets written to: ./LSTM/models_daily_v2/BiLSTM_16-4\\assets\n"
     ]
    }
   ],
   "source": [
    "# Fit the model\n",
    "model.compile(loss=MeanSquaredError(), optimizer=Adam(learning_rate = 0.01), metrics = ['mse', 'acc'])\n",
    "model.fit(X_train,\n",
    "          y_train,\n",
    "          batch_size=100,\n",
    "          epochs=30,\n",
    "          verbose='auto',\n",
    "          callbacks=None,\n",
    "          validation_split=0.1,\n",
    "          shuffle=True)\n",
    "# traning for > 40 epoch starts to overfit\n",
    "# save trained model\n",
    "model.save('./LSTM/models_daily_v2/' + model_name)"
   ]
  },
  {
   "cell_type": "code",
   "execution_count": 18,
   "id": "ceea1dc7",
   "metadata": {
    "colab": {
     "base_uri": "https://localhost:8080/"
    },
    "id": "ceea1dc7",
    "outputId": "11ab063d-975d-4ee8-8b0c-a449c2f4aaab"
   },
   "outputs": [
    {
     "name": "stdout",
     "output_type": "stream",
     "text": [
      "115/115 [==============================] - 1s 1ms/step\n",
      "29/29 [==============================] - 0s 1ms/step\n"
     ]
    }
   ],
   "source": [
    "y_hat_train = model.predict(X_train)\n",
    "y_hat_test = model.predict(X_test)"
   ]
  },
  {
   "cell_type": "code",
   "execution_count": 19,
   "id": "bd0043ef",
   "metadata": {
    "colab": {
     "base_uri": "https://localhost:8080/"
    },
    "id": "bd0043ef",
    "outputId": "ddef9dbd-73b2-49db-d6a0-81bb36197fca"
   },
   "outputs": [
    {
     "name": "stdout",
     "output_type": "stream",
     "text": [
      "mean_squared_error\n",
      "train set: 0.006953973749311129\n",
      "test set: 0.007176994875978931\n"
     ]
    }
   ],
   "source": [
    "from sklearn.metrics import mean_squared_error\n",
    "print('mean_squared_error')\n",
    "print('train set:', mean_squared_error(y_train, y_hat_train, sample_weight=None))\n",
    "print('test set:', mean_squared_error(y_test, y_hat_test, sample_weight=None))"
   ]
  },
  {
   "cell_type": "markdown",
   "id": "1258ce9b",
   "metadata": {
    "id": "1258ce9b"
   },
   "source": [
    "## input length : output length = 24:6"
   ]
  },
  {
   "cell_type": "code",
   "execution_count": 20,
   "id": "8be2411e",
   "metadata": {
    "id": "8be2411e"
   },
   "outputs": [],
   "source": [
    "# reset memory\n",
    "tf.Graph().as_default()\n",
    "\n",
    "# prepare sequences\n",
    "seq_len = 24\n",
    "forecast_len = 6\n",
    "X_train, y_train = split_sequences(train[:,:-1], train[:,-1], seq_len = seq_len, forecast_len = forecast_len)\n",
    "X_test, y_test = split_sequences(test[:,:-1], test[:,-1],seq_len = seq_len, forecast_len =  forecast_len)\n",
    "n_features = X_train.shape[2]"
   ]
  },
  {
   "cell_type": "code",
   "execution_count": 21,
   "id": "787bb430",
   "metadata": {
    "id": "787bb430",
    "outputId": "54bc67c8-56ed-4d5c-e398-f943317bcf3f"
   },
   "outputs": [
    {
     "name": "stdout",
     "output_type": "stream",
     "text": [
      "Model: \"BiLSTM_24-6\"\n",
      "_________________________________________________________________\n",
      " Layer (type)                Output Shape              Param #   \n",
      "=================================================================\n",
      " input (InputLayer)          [(None, 24, 12)]          0         \n",
      "                                                                 \n",
      " bilstm_1 (Bidirectional)    (None, 60)                10320     \n",
      "                                                                 \n",
      " dense_1 (Dense)             (None, 6)                 366       \n",
      "                                                                 \n",
      "=================================================================\n",
      "Total params: 10,686\n",
      "Trainable params: 10,686\n",
      "Non-trainable params: 0\n",
      "_________________________________________________________________\n"
     ]
    }
   ],
   "source": [
    "# create model instance\n",
    "model_name = 'BiLSTM_24-6'\n",
    "model = MyModel(input_shape = (seq_len, n_features), output_shape = (forecast_len), name = model_name)\n",
    "model.summary()"
   ]
  },
  {
   "cell_type": "code",
   "execution_count": 22,
   "id": "c2e8f948",
   "metadata": {
    "id": "c2e8f948",
    "outputId": "8ac4a356-bf84-42af-af69-98dade95567f"
   },
   "outputs": [
    {
     "name": "stdout",
     "output_type": "stream",
     "text": [
      "Epoch 1/30\n",
      "33/33 [==============================] - 3s 37ms/step - loss: 0.0155 - mse: 0.0155 - acc: 0.1709 - val_loss: 0.0082 - val_mse: 0.0082 - val_acc: 0.1342\n",
      "Epoch 2/30\n",
      "33/33 [==============================] - 0s 12ms/step - loss: 0.0087 - mse: 0.0087 - acc: 0.1633 - val_loss: 0.0077 - val_mse: 0.0077 - val_acc: 0.1945\n",
      "Epoch 3/30\n",
      "33/33 [==============================] - 0s 12ms/step - loss: 0.0086 - mse: 0.0086 - acc: 0.1852 - val_loss: 0.0077 - val_mse: 0.0077 - val_acc: 0.1918\n",
      "Epoch 4/30\n",
      "33/33 [==============================] - 0s 12ms/step - loss: 0.0085 - mse: 0.0085 - acc: 0.1913 - val_loss: 0.0076 - val_mse: 0.0076 - val_acc: 0.1808\n",
      "Epoch 5/30\n",
      "33/33 [==============================] - 0s 12ms/step - loss: 0.0081 - mse: 0.0081 - acc: 0.2157 - val_loss: 0.0077 - val_mse: 0.0077 - val_acc: 0.1616\n",
      "Epoch 6/30\n",
      "33/33 [==============================] - 0s 12ms/step - loss: 0.0081 - mse: 0.0081 - acc: 0.2359 - val_loss: 0.0075 - val_mse: 0.0075 - val_acc: 0.2137\n",
      "Epoch 7/30\n",
      "33/33 [==============================] - 0s 12ms/step - loss: 0.0082 - mse: 0.0082 - acc: 0.2209 - val_loss: 0.0074 - val_mse: 0.0074 - val_acc: 0.2164\n",
      "Epoch 8/30\n",
      "33/33 [==============================] - 0s 12ms/step - loss: 0.0079 - mse: 0.0079 - acc: 0.2356 - val_loss: 0.0074 - val_mse: 0.0074 - val_acc: 0.2247\n",
      "Epoch 9/30\n",
      "33/33 [==============================] - 0s 13ms/step - loss: 0.0078 - mse: 0.0078 - acc: 0.2350 - val_loss: 0.0071 - val_mse: 0.0071 - val_acc: 0.3041\n",
      "Epoch 10/30\n",
      "33/33 [==============================] - 0s 11ms/step - loss: 0.0077 - mse: 0.0077 - acc: 0.2408 - val_loss: 0.0069 - val_mse: 0.0069 - val_acc: 0.2274\n",
      "Epoch 11/30\n",
      "33/33 [==============================] - 0s 13ms/step - loss: 0.0078 - mse: 0.0078 - acc: 0.2399 - val_loss: 0.0068 - val_mse: 0.0068 - val_acc: 0.2247\n",
      "Epoch 12/30\n",
      "33/33 [==============================] - 0s 12ms/step - loss: 0.0076 - mse: 0.0076 - acc: 0.2432 - val_loss: 0.0074 - val_mse: 0.0074 - val_acc: 0.2712\n",
      "Epoch 13/30\n",
      "33/33 [==============================] - 0s 12ms/step - loss: 0.0076 - mse: 0.0076 - acc: 0.2624 - val_loss: 0.0072 - val_mse: 0.0072 - val_acc: 0.3014\n",
      "Epoch 14/30\n",
      "33/33 [==============================] - 0s 12ms/step - loss: 0.0076 - mse: 0.0076 - acc: 0.2637 - val_loss: 0.0070 - val_mse: 0.0070 - val_acc: 0.2712\n",
      "Epoch 15/30\n",
      "33/33 [==============================] - 0s 12ms/step - loss: 0.0075 - mse: 0.0075 - acc: 0.2695 - val_loss: 0.0070 - val_mse: 0.0070 - val_acc: 0.2493\n",
      "Epoch 16/30\n",
      "33/33 [==============================] - 0s 11ms/step - loss: 0.0074 - mse: 0.0074 - acc: 0.2710 - val_loss: 0.0071 - val_mse: 0.0071 - val_acc: 0.2438\n",
      "Epoch 17/30\n",
      "33/33 [==============================] - 0s 11ms/step - loss: 0.0074 - mse: 0.0074 - acc: 0.2746 - val_loss: 0.0068 - val_mse: 0.0068 - val_acc: 0.2658\n",
      "Epoch 18/30\n",
      "33/33 [==============================] - 0s 11ms/step - loss: 0.0074 - mse: 0.0074 - acc: 0.2557 - val_loss: 0.0071 - val_mse: 0.0071 - val_acc: 0.2603\n",
      "Epoch 19/30\n",
      "33/33 [==============================] - 0s 13ms/step - loss: 0.0073 - mse: 0.0073 - acc: 0.2777 - val_loss: 0.0074 - val_mse: 0.0074 - val_acc: 0.2877\n",
      "Epoch 20/30\n",
      "33/33 [==============================] - 0s 11ms/step - loss: 0.0073 - mse: 0.0073 - acc: 0.2850 - val_loss: 0.0070 - val_mse: 0.0070 - val_acc: 0.2493\n",
      "Epoch 21/30\n",
      "33/33 [==============================] - 0s 11ms/step - loss: 0.0072 - mse: 0.0072 - acc: 0.2777 - val_loss: 0.0070 - val_mse: 0.0070 - val_acc: 0.2877\n",
      "Epoch 22/30\n",
      "33/33 [==============================] - 0s 11ms/step - loss: 0.0072 - mse: 0.0072 - acc: 0.2728 - val_loss: 0.0071 - val_mse: 0.0071 - val_acc: 0.2795\n",
      "Epoch 23/30\n",
      "33/33 [==============================] - 0s 11ms/step - loss: 0.0070 - mse: 0.0070 - acc: 0.2673 - val_loss: 0.0070 - val_mse: 0.0070 - val_acc: 0.2849\n",
      "Epoch 24/30\n",
      "33/33 [==============================] - 0s 11ms/step - loss: 0.0069 - mse: 0.0069 - acc: 0.2838 - val_loss: 0.0072 - val_mse: 0.0072 - val_acc: 0.2466\n",
      "Epoch 25/30\n",
      "33/33 [==============================] - 0s 11ms/step - loss: 0.0069 - mse: 0.0069 - acc: 0.2670 - val_loss: 0.0075 - val_mse: 0.0075 - val_acc: 0.2575\n",
      "Epoch 26/30\n",
      "33/33 [==============================] - 0s 11ms/step - loss: 0.0071 - mse: 0.0071 - acc: 0.2698 - val_loss: 0.0070 - val_mse: 0.0070 - val_acc: 0.2740\n",
      "Epoch 27/30\n",
      "33/33 [==============================] - 0s 11ms/step - loss: 0.0070 - mse: 0.0070 - acc: 0.2777 - val_loss: 0.0071 - val_mse: 0.0071 - val_acc: 0.2603\n",
      "Epoch 28/30\n",
      "33/33 [==============================] - 0s 11ms/step - loss: 0.0068 - mse: 0.0068 - acc: 0.2716 - val_loss: 0.0074 - val_mse: 0.0074 - val_acc: 0.2712\n",
      "Epoch 29/30\n",
      "33/33 [==============================] - 0s 11ms/step - loss: 0.0068 - mse: 0.0068 - acc: 0.2859 - val_loss: 0.0076 - val_mse: 0.0076 - val_acc: 0.2822\n",
      "Epoch 30/30\n",
      "33/33 [==============================] - 0s 11ms/step - loss: 0.0066 - mse: 0.0066 - acc: 0.2841 - val_loss: 0.0077 - val_mse: 0.0077 - val_acc: 0.2274\n"
     ]
    },
    {
     "data": {
      "text/plain": [
       "<keras.callbacks.History at 0x22f07ae2590>"
      ]
     },
     "execution_count": 22,
     "metadata": {},
     "output_type": "execute_result"
    }
   ],
   "source": [
    "# Fit the model\n",
    "model.compile(loss=MeanSquaredError(), optimizer=Adam(learning_rate = 0.01), metrics = ['mse', 'acc'])\n",
    "model.fit(X_train,\n",
    "          y_train,\n",
    "          batch_size=100,\n",
    "          epochs=30,\n",
    "          verbose='auto',\n",
    "          callbacks=None,\n",
    "          validation_split=0.1,\n",
    "          shuffle=True)\n",
    "# start to overfit for epoch > 40"
   ]
  },
  {
   "cell_type": "code",
   "execution_count": 23,
   "id": "520fc1a0",
   "metadata": {
    "id": "520fc1a0",
    "outputId": "8f3c74b0-4fe1-40a9-fd1f-b85fac9efb6a"
   },
   "outputs": [
    {
     "name": "stderr",
     "output_type": "stream",
     "text": [
      "WARNING:absl:Found untraced functions such as lstm_cell_4_layer_call_fn, lstm_cell_4_layer_call_and_return_conditional_losses, lstm_cell_5_layer_call_fn, lstm_cell_5_layer_call_and_return_conditional_losses while saving (showing 4 of 4). These functions will not be directly callable after loading.\n"
     ]
    },
    {
     "name": "stdout",
     "output_type": "stream",
     "text": [
      "INFO:tensorflow:Assets written to: ./LSTM/models_daily_v2/BiLSTM_24-6\\assets\n"
     ]
    },
    {
     "name": "stderr",
     "output_type": "stream",
     "text": [
      "INFO:tensorflow:Assets written to: ./LSTM/models_daily_v2/BiLSTM_24-6\\assets\n"
     ]
    },
    {
     "name": "stdout",
     "output_type": "stream",
     "text": [
      "114/114 [==============================] - 1s 1ms/step\n",
      "28/28 [==============================] - 0s 1ms/step\n",
      "mean_squared_error\n",
      "train set: 0.006723440860645701\n",
      "test set: 0.007367470615396028\n"
     ]
    }
   ],
   "source": [
    "# evaluate the model\n",
    "# save trained model\n",
    "model.save('./LSTM/models_daily_v2/' + model_name)\n",
    "from sklearn.metrics import mean_squared_error\n",
    "\n",
    "y_hat_train = model.predict(X_train)\n",
    "y_hat_test = model.predict(X_test)\n",
    "\n",
    "print('mean_squared_error')\n",
    "print('train set:', mean_squared_error(y_train, y_hat_train, sample_weight=None))\n",
    "print('test set:', mean_squared_error(y_test, y_hat_test, sample_weight=None))"
   ]
  },
  {
   "cell_type": "markdown",
   "id": "82dbd001",
   "metadata": {
    "id": "82dbd001"
   },
   "source": [
    "## input length : output length = 32:8"
   ]
  },
  {
   "cell_type": "code",
   "execution_count": 24,
   "id": "86bc5076",
   "metadata": {
    "id": "86bc5076"
   },
   "outputs": [],
   "source": [
    "# reset memory\n",
    "tf.Graph().as_default()\n",
    "\n",
    "# prepare sequences\n",
    "seq_len = 32\n",
    "forecast_len = 8\n",
    "X_train, y_train = split_sequences(train[:,:-1], train[:,-1], seq_len = seq_len, forecast_len = forecast_len)\n",
    "X_test, y_test = split_sequences(test[:,:-1], test[:,-1],seq_len = seq_len, forecast_len =  forecast_len)\n",
    "n_features = X_train.shape[2]"
   ]
  },
  {
   "cell_type": "code",
   "execution_count": 25,
   "id": "ab4164d4",
   "metadata": {
    "id": "ab4164d4",
    "outputId": "d7523ef9-bb0a-4785-fb62-58000a5af611"
   },
   "outputs": [
    {
     "name": "stdout",
     "output_type": "stream",
     "text": [
      "Model: \"BiLSTM_32-8\"\n",
      "_________________________________________________________________\n",
      " Layer (type)                Output Shape              Param #   \n",
      "=================================================================\n",
      " input (InputLayer)          [(None, 32, 12)]          0         \n",
      "                                                                 \n",
      " bilstm_1 (Bidirectional)    (None, 60)                10320     \n",
      "                                                                 \n",
      " dense_1 (Dense)             (None, 8)                 488       \n",
      "                                                                 \n",
      "=================================================================\n",
      "Total params: 10,808\n",
      "Trainable params: 10,808\n",
      "Non-trainable params: 0\n",
      "_________________________________________________________________\n"
     ]
    }
   ],
   "source": [
    "# create model instance\n",
    "model_name = 'BiLSTM_32-8'\n",
    "model = MyModel(input_shape = (seq_len, n_features), output_shape = (forecast_len), name = model_name)\n",
    "model.summary()"
   ]
  },
  {
   "cell_type": "code",
   "execution_count": 26,
   "id": "0b571424",
   "metadata": {
    "id": "0b571424",
    "outputId": "7f3720b5-35d9-46f8-a945-642272faf6e3"
   },
   "outputs": [
    {
     "name": "stdout",
     "output_type": "stream",
     "text": [
      "Epoch 1/30\n",
      "33/33 [==============================] - 3s 30ms/step - loss: 0.0182 - mse: 0.0182 - acc: 0.1245 - val_loss: 0.0091 - val_mse: 0.0091 - val_acc: 0.1593\n",
      "Epoch 2/30\n",
      "33/33 [==============================] - 0s 10ms/step - loss: 0.0091 - mse: 0.0091 - acc: 0.1313 - val_loss: 0.0080 - val_mse: 0.0080 - val_acc: 0.1291\n",
      "Epoch 3/30\n",
      "33/33 [==============================] - 0s 12ms/step - loss: 0.0088 - mse: 0.0088 - acc: 0.1475 - val_loss: 0.0081 - val_mse: 0.0081 - val_acc: 0.1593\n",
      "Epoch 4/30\n",
      "33/33 [==============================] - 0s 10ms/step - loss: 0.0087 - mse: 0.0087 - acc: 0.1447 - val_loss: 0.0082 - val_mse: 0.0082 - val_acc: 0.1374\n",
      "Epoch 5/30\n",
      "33/33 [==============================] - 0s 10ms/step - loss: 0.0084 - mse: 0.0084 - acc: 0.1539 - val_loss: 0.0078 - val_mse: 0.0078 - val_acc: 0.1621\n",
      "Epoch 6/30\n",
      "33/33 [==============================] - 0s 10ms/step - loss: 0.0083 - mse: 0.0083 - acc: 0.1714 - val_loss: 0.0079 - val_mse: 0.0079 - val_acc: 0.1896\n",
      "Epoch 7/30\n",
      "33/33 [==============================] - 0s 10ms/step - loss: 0.0083 - mse: 0.0083 - acc: 0.1998 - val_loss: 0.0077 - val_mse: 0.0077 - val_acc: 0.2060\n",
      "Epoch 8/30\n",
      "33/33 [==============================] - 0s 10ms/step - loss: 0.0081 - mse: 0.0081 - acc: 0.1903 - val_loss: 0.0079 - val_mse: 0.0079 - val_acc: 0.2280\n",
      "Epoch 9/30\n",
      "33/33 [==============================] - 0s 10ms/step - loss: 0.0081 - mse: 0.0081 - acc: 0.1968 - val_loss: 0.0075 - val_mse: 0.0075 - val_acc: 0.2143\n",
      "Epoch 10/30\n",
      "33/33 [==============================] - 0s 10ms/step - loss: 0.0079 - mse: 0.0079 - acc: 0.2010 - val_loss: 0.0078 - val_mse: 0.0078 - val_acc: 0.2033\n",
      "Epoch 11/30\n",
      "33/33 [==============================] - 0s 10ms/step - loss: 0.0079 - mse: 0.0079 - acc: 0.1928 - val_loss: 0.0078 - val_mse: 0.0078 - val_acc: 0.1868\n",
      "Epoch 12/30\n",
      "33/33 [==============================] - 0s 10ms/step - loss: 0.0078 - mse: 0.0078 - acc: 0.2044 - val_loss: 0.0078 - val_mse: 0.0078 - val_acc: 0.2088\n",
      "Epoch 13/30\n",
      "33/33 [==============================] - 0s 10ms/step - loss: 0.0077 - mse: 0.0077 - acc: 0.2044 - val_loss: 0.0077 - val_mse: 0.0077 - val_acc: 0.2143\n",
      "Epoch 14/30\n",
      "33/33 [==============================] - 0s 10ms/step - loss: 0.0077 - mse: 0.0077 - acc: 0.2133 - val_loss: 0.0075 - val_mse: 0.0075 - val_acc: 0.2088\n",
      "Epoch 15/30\n",
      "33/33 [==============================] - 0s 10ms/step - loss: 0.0077 - mse: 0.0077 - acc: 0.2114 - val_loss: 0.0077 - val_mse: 0.0077 - val_acc: 0.1841\n",
      "Epoch 16/30\n",
      "33/33 [==============================] - 0s 10ms/step - loss: 0.0076 - mse: 0.0076 - acc: 0.2200 - val_loss: 0.0073 - val_mse: 0.0073 - val_acc: 0.1978\n",
      "Epoch 17/30\n",
      "33/33 [==============================] - 0s 10ms/step - loss: 0.0080 - mse: 0.0080 - acc: 0.2038 - val_loss: 0.0076 - val_mse: 0.0076 - val_acc: 0.2060\n",
      "Epoch 18/30\n",
      "33/33 [==============================] - 0s 10ms/step - loss: 0.0077 - mse: 0.0077 - acc: 0.2130 - val_loss: 0.0074 - val_mse: 0.0074 - val_acc: 0.2253\n",
      "Epoch 19/30\n",
      "33/33 [==============================] - 0s 10ms/step - loss: 0.0077 - mse: 0.0077 - acc: 0.2179 - val_loss: 0.0075 - val_mse: 0.0075 - val_acc: 0.2280\n",
      "Epoch 20/30\n",
      "33/33 [==============================] - 0s 10ms/step - loss: 0.0075 - mse: 0.0075 - acc: 0.2209 - val_loss: 0.0075 - val_mse: 0.0075 - val_acc: 0.2115\n",
      "Epoch 21/30\n",
      "33/33 [==============================] - 0s 10ms/step - loss: 0.0075 - mse: 0.0075 - acc: 0.2148 - val_loss: 0.0074 - val_mse: 0.0074 - val_acc: 0.1868\n",
      "Epoch 22/30\n",
      "33/33 [==============================] - 0s 10ms/step - loss: 0.0074 - mse: 0.0074 - acc: 0.2234 - val_loss: 0.0075 - val_mse: 0.0075 - val_acc: 0.2088\n",
      "Epoch 23/30\n",
      "33/33 [==============================] - 0s 10ms/step - loss: 0.0074 - mse: 0.0074 - acc: 0.2310 - val_loss: 0.0078 - val_mse: 0.0078 - val_acc: 0.2198\n",
      "Epoch 24/30\n",
      "33/33 [==============================] - 0s 10ms/step - loss: 0.0075 - mse: 0.0075 - acc: 0.2295 - val_loss: 0.0077 - val_mse: 0.0077 - val_acc: 0.2198\n",
      "Epoch 25/30\n",
      "33/33 [==============================] - 0s 10ms/step - loss: 0.0074 - mse: 0.0074 - acc: 0.2231 - val_loss: 0.0075 - val_mse: 0.0075 - val_acc: 0.2033\n",
      "Epoch 26/30\n",
      "33/33 [==============================] - 0s 10ms/step - loss: 0.0072 - mse: 0.0072 - acc: 0.2218 - val_loss: 0.0073 - val_mse: 0.0073 - val_acc: 0.2088\n",
      "Epoch 27/30\n",
      "33/33 [==============================] - 0s 10ms/step - loss: 0.0071 - mse: 0.0071 - acc: 0.2209 - val_loss: 0.0077 - val_mse: 0.0077 - val_acc: 0.2060\n",
      "Epoch 28/30\n",
      "33/33 [==============================] - 0s 10ms/step - loss: 0.0070 - mse: 0.0070 - acc: 0.2185 - val_loss: 0.0083 - val_mse: 0.0083 - val_acc: 0.2005\n",
      "Epoch 29/30\n",
      "33/33 [==============================] - 0s 10ms/step - loss: 0.0071 - mse: 0.0071 - acc: 0.2329 - val_loss: 0.0083 - val_mse: 0.0083 - val_acc: 0.2115\n",
      "Epoch 30/30\n",
      "33/33 [==============================] - 0s 10ms/step - loss: 0.0071 - mse: 0.0071 - acc: 0.2261 - val_loss: 0.0079 - val_mse: 0.0079 - val_acc: 0.1978\n"
     ]
    },
    {
     "data": {
      "text/plain": [
       "<keras.callbacks.History at 0x22f1040fd30>"
      ]
     },
     "execution_count": 26,
     "metadata": {},
     "output_type": "execute_result"
    }
   ],
   "source": [
    "# Fit the model\n",
    "model.compile(loss=MeanSquaredError(), optimizer=Adam(learning_rate = 0.01), metrics = ['mse', 'acc'])\n",
    "model.fit(X_train,\n",
    "          y_train,\n",
    "          batch_size=100,\n",
    "          epochs=30,\n",
    "          verbose='auto',\n",
    "          callbacks=None,\n",
    "          validation_split=0.1,\n",
    "          shuffle=True)\n",
    "# also overfit if epoch > 40"
   ]
  },
  {
   "cell_type": "code",
   "execution_count": 27,
   "id": "ed47bbbb",
   "metadata": {
    "id": "ed47bbbb",
    "outputId": "7c5c3683-2276-48de-f836-5addae59c1b9"
   },
   "outputs": [
    {
     "name": "stderr",
     "output_type": "stream",
     "text": [
      "WARNING:absl:Found untraced functions such as lstm_cell_7_layer_call_fn, lstm_cell_7_layer_call_and_return_conditional_losses, lstm_cell_8_layer_call_fn, lstm_cell_8_layer_call_and_return_conditional_losses while saving (showing 4 of 4). These functions will not be directly callable after loading.\n"
     ]
    },
    {
     "name": "stdout",
     "output_type": "stream",
     "text": [
      "INFO:tensorflow:Assets written to: ./LSTM/models_daily_v2/BiLSTM_32-8\\assets\n"
     ]
    },
    {
     "name": "stderr",
     "output_type": "stream",
     "text": [
      "INFO:tensorflow:Assets written to: ./LSTM/models_daily_v2/BiLSTM_32-8\\assets\n"
     ]
    },
    {
     "name": "stdout",
     "output_type": "stream",
     "text": [
      "114/114 [==============================] - 1s 2ms/step\n",
      "28/28 [==============================] - 0s 2ms/step\n",
      "mean_squared_error\n",
      "train set: 0.0068966127110462435\n",
      "test set: 0.007929253874674594\n"
     ]
    }
   ],
   "source": [
    "# save trained model\n",
    "model.save('./LSTM/models_daily_v2/' + model_name)\n",
    "# evaluate the model\n",
    "from sklearn.metrics import mean_squared_error\n",
    "\n",
    "y_hat_train = model.predict(X_train)\n",
    "y_hat_test = model.predict(X_test)\n",
    "\n",
    "print('mean_squared_error')\n",
    "print('train set:', mean_squared_error(y_train, y_hat_train, sample_weight=None))\n",
    "print('test set:', mean_squared_error(y_test, y_hat_test, sample_weight=None))"
   ]
  },
  {
   "cell_type": "markdown",
   "id": "147e0a20",
   "metadata": {
    "id": "147e0a20"
   },
   "source": [
    "## input length : output length = 40:10"
   ]
  },
  {
   "cell_type": "code",
   "execution_count": 28,
   "id": "0c9521fc",
   "metadata": {
    "id": "0c9521fc"
   },
   "outputs": [],
   "source": [
    "# reset memory\n",
    "tf.Graph().as_default()\n",
    "\n",
    "# prepare sequences\n",
    "seq_len = 40\n",
    "forecast_len = 10\n",
    "X_train, y_train = split_sequences(train[:,:-1], train[:,-1], seq_len = seq_len, forecast_len = forecast_len)\n",
    "X_test, y_test = split_sequences(test[:,:-1], test[:,-1],seq_len = seq_len, forecast_len =  forecast_len)\n",
    "n_features = X_train.shape[2]"
   ]
  },
  {
   "cell_type": "code",
   "execution_count": 29,
   "id": "2091b9f3",
   "metadata": {
    "id": "2091b9f3",
    "outputId": "4ce3fc97-fc9a-42c0-9684-6763e9693c6d"
   },
   "outputs": [
    {
     "name": "stdout",
     "output_type": "stream",
     "text": [
      "Model: \"BiLSTM_40-10\"\n",
      "_________________________________________________________________\n",
      " Layer (type)                Output Shape              Param #   \n",
      "=================================================================\n",
      " input (InputLayer)          [(None, 40, 12)]          0         \n",
      "                                                                 \n",
      " bilstm_1 (Bidirectional)    (None, 60)                10320     \n",
      "                                                                 \n",
      " dense_1 (Dense)             (None, 10)                610       \n",
      "                                                                 \n",
      "=================================================================\n",
      "Total params: 10,930\n",
      "Trainable params: 10,930\n",
      "Non-trainable params: 0\n",
      "_________________________________________________________________\n"
     ]
    }
   ],
   "source": [
    "# create model instance\n",
    "model_name = 'BiLSTM_40-10'\n",
    "model = MyModel(input_shape = (seq_len, n_features), output_shape = (forecast_len), name = model_name)\n",
    "model.summary()"
   ]
  },
  {
   "cell_type": "code",
   "execution_count": 30,
   "id": "2de6ddb4",
   "metadata": {
    "id": "2de6ddb4",
    "outputId": "cac550bf-dc35-40d3-8f6d-5aba0b2b63a8"
   },
   "outputs": [
    {
     "name": "stdout",
     "output_type": "stream",
     "text": [
      "Epoch 1/30\n",
      "33/33 [==============================] - 4s 37ms/step - loss: 0.0149 - mse: 0.0149 - acc: 0.0963 - val_loss: 0.0093 - val_mse: 0.0093 - val_acc: 0.0937\n",
      "Epoch 2/30\n",
      "33/33 [==============================] - 1s 22ms/step - loss: 0.0093 - mse: 0.0093 - acc: 0.1074 - val_loss: 0.0085 - val_mse: 0.0085 - val_acc: 0.1019\n",
      "Epoch 3/30\n",
      "33/33 [==============================] - 1s 22ms/step - loss: 0.0089 - mse: 0.0089 - acc: 0.1218 - val_loss: 0.0101 - val_mse: 0.0101 - val_acc: 0.1267\n",
      "Epoch 4/30\n",
      "33/33 [==============================] - 1s 22ms/step - loss: 0.0088 - mse: 0.0088 - acc: 0.1405 - val_loss: 0.0080 - val_mse: 0.0080 - val_acc: 0.1074\n",
      "Epoch 5/30\n",
      "33/33 [==============================] - 1s 22ms/step - loss: 0.0085 - mse: 0.0085 - acc: 0.1329 - val_loss: 0.0085 - val_mse: 0.0085 - val_acc: 0.1377\n",
      "Epoch 6/30\n",
      "33/33 [==============================] - 1s 22ms/step - loss: 0.0084 - mse: 0.0084 - acc: 0.1513 - val_loss: 0.0077 - val_mse: 0.0077 - val_acc: 0.1460\n",
      "Epoch 7/30\n",
      "33/33 [==============================] - 1s 22ms/step - loss: 0.0082 - mse: 0.0082 - acc: 0.1577 - val_loss: 0.0077 - val_mse: 0.0077 - val_acc: 0.1460\n",
      "Epoch 8/30\n",
      "33/33 [==============================] - 1s 22ms/step - loss: 0.0082 - mse: 0.0082 - acc: 0.1553 - val_loss: 0.0077 - val_mse: 0.0077 - val_acc: 0.1791\n",
      "Epoch 9/30\n",
      "33/33 [==============================] - 1s 22ms/step - loss: 0.0082 - mse: 0.0082 - acc: 0.1626 - val_loss: 0.0079 - val_mse: 0.0079 - val_acc: 0.1708\n",
      "Epoch 10/30\n",
      "33/33 [==============================] - 1s 22ms/step - loss: 0.0083 - mse: 0.0083 - acc: 0.1614 - val_loss: 0.0084 - val_mse: 0.0084 - val_acc: 0.1708\n",
      "Epoch 11/30\n",
      "33/33 [==============================] - 1s 22ms/step - loss: 0.0081 - mse: 0.0081 - acc: 0.1660 - val_loss: 0.0075 - val_mse: 0.0075 - val_acc: 0.1570\n",
      "Epoch 12/30\n",
      "33/33 [==============================] - 1s 21ms/step - loss: 0.0082 - mse: 0.0082 - acc: 0.1691 - val_loss: 0.0076 - val_mse: 0.0076 - val_acc: 0.2039\n",
      "Epoch 13/30\n",
      "33/33 [==============================] - 1s 22ms/step - loss: 0.0078 - mse: 0.0078 - acc: 0.1675 - val_loss: 0.0077 - val_mse: 0.0077 - val_acc: 0.1873\n",
      "Epoch 14/30\n",
      "33/33 [==============================] - 1s 22ms/step - loss: 0.0078 - mse: 0.0078 - acc: 0.1663 - val_loss: 0.0079 - val_mse: 0.0079 - val_acc: 0.1653\n",
      "Epoch 15/30\n",
      "33/33 [==============================] - 1s 22ms/step - loss: 0.0077 - mse: 0.0077 - acc: 0.1709 - val_loss: 0.0075 - val_mse: 0.0075 - val_acc: 0.1763\n",
      "Epoch 16/30\n",
      "33/33 [==============================] - 1s 22ms/step - loss: 0.0076 - mse: 0.0076 - acc: 0.1694 - val_loss: 0.0076 - val_mse: 0.0076 - val_acc: 0.1791\n",
      "Epoch 17/30\n",
      "33/33 [==============================] - 1s 22ms/step - loss: 0.0074 - mse: 0.0074 - acc: 0.1801 - val_loss: 0.0079 - val_mse: 0.0079 - val_acc: 0.1983\n",
      "Epoch 18/30\n",
      "33/33 [==============================] - 1s 22ms/step - loss: 0.0077 - mse: 0.0077 - acc: 0.1813 - val_loss: 0.0079 - val_mse: 0.0079 - val_acc: 0.1488\n",
      "Epoch 19/30\n",
      "33/33 [==============================] - 1s 22ms/step - loss: 0.0075 - mse: 0.0075 - acc: 0.1783 - val_loss: 0.0082 - val_mse: 0.0082 - val_acc: 0.1598\n",
      "Epoch 20/30\n",
      "33/33 [==============================] - 1s 22ms/step - loss: 0.0074 - mse: 0.0074 - acc: 0.1817 - val_loss: 0.0079 - val_mse: 0.0079 - val_acc: 0.1846\n",
      "Epoch 21/30\n",
      "33/33 [==============================] - 1s 22ms/step - loss: 0.0073 - mse: 0.0073 - acc: 0.1915 - val_loss: 0.0080 - val_mse: 0.0080 - val_acc: 0.1846\n",
      "Epoch 22/30\n",
      "33/33 [==============================] - 1s 22ms/step - loss: 0.0071 - mse: 0.0071 - acc: 0.1878 - val_loss: 0.0083 - val_mse: 0.0083 - val_acc: 0.1791\n",
      "Epoch 23/30\n",
      "33/33 [==============================] - 1s 22ms/step - loss: 0.0071 - mse: 0.0071 - acc: 0.1915 - val_loss: 0.0081 - val_mse: 0.0081 - val_acc: 0.1598\n",
      "Epoch 24/30\n",
      "33/33 [==============================] - 1s 22ms/step - loss: 0.0071 - mse: 0.0071 - acc: 0.1915 - val_loss: 0.0080 - val_mse: 0.0080 - val_acc: 0.1763\n",
      "Epoch 25/30\n",
      "33/33 [==============================] - 1s 23ms/step - loss: 0.0071 - mse: 0.0071 - acc: 0.1890 - val_loss: 0.0084 - val_mse: 0.0084 - val_acc: 0.1543\n",
      "Epoch 26/30\n",
      "33/33 [==============================] - 1s 22ms/step - loss: 0.0069 - mse: 0.0069 - acc: 0.1887 - val_loss: 0.0085 - val_mse: 0.0085 - val_acc: 0.1598\n",
      "Epoch 27/30\n",
      "33/33 [==============================] - 1s 22ms/step - loss: 0.0068 - mse: 0.0068 - acc: 0.1930 - val_loss: 0.0089 - val_mse: 0.0089 - val_acc: 0.1873\n",
      "Epoch 28/30\n",
      "33/33 [==============================] - 1s 22ms/step - loss: 0.0067 - mse: 0.0067 - acc: 0.1930 - val_loss: 0.0081 - val_mse: 0.0081 - val_acc: 0.1736\n",
      "Epoch 29/30\n",
      "33/33 [==============================] - 1s 22ms/step - loss: 0.0066 - mse: 0.0066 - acc: 0.1930 - val_loss: 0.0104 - val_mse: 0.0104 - val_acc: 0.1433\n",
      "Epoch 30/30\n",
      "33/33 [==============================] - 1s 22ms/step - loss: 0.0065 - mse: 0.0065 - acc: 0.1890 - val_loss: 0.0082 - val_mse: 0.0082 - val_acc: 0.1543\n"
     ]
    },
    {
     "data": {
      "text/plain": [
       "<keras.callbacks.History at 0x22f14501750>"
      ]
     },
     "execution_count": 30,
     "metadata": {},
     "output_type": "execute_result"
    }
   ],
   "source": [
    "# Fit the model\n",
    "model.compile(loss=MeanSquaredError(), optimizer=Adam(learning_rate = 0.01), metrics = ['mse', 'acc'])\n",
    "model.fit(X_train,\n",
    "          y_train,\n",
    "          batch_size=100,\n",
    "          epochs=30,\n",
    "          verbose='auto',\n",
    "          callbacks=None,\n",
    "          validation_split=0.1,\n",
    "          shuffle=True)"
   ]
  },
  {
   "cell_type": "code",
   "execution_count": 31,
   "id": "881a1c18",
   "metadata": {
    "id": "881a1c18",
    "outputId": "2e999896-72ae-4c03-adec-032940ce0661"
   },
   "outputs": [
    {
     "name": "stderr",
     "output_type": "stream",
     "text": [
      "WARNING:absl:Found untraced functions such as lstm_cell_10_layer_call_fn, lstm_cell_10_layer_call_and_return_conditional_losses, lstm_cell_11_layer_call_fn, lstm_cell_11_layer_call_and_return_conditional_losses while saving (showing 4 of 4). These functions will not be directly callable after loading.\n"
     ]
    },
    {
     "name": "stdout",
     "output_type": "stream",
     "text": [
      "INFO:tensorflow:Assets written to: ./LSTM/models_daily_v2/BiLSTM_40-10\\assets\n"
     ]
    },
    {
     "name": "stderr",
     "output_type": "stream",
     "text": [
      "INFO:tensorflow:Assets written to: ./LSTM/models_daily_v2/BiLSTM_40-10\\assets\n"
     ]
    },
    {
     "name": "stdout",
     "output_type": "stream",
     "text": [
      "114/114 [==============================] - 1s 2ms/step\n",
      "28/28 [==============================] - 0s 2ms/step\n",
      "mean_squared_error\n",
      "train set: 0.006607562358788653\n",
      "test set: 0.008242106491878513\n"
     ]
    }
   ],
   "source": [
    "# save trained model\n",
    "model.save('./LSTM/models_daily_v2/' + model_name)\n",
    "# evaluate the model\n",
    "from sklearn.metrics import mean_squared_error\n",
    "\n",
    "y_hat_train = model.predict(X_train)\n",
    "y_hat_test = model.predict(X_test)\n",
    "\n",
    "print('mean_squared_error')\n",
    "print('train set:', mean_squared_error(y_train, y_hat_train, sample_weight=None))\n",
    "print('test set:', mean_squared_error(y_test, y_hat_test, sample_weight=None))"
   ]
  },
  {
   "cell_type": "code",
   "execution_count": null,
   "id": "835da065",
   "metadata": {
    "id": "835da065"
   },
   "outputs": [],
   "source": []
  }
 ],
 "metadata": {
  "colab": {
   "provenance": []
  },
  "kernelspec": {
   "display_name": "Python 3 (ipykernel)",
   "language": "python",
   "name": "python3"
  },
  "language_info": {
   "codemirror_mode": {
    "name": "ipython",
    "version": 3
   },
   "file_extension": ".py",
   "mimetype": "text/x-python",
   "name": "python",
   "nbconvert_exporter": "python",
   "pygments_lexer": "ipython3",
   "version": "3.10.13"
  }
 },
 "nbformat": 4,
 "nbformat_minor": 5
}
