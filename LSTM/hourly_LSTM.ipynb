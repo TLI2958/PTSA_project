{
 "cells": [
  {
   "cell_type": "code",
   "execution_count": 1,
   "id": "3788ae25",
   "metadata": {},
   "outputs": [],
   "source": [
    "import warnings\n",
    "warnings.filterwarnings('ignore')\n",
    "\n",
    "import numpy as np\n",
    "import pandas as pd\n",
    "import matplotlib.pyplot as plt\n",
    "import seaborn as sns\n",
    "import tensorflow as tf"
   ]
  },
  {
   "cell_type": "code",
   "execution_count": 2,
   "id": "f7ec7b6f",
   "metadata": {},
   "outputs": [
    {
     "name": "stdout",
     "output_type": "stream",
     "text": [
      "[PhysicalDevice(name='/physical_device:CPU:0', device_type='CPU')]\n",
      "WARNING:tensorflow:From C:\\Users\\dujy0\\AppData\\Local\\Temp\\ipykernel_27100\\4004085722.py:13: is_gpu_available (from tensorflow.python.framework.test_util) is deprecated and will be removed in a future version.\n",
      "Instructions for updating:\n",
      "Use `tf.config.list_physical_devices('GPU')` instead.\n",
      "\n",
      "CUDA GPU: False\n"
     ]
    }
   ],
   "source": [
    "# Check for GPU\n",
    "import tensorflow as tf\n",
    "try:\n",
    "    from google.colab import drive\n",
    "    IN_COLAB=True\n",
    "except:\n",
    "    IN_COLAB=False\n",
    "\n",
    "if IN_COLAB:\n",
    "    print(\"We're running Colab\")\n",
    "else:\n",
    "    print(tf.config.list_physical_devices())\n",
    "    print('\\nCUDA GPU: ' + str(tf.test.is_gpu_available(cuda_only=True)))"
   ]
  },
  {
   "cell_type": "markdown",
   "id": "1f0ebbfa",
   "metadata": {},
   "source": [
    "# Data Preprocessing"
   ]
  },
  {
   "cell_type": "code",
   "execution_count": 3,
   "id": "825068e6",
   "metadata": {},
   "outputs": [],
   "source": [
    "import os\n",
    "os.chdir('..')\n",
    "\n",
    "df = pd.read_csv('./hourly02-ithaca/hourly02-NY_Ithaca_13_E.csv', header = 0, index_col = 0)"
   ]
  },
  {
   "cell_type": "code",
   "execution_count": 4,
   "id": "fa511986",
   "metadata": {},
   "outputs": [],
   "source": [
    "Date = pd.to_datetime(df.UTC_DATE, format='%Y%m%d', errors='coerce')\n",
    "+ pd.to_timedelta(df.UTC_TIME//100, unit = 'hours')\n",
    "df['Time'] = Date"
   ]
  },
  {
   "cell_type": "code",
   "execution_count": 5,
   "id": "ec34f475",
   "metadata": {},
   "outputs": [
    {
     "data": {
      "text/plain": [
       "Index(['WBANNO', 'UTC_DATE', 'UTC_TIME', 'LST_DATE', 'LST_TIME', 'CRX_VN',\n",
       "       'LONGITUDE', 'LATITUDE', 'T_CALC', 'T_HR_AVG', 'T_MAX', 'T_MIN',\n",
       "       'P_CALC', 'SOLARAD', 'SOLARAD_FLAG', 'SOLARAD_MAX', 'SOLARAD_MAX_FLAG',\n",
       "       'SOLARAD_MIN', 'SOLARAD_MIN_FLAG', 'SUR_TEMP_TYPE', 'SUR_TEMP',\n",
       "       'SUR_TEMP_FLAG', 'SUR_TEMP_MAX', 'SUR_TEMP_MAX_FLAG', 'SUR_TEMP_MIN',\n",
       "       'SUR_TEMP_MIN_FLAG', 'RH_HR_AVG', 'RH_HR_AVG_FLAG', 'SOIL_MOISTURE_5',\n",
       "       'SOIL_MOISTURE_10', 'SOIL_MOISTURE_20', 'SOIL_MOISTURE_50',\n",
       "       'SOIL_MOISTURE_100', 'SOIL_TEMP_5', 'SOIL_TEMP_10', 'SOIL_TEMP_20',\n",
       "       'SOIL_TEMP_50', 'SOIL_TEMP_100', 'Time'],\n",
       "      dtype='object')"
      ]
     },
     "execution_count": 5,
     "metadata": {},
     "output_type": "execute_result"
    }
   ],
   "source": [
    "df.columns"
   ]
  },
  {
   "cell_type": "code",
   "execution_count": 6,
   "id": "ef4cc5e3",
   "metadata": {},
   "outputs": [],
   "source": [
    "data = df[['T_CALC', 'T_HR_AVG', 'T_MAX', 'T_MIN',\n",
    "       'P_CALC', 'SOLARAD', 'SOLARAD_MAX',\n",
    "       'SOLARAD_MIN', 'SUR_TEMP',\n",
    "           'SUR_TEMP_MAX', 'SUR_TEMP_MIN', 'RH_HR_AVG']]"
   ]
  },
  {
   "cell_type": "code",
   "execution_count": 7,
   "id": "8058f298",
   "metadata": {},
   "outputs": [],
   "source": [
    "data.index = df['Time']"
   ]
  },
  {
   "cell_type": "code",
   "execution_count": 8,
   "id": "eb188d49",
   "metadata": {},
   "outputs": [
    {
     "data": {
      "text/plain": [
       "T_CALC         -30.8\n",
       "T_HR_AVG       -29.3\n",
       "T_MAX          -28.4\n",
       "T_MIN          -30.9\n",
       "P_CALC           0.0\n",
       "SOLARAD          0.0\n",
       "SOLARAD_MAX      0.0\n",
       "SOLARAD_MIN      0.0\n",
       "SUR_TEMP       -35.8\n",
       "SUR_TEMP_MAX   -61.0\n",
       "SUR_TEMP_MIN   -36.0\n",
       "RH_HR_AVG        0.0\n",
       "dtype: float64"
      ]
     },
     "execution_count": 8,
     "metadata": {},
     "output_type": "execute_result"
    }
   ],
   "source": [
    "# check for N/A\n",
    "data.min()"
   ]
  },
  {
   "cell_type": "code",
   "execution_count": 9,
   "id": "aba2a471",
   "metadata": {},
   "outputs": [
    {
     "data": {
      "text/html": [
       "<div>\n",
       "<style scoped>\n",
       "    .dataframe tbody tr th:only-of-type {\n",
       "        vertical-align: middle;\n",
       "    }\n",
       "\n",
       "    .dataframe tbody tr th {\n",
       "        vertical-align: top;\n",
       "    }\n",
       "\n",
       "    .dataframe thead th {\n",
       "        text-align: right;\n",
       "    }\n",
       "</style>\n",
       "<table border=\"1\" class=\"dataframe\">\n",
       "  <thead>\n",
       "    <tr style=\"text-align: right;\">\n",
       "      <th></th>\n",
       "      <th>T_CALC</th>\n",
       "      <th>T_HR_AVG</th>\n",
       "      <th>T_MAX</th>\n",
       "      <th>T_MIN</th>\n",
       "      <th>P_CALC</th>\n",
       "      <th>SOLARAD</th>\n",
       "      <th>SOLARAD_MAX</th>\n",
       "      <th>SOLARAD_MIN</th>\n",
       "      <th>SUR_TEMP</th>\n",
       "      <th>SUR_TEMP_MAX</th>\n",
       "      <th>SUR_TEMP_MIN</th>\n",
       "      <th>RH_HR_AVG</th>\n",
       "    </tr>\n",
       "    <tr>\n",
       "      <th>Time</th>\n",
       "      <th></th>\n",
       "      <th></th>\n",
       "      <th></th>\n",
       "      <th></th>\n",
       "      <th></th>\n",
       "      <th></th>\n",
       "      <th></th>\n",
       "      <th></th>\n",
       "      <th></th>\n",
       "      <th></th>\n",
       "      <th></th>\n",
       "      <th></th>\n",
       "    </tr>\n",
       "  </thead>\n",
       "  <tbody>\n",
       "    <tr>\n",
       "      <th>2004-10-27</th>\n",
       "      <td>NaN</td>\n",
       "      <td>NaN</td>\n",
       "      <td>NaN</td>\n",
       "      <td>NaN</td>\n",
       "      <td>NaN</td>\n",
       "      <td>27.0</td>\n",
       "      <td>NaN</td>\n",
       "      <td>NaN</td>\n",
       "      <td>8.8</td>\n",
       "      <td>NaN</td>\n",
       "      <td>NaN</td>\n",
       "      <td>0.0</td>\n",
       "    </tr>\n",
       "    <tr>\n",
       "      <th>2004-10-27</th>\n",
       "      <td>NaN</td>\n",
       "      <td>NaN</td>\n",
       "      <td>NaN</td>\n",
       "      <td>NaN</td>\n",
       "      <td>NaN</td>\n",
       "      <td>0.0</td>\n",
       "      <td>NaN</td>\n",
       "      <td>NaN</td>\n",
       "      <td>6.7</td>\n",
       "      <td>NaN</td>\n",
       "      <td>NaN</td>\n",
       "      <td>0.0</td>\n",
       "    </tr>\n",
       "    <tr>\n",
       "      <th>2004-10-28</th>\n",
       "      <td>7.8</td>\n",
       "      <td>7.6</td>\n",
       "      <td>8.0</td>\n",
       "      <td>7.3</td>\n",
       "      <td>0.0</td>\n",
       "      <td>0.0</td>\n",
       "      <td>NaN</td>\n",
       "      <td>NaN</td>\n",
       "      <td>6.1</td>\n",
       "      <td>NaN</td>\n",
       "      <td>NaN</td>\n",
       "      <td>0.0</td>\n",
       "    </tr>\n",
       "    <tr>\n",
       "      <th>2004-10-28</th>\n",
       "      <td>6.5</td>\n",
       "      <td>7.0</td>\n",
       "      <td>7.8</td>\n",
       "      <td>6.5</td>\n",
       "      <td>0.0</td>\n",
       "      <td>0.0</td>\n",
       "      <td>NaN</td>\n",
       "      <td>NaN</td>\n",
       "      <td>5.6</td>\n",
       "      <td>NaN</td>\n",
       "      <td>NaN</td>\n",
       "      <td>0.0</td>\n",
       "    </tr>\n",
       "    <tr>\n",
       "      <th>2004-10-28</th>\n",
       "      <td>5.4</td>\n",
       "      <td>6.2</td>\n",
       "      <td>6.5</td>\n",
       "      <td>5.4</td>\n",
       "      <td>0.0</td>\n",
       "      <td>0.0</td>\n",
       "      <td>NaN</td>\n",
       "      <td>NaN</td>\n",
       "      <td>5.0</td>\n",
       "      <td>NaN</td>\n",
       "      <td>NaN</td>\n",
       "      <td>0.0</td>\n",
       "    </tr>\n",
       "    <tr>\n",
       "      <th>...</th>\n",
       "      <td>...</td>\n",
       "      <td>...</td>\n",
       "      <td>...</td>\n",
       "      <td>...</td>\n",
       "      <td>...</td>\n",
       "      <td>...</td>\n",
       "      <td>...</td>\n",
       "      <td>...</td>\n",
       "      <td>...</td>\n",
       "      <td>...</td>\n",
       "      <td>...</td>\n",
       "      <td>...</td>\n",
       "    </tr>\n",
       "    <tr>\n",
       "      <th>2023-11-06</th>\n",
       "      <td>1.1</td>\n",
       "      <td>1.3</td>\n",
       "      <td>2.1</td>\n",
       "      <td>0.3</td>\n",
       "      <td>0.0</td>\n",
       "      <td>0.0</td>\n",
       "      <td>0.0</td>\n",
       "      <td>0.0</td>\n",
       "      <td>-1.6</td>\n",
       "      <td>-0.9</td>\n",
       "      <td>-2.0</td>\n",
       "      <td>76.0</td>\n",
       "    </tr>\n",
       "    <tr>\n",
       "      <th>2023-11-06</th>\n",
       "      <td>-0.1</td>\n",
       "      <td>0.0</td>\n",
       "      <td>1.0</td>\n",
       "      <td>-1.1</td>\n",
       "      <td>0.0</td>\n",
       "      <td>0.0</td>\n",
       "      <td>0.0</td>\n",
       "      <td>0.0</td>\n",
       "      <td>-2.3</td>\n",
       "      <td>-1.9</td>\n",
       "      <td>-2.8</td>\n",
       "      <td>80.0</td>\n",
       "    </tr>\n",
       "    <tr>\n",
       "      <th>2023-11-06</th>\n",
       "      <td>-0.5</td>\n",
       "      <td>-0.4</td>\n",
       "      <td>0.1</td>\n",
       "      <td>-0.7</td>\n",
       "      <td>0.0</td>\n",
       "      <td>0.0</td>\n",
       "      <td>0.0</td>\n",
       "      <td>0.0</td>\n",
       "      <td>-3.1</td>\n",
       "      <td>-2.8</td>\n",
       "      <td>-3.3</td>\n",
       "      <td>83.0</td>\n",
       "    </tr>\n",
       "    <tr>\n",
       "      <th>2023-11-06</th>\n",
       "      <td>-1.4</td>\n",
       "      <td>-1.3</td>\n",
       "      <td>-0.5</td>\n",
       "      <td>-1.7</td>\n",
       "      <td>0.0</td>\n",
       "      <td>0.0</td>\n",
       "      <td>0.0</td>\n",
       "      <td>0.0</td>\n",
       "      <td>-3.2</td>\n",
       "      <td>-2.8</td>\n",
       "      <td>-3.5</td>\n",
       "      <td>85.0</td>\n",
       "    </tr>\n",
       "    <tr>\n",
       "      <th>2023-11-06</th>\n",
       "      <td>-1.9</td>\n",
       "      <td>-1.6</td>\n",
       "      <td>-1.4</td>\n",
       "      <td>-2.2</td>\n",
       "      <td>0.0</td>\n",
       "      <td>0.0</td>\n",
       "      <td>0.0</td>\n",
       "      <td>0.0</td>\n",
       "      <td>-3.5</td>\n",
       "      <td>-3.3</td>\n",
       "      <td>-3.8</td>\n",
       "      <td>87.0</td>\n",
       "    </tr>\n",
       "  </tbody>\n",
       "</table>\n",
       "<p>166759 rows × 12 columns</p>\n",
       "</div>"
      ],
      "text/plain": [
       "            T_CALC  T_HR_AVG  T_MAX  T_MIN  P_CALC  SOLARAD  SOLARAD_MAX  \\\n",
       "Time                                                                       \n",
       "2004-10-27     NaN       NaN    NaN    NaN     NaN     27.0          NaN   \n",
       "2004-10-27     NaN       NaN    NaN    NaN     NaN      0.0          NaN   \n",
       "2004-10-28     7.8       7.6    8.0    7.3     0.0      0.0          NaN   \n",
       "2004-10-28     6.5       7.0    7.8    6.5     0.0      0.0          NaN   \n",
       "2004-10-28     5.4       6.2    6.5    5.4     0.0      0.0          NaN   \n",
       "...            ...       ...    ...    ...     ...      ...          ...   \n",
       "2023-11-06     1.1       1.3    2.1    0.3     0.0      0.0          0.0   \n",
       "2023-11-06    -0.1       0.0    1.0   -1.1     0.0      0.0          0.0   \n",
       "2023-11-06    -0.5      -0.4    0.1   -0.7     0.0      0.0          0.0   \n",
       "2023-11-06    -1.4      -1.3   -0.5   -1.7     0.0      0.0          0.0   \n",
       "2023-11-06    -1.9      -1.6   -1.4   -2.2     0.0      0.0          0.0   \n",
       "\n",
       "            SOLARAD_MIN  SUR_TEMP  SUR_TEMP_MAX  SUR_TEMP_MIN  RH_HR_AVG  \n",
       "Time                                                                      \n",
       "2004-10-27          NaN       8.8           NaN           NaN        0.0  \n",
       "2004-10-27          NaN       6.7           NaN           NaN        0.0  \n",
       "2004-10-28          NaN       6.1           NaN           NaN        0.0  \n",
       "2004-10-28          NaN       5.6           NaN           NaN        0.0  \n",
       "2004-10-28          NaN       5.0           NaN           NaN        0.0  \n",
       "...                 ...       ...           ...           ...        ...  \n",
       "2023-11-06          0.0      -1.6          -0.9          -2.0       76.0  \n",
       "2023-11-06          0.0      -2.3          -1.9          -2.8       80.0  \n",
       "2023-11-06          0.0      -3.1          -2.8          -3.3       83.0  \n",
       "2023-11-06          0.0      -3.2          -2.8          -3.5       85.0  \n",
       "2023-11-06          0.0      -3.5          -3.3          -3.8       87.0  \n",
       "\n",
       "[166759 rows x 12 columns]"
      ]
     },
     "execution_count": 9,
     "metadata": {},
     "output_type": "execute_result"
    }
   ],
   "source": [
    "data"
   ]
  },
  {
   "cell_type": "code",
   "execution_count": 10,
   "id": "21b1a43c",
   "metadata": {},
   "outputs": [
    {
     "data": {
      "text/plain": [
       "T_CALC           1384\n",
       "T_HR_AVG         1446\n",
       "T_MAX            1385\n",
       "T_MIN            1389\n",
       "P_CALC            832\n",
       "SOLARAD           570\n",
       "SOLARAD_MAX      9757\n",
       "SOLARAD_MIN      9757\n",
       "SUR_TEMP          724\n",
       "SUR_TEMP_MAX     9911\n",
       "SUR_TEMP_MIN     9911\n",
       "RH_HR_AVG       48248\n",
       "dtype: int64"
      ]
     },
     "execution_count": 10,
     "metadata": {},
     "output_type": "execute_result"
    }
   ],
   "source": [
    "data.isna().sum()"
   ]
  },
  {
   "cell_type": "code",
   "execution_count": 11,
   "id": "00be0a2f",
   "metadata": {},
   "outputs": [
    {
     "data": {
      "text/plain": [
       "T_CALC          float64\n",
       "T_HR_AVG        float64\n",
       "T_MAX           float64\n",
       "T_MIN           float64\n",
       "P_CALC          float64\n",
       "SOLARAD         float64\n",
       "SOLARAD_MAX     float64\n",
       "SOLARAD_MIN     float64\n",
       "SUR_TEMP        float64\n",
       "SUR_TEMP_MAX    float64\n",
       "SUR_TEMP_MIN    float64\n",
       "RH_HR_AVG       float64\n",
       "dtype: object"
      ]
     },
     "execution_count": 11,
     "metadata": {},
     "output_type": "execute_result"
    }
   ],
   "source": [
    "# Check data types\n",
    "data.dtypes"
   ]
  },
  {
   "cell_type": "code",
   "execution_count": 12,
   "id": "98be58ba",
   "metadata": {},
   "outputs": [
    {
     "data": {
      "text/plain": [
       "(166759, 12)"
      ]
     },
     "execution_count": 12,
     "metadata": {},
     "output_type": "execute_result"
    }
   ],
   "source": [
    "data.shape"
   ]
  },
  {
   "cell_type": "code",
   "execution_count": 13,
   "id": "d0d169f2",
   "metadata": {},
   "outputs": [],
   "source": [
    "# forward fill the missing values  \n",
    "data.ffill(axis = 0, inplace = True) "
   ]
  },
  {
   "cell_type": "code",
   "execution_count": 14,
   "id": "f1601b98",
   "metadata": {},
   "outputs": [
    {
     "data": {
      "text/html": [
       "<div>\n",
       "<style scoped>\n",
       "    .dataframe tbody tr th:only-of-type {\n",
       "        vertical-align: middle;\n",
       "    }\n",
       "\n",
       "    .dataframe tbody tr th {\n",
       "        vertical-align: top;\n",
       "    }\n",
       "\n",
       "    .dataframe thead th {\n",
       "        text-align: right;\n",
       "    }\n",
       "</style>\n",
       "<table border=\"1\" class=\"dataframe\">\n",
       "  <thead>\n",
       "    <tr style=\"text-align: right;\">\n",
       "      <th></th>\n",
       "      <th>T_CALC</th>\n",
       "      <th>T_HR_AVG</th>\n",
       "      <th>T_MAX</th>\n",
       "      <th>T_MIN</th>\n",
       "      <th>P_CALC</th>\n",
       "      <th>SOLARAD</th>\n",
       "      <th>SOLARAD_MAX</th>\n",
       "      <th>SOLARAD_MIN</th>\n",
       "      <th>SUR_TEMP</th>\n",
       "      <th>SUR_TEMP_MAX</th>\n",
       "      <th>SUR_TEMP_MIN</th>\n",
       "      <th>RH_HR_AVG</th>\n",
       "    </tr>\n",
       "    <tr>\n",
       "      <th>Time</th>\n",
       "      <th></th>\n",
       "      <th></th>\n",
       "      <th></th>\n",
       "      <th></th>\n",
       "      <th></th>\n",
       "      <th></th>\n",
       "      <th></th>\n",
       "      <th></th>\n",
       "      <th></th>\n",
       "      <th></th>\n",
       "      <th></th>\n",
       "      <th></th>\n",
       "    </tr>\n",
       "  </thead>\n",
       "  <tbody>\n",
       "    <tr>\n",
       "      <th>2004-10-27</th>\n",
       "      <td>NaN</td>\n",
       "      <td>NaN</td>\n",
       "      <td>NaN</td>\n",
       "      <td>NaN</td>\n",
       "      <td>NaN</td>\n",
       "      <td>27.0</td>\n",
       "      <td>NaN</td>\n",
       "      <td>NaN</td>\n",
       "      <td>8.8</td>\n",
       "      <td>NaN</td>\n",
       "      <td>NaN</td>\n",
       "      <td>0.0</td>\n",
       "    </tr>\n",
       "    <tr>\n",
       "      <th>2004-10-27</th>\n",
       "      <td>NaN</td>\n",
       "      <td>NaN</td>\n",
       "      <td>NaN</td>\n",
       "      <td>NaN</td>\n",
       "      <td>NaN</td>\n",
       "      <td>0.0</td>\n",
       "      <td>NaN</td>\n",
       "      <td>NaN</td>\n",
       "      <td>6.7</td>\n",
       "      <td>NaN</td>\n",
       "      <td>NaN</td>\n",
       "      <td>0.0</td>\n",
       "    </tr>\n",
       "    <tr>\n",
       "      <th>2004-10-28</th>\n",
       "      <td>7.8</td>\n",
       "      <td>7.6</td>\n",
       "      <td>8.0</td>\n",
       "      <td>7.3</td>\n",
       "      <td>0.0</td>\n",
       "      <td>0.0</td>\n",
       "      <td>NaN</td>\n",
       "      <td>NaN</td>\n",
       "      <td>6.1</td>\n",
       "      <td>NaN</td>\n",
       "      <td>NaN</td>\n",
       "      <td>0.0</td>\n",
       "    </tr>\n",
       "    <tr>\n",
       "      <th>2004-10-28</th>\n",
       "      <td>6.5</td>\n",
       "      <td>7.0</td>\n",
       "      <td>7.8</td>\n",
       "      <td>6.5</td>\n",
       "      <td>0.0</td>\n",
       "      <td>0.0</td>\n",
       "      <td>NaN</td>\n",
       "      <td>NaN</td>\n",
       "      <td>5.6</td>\n",
       "      <td>NaN</td>\n",
       "      <td>NaN</td>\n",
       "      <td>0.0</td>\n",
       "    </tr>\n",
       "    <tr>\n",
       "      <th>2004-10-28</th>\n",
       "      <td>5.4</td>\n",
       "      <td>6.2</td>\n",
       "      <td>6.5</td>\n",
       "      <td>5.4</td>\n",
       "      <td>0.0</td>\n",
       "      <td>0.0</td>\n",
       "      <td>NaN</td>\n",
       "      <td>NaN</td>\n",
       "      <td>5.0</td>\n",
       "      <td>NaN</td>\n",
       "      <td>NaN</td>\n",
       "      <td>0.0</td>\n",
       "    </tr>\n",
       "    <tr>\n",
       "      <th>...</th>\n",
       "      <td>...</td>\n",
       "      <td>...</td>\n",
       "      <td>...</td>\n",
       "      <td>...</td>\n",
       "      <td>...</td>\n",
       "      <td>...</td>\n",
       "      <td>...</td>\n",
       "      <td>...</td>\n",
       "      <td>...</td>\n",
       "      <td>...</td>\n",
       "      <td>...</td>\n",
       "      <td>...</td>\n",
       "    </tr>\n",
       "    <tr>\n",
       "      <th>2023-11-06</th>\n",
       "      <td>1.1</td>\n",
       "      <td>1.3</td>\n",
       "      <td>2.1</td>\n",
       "      <td>0.3</td>\n",
       "      <td>0.0</td>\n",
       "      <td>0.0</td>\n",
       "      <td>0.0</td>\n",
       "      <td>0.0</td>\n",
       "      <td>-1.6</td>\n",
       "      <td>-0.9</td>\n",
       "      <td>-2.0</td>\n",
       "      <td>76.0</td>\n",
       "    </tr>\n",
       "    <tr>\n",
       "      <th>2023-11-06</th>\n",
       "      <td>-0.1</td>\n",
       "      <td>0.0</td>\n",
       "      <td>1.0</td>\n",
       "      <td>-1.1</td>\n",
       "      <td>0.0</td>\n",
       "      <td>0.0</td>\n",
       "      <td>0.0</td>\n",
       "      <td>0.0</td>\n",
       "      <td>-2.3</td>\n",
       "      <td>-1.9</td>\n",
       "      <td>-2.8</td>\n",
       "      <td>80.0</td>\n",
       "    </tr>\n",
       "    <tr>\n",
       "      <th>2023-11-06</th>\n",
       "      <td>-0.5</td>\n",
       "      <td>-0.4</td>\n",
       "      <td>0.1</td>\n",
       "      <td>-0.7</td>\n",
       "      <td>0.0</td>\n",
       "      <td>0.0</td>\n",
       "      <td>0.0</td>\n",
       "      <td>0.0</td>\n",
       "      <td>-3.1</td>\n",
       "      <td>-2.8</td>\n",
       "      <td>-3.3</td>\n",
       "      <td>83.0</td>\n",
       "    </tr>\n",
       "    <tr>\n",
       "      <th>2023-11-06</th>\n",
       "      <td>-1.4</td>\n",
       "      <td>-1.3</td>\n",
       "      <td>-0.5</td>\n",
       "      <td>-1.7</td>\n",
       "      <td>0.0</td>\n",
       "      <td>0.0</td>\n",
       "      <td>0.0</td>\n",
       "      <td>0.0</td>\n",
       "      <td>-3.2</td>\n",
       "      <td>-2.8</td>\n",
       "      <td>-3.5</td>\n",
       "      <td>85.0</td>\n",
       "    </tr>\n",
       "    <tr>\n",
       "      <th>2023-11-06</th>\n",
       "      <td>-1.9</td>\n",
       "      <td>-1.6</td>\n",
       "      <td>-1.4</td>\n",
       "      <td>-2.2</td>\n",
       "      <td>0.0</td>\n",
       "      <td>0.0</td>\n",
       "      <td>0.0</td>\n",
       "      <td>0.0</td>\n",
       "      <td>-3.5</td>\n",
       "      <td>-3.3</td>\n",
       "      <td>-3.8</td>\n",
       "      <td>87.0</td>\n",
       "    </tr>\n",
       "  </tbody>\n",
       "</table>\n",
       "<p>166759 rows × 12 columns</p>\n",
       "</div>"
      ],
      "text/plain": [
       "            T_CALC  T_HR_AVG  T_MAX  T_MIN  P_CALC  SOLARAD  SOLARAD_MAX  \\\n",
       "Time                                                                       \n",
       "2004-10-27     NaN       NaN    NaN    NaN     NaN     27.0          NaN   \n",
       "2004-10-27     NaN       NaN    NaN    NaN     NaN      0.0          NaN   \n",
       "2004-10-28     7.8       7.6    8.0    7.3     0.0      0.0          NaN   \n",
       "2004-10-28     6.5       7.0    7.8    6.5     0.0      0.0          NaN   \n",
       "2004-10-28     5.4       6.2    6.5    5.4     0.0      0.0          NaN   \n",
       "...            ...       ...    ...    ...     ...      ...          ...   \n",
       "2023-11-06     1.1       1.3    2.1    0.3     0.0      0.0          0.0   \n",
       "2023-11-06    -0.1       0.0    1.0   -1.1     0.0      0.0          0.0   \n",
       "2023-11-06    -0.5      -0.4    0.1   -0.7     0.0      0.0          0.0   \n",
       "2023-11-06    -1.4      -1.3   -0.5   -1.7     0.0      0.0          0.0   \n",
       "2023-11-06    -1.9      -1.6   -1.4   -2.2     0.0      0.0          0.0   \n",
       "\n",
       "            SOLARAD_MIN  SUR_TEMP  SUR_TEMP_MAX  SUR_TEMP_MIN  RH_HR_AVG  \n",
       "Time                                                                      \n",
       "2004-10-27          NaN       8.8           NaN           NaN        0.0  \n",
       "2004-10-27          NaN       6.7           NaN           NaN        0.0  \n",
       "2004-10-28          NaN       6.1           NaN           NaN        0.0  \n",
       "2004-10-28          NaN       5.6           NaN           NaN        0.0  \n",
       "2004-10-28          NaN       5.0           NaN           NaN        0.0  \n",
       "...                 ...       ...           ...           ...        ...  \n",
       "2023-11-06          0.0      -1.6          -0.9          -2.0       76.0  \n",
       "2023-11-06          0.0      -2.3          -1.9          -2.8       80.0  \n",
       "2023-11-06          0.0      -3.1          -2.8          -3.3       83.0  \n",
       "2023-11-06          0.0      -3.2          -2.8          -3.5       85.0  \n",
       "2023-11-06          0.0      -3.5          -3.3          -3.8       87.0  \n",
       "\n",
       "[166759 rows x 12 columns]"
      ]
     },
     "execution_count": 14,
     "metadata": {},
     "output_type": "execute_result"
    }
   ],
   "source": [
    "data"
   ]
  },
  {
   "cell_type": "code",
   "execution_count": 15,
   "id": "5cbbdc3a",
   "metadata": {},
   "outputs": [],
   "source": [
    "# drop NaN at the top\n",
    "data.dropna(inplace = True)"
   ]
  },
  {
   "cell_type": "code",
   "execution_count": 16,
   "id": "a6ba21c5",
   "metadata": {},
   "outputs": [],
   "source": [
    "# set target\n",
    "data['target'] = data['T_HR_AVG']"
   ]
  },
  {
   "cell_type": "code",
   "execution_count": 17,
   "id": "a6a51031",
   "metadata": {},
   "outputs": [],
   "source": [
    "from sklearn.model_selection import train_test_split\n",
    "train, test = train_test_split(data, test_size=0.2, shuffle = False)"
   ]
  },
  {
   "cell_type": "code",
   "execution_count": 18,
   "id": "597b6d4b",
   "metadata": {},
   "outputs": [],
   "source": [
    "from sklearn.preprocessing import MinMaxScaler\n",
    "import pickle\n",
    "\n",
    "scaler = MinMaxScaler()\n",
    "scaler.fit(train)\n",
    "train = scaler.transform(train)\n",
    "test = scaler.transform(test)\n",
    "\n",
    "with open('./LSTM/models/scaler.pkl', 'wb') as f:\n",
    "    pickle.dump(scaler, f)"
   ]
  },
  {
   "cell_type": "code",
   "execution_count": 19,
   "id": "aba1ac71",
   "metadata": {},
   "outputs": [
    {
     "data": {
      "text/plain": [
       "(126057, 13)"
      ]
     },
     "execution_count": 19,
     "metadata": {},
     "output_type": "execute_result"
    }
   ],
   "source": [
    "train.shape"
   ]
  },
  {
   "cell_type": "code",
   "execution_count": 20,
   "id": "bf181b56",
   "metadata": {},
   "outputs": [
    {
     "data": {
      "text/plain": [
       "(31515, 13)"
      ]
     },
     "execution_count": 20,
     "metadata": {},
     "output_type": "execute_result"
    }
   ],
   "source": [
    "test.shape"
   ]
  },
  {
   "cell_type": "code",
   "execution_count": 21,
   "id": "99ce69f2",
   "metadata": {},
   "outputs": [],
   "source": [
    "# splitting data into sequences\n",
    "def split_sequences(features, target, seq_len, forecast_len):\n",
    "    X,y = list(), list()\n",
    "    for i in range(len(features)):\n",
    "        end_input = i + seq_len\n",
    "        end_predict = end_input + forecast_len\n",
    "        if end_predict > len(features)-1:\n",
    "            break\n",
    "        seq_x, seq_y = features[i:end_input,:], target[end_input:end_predict]\n",
    "        X.append(seq_x)\n",
    "        y.append(seq_y)\n",
    "    return tf.convert_to_tensor(X, dtype=tf.float64), tf.convert_to_tensor(y, dtype=tf.float64)"
   ]
  },
  {
   "cell_type": "markdown",
   "id": "6adc7e6b",
   "metadata": {},
   "source": [
    "# Define Model"
   ]
  },
  {
   "cell_type": "code",
   "execution_count": 22,
   "id": "7e46daa1",
   "metadata": {},
   "outputs": [],
   "source": [
    "from tensorflow.keras.models import Sequential, Model\n",
    "from tensorflow.keras.layers import LSTM, Dense, RNN, LSTMCell, Input, Bidirectional\n",
    "from tensorflow.keras.losses import BinaryCrossentropy, MeanSquaredError\n",
    "from tensorflow.keras.optimizers import Adam\n",
    "from tensorflow.keras.callbacks import TensorBoard\n",
    "from tensorflow.keras.utils import plot_model\n",
    "\n",
    "class MyModel(tf.keras.Model):\n",
    "\n",
    "    def __init__(self, input_shape, output_shape, name = 'LSTM'):\n",
    "        super().__init__(name = name)\n",
    "        self.input_layer = Input(shape = input_shape, name = 'input')\n",
    "        self.lstm1 = LSTM(units=30, activation = 'tanh', input_shape = input_shape, return_sequences=False, name = 'lstm_1')\n",
    "        self.dense1 = Dense(units=output_shape, activation = 'relu', name = 'dense_1')\n",
    "        #self.dropout = tf.keras.layers.Dropout(0.5)\n",
    "\n",
    "    def call(self, inputs, training=False):\n",
    "        x = self.lstm1(inputs)\n",
    "        x = self.dense1(x)\n",
    "        #if training:\n",
    "        #  x = self.dropout(x, training=training)\n",
    "        return x\n",
    "    \n",
    "    def summary(self):\n",
    "        model = Model(inputs = [self.input_layer], outputs = self.call(self.input_layer), name = self.name)\n",
    "        return model.summary()"
   ]
  },
  {
   "cell_type": "markdown",
   "id": "28807bc6",
   "metadata": {},
   "source": [
    "# Model Training\n",
    "## input length : output length = 16:4"
   ]
  },
  {
   "cell_type": "code",
   "execution_count": 23,
   "id": "03ec4f70",
   "metadata": {},
   "outputs": [],
   "source": [
    "# prepare sequences\n",
    "seq_len = 16\n",
    "forecast_len = 4\n",
    "X_train, y_train = split_sequences(train[:,:-1], train[:,-1], seq_len = seq_len, forecast_len = forecast_len)\n",
    "X_test, y_test = split_sequences(test[:,:-1], test[:,-1],seq_len = seq_len, forecast_len =  forecast_len)\n",
    "n_features = X_train.shape[2]"
   ]
  },
  {
   "cell_type": "code",
   "execution_count": 24,
   "id": "c26eaa20",
   "metadata": {},
   "outputs": [
    {
     "data": {
      "text/plain": [
       "TensorShape([126037, 16, 12])"
      ]
     },
     "execution_count": 24,
     "metadata": {},
     "output_type": "execute_result"
    }
   ],
   "source": [
    "X_train.shape"
   ]
  },
  {
   "cell_type": "code",
   "execution_count": 25,
   "id": "039bed2b",
   "metadata": {},
   "outputs": [
    {
     "data": {
      "text/plain": [
       "TensorShape([126037, 4])"
      ]
     },
     "execution_count": 25,
     "metadata": {},
     "output_type": "execute_result"
    }
   ],
   "source": [
    "y_train.shape"
   ]
  },
  {
   "cell_type": "code",
   "execution_count": 26,
   "id": "7f03c179",
   "metadata": {},
   "outputs": [
    {
     "name": "stdout",
     "output_type": "stream",
     "text": [
      "Model: \"LSTM_16-4\"\n",
      "_________________________________________________________________\n",
      " Layer (type)                Output Shape              Param #   \n",
      "=================================================================\n",
      " input (InputLayer)          [(None, 16, 12)]          0         \n",
      "                                                                 \n",
      " lstm_1 (LSTM)               (None, 30)                5160      \n",
      "                                                                 \n",
      " dense_1 (Dense)             (None, 4)                 124       \n",
      "                                                                 \n",
      "=================================================================\n",
      "Total params: 5,284\n",
      "Trainable params: 5,284\n",
      "Non-trainable params: 0\n",
      "_________________________________________________________________\n"
     ]
    }
   ],
   "source": [
    "# create model instance\n",
    "model_name = 'LSTM_16-4'\n",
    "model = MyModel(input_shape = (seq_len, n_features), output_shape = (forecast_len), name = model_name)\n",
    "model.summary()"
   ]
  },
  {
   "cell_type": "code",
   "execution_count": 27,
   "id": "06942327",
   "metadata": {},
   "outputs": [
    {
     "name": "stdout",
     "output_type": "stream",
     "text": [
      "Epoch 1/30\n",
      "1135/1135 [==============================] - 6s 4ms/step - loss: 0.0027 - mse: 0.0027 - acc: 0.5396 - val_loss: 8.3953e-04 - val_mse: 8.3953e-04 - val_acc: 0.5805\n",
      "Epoch 2/30\n",
      "1135/1135 [==============================] - 4s 4ms/step - loss: 7.3273e-04 - mse: 7.3273e-04 - acc: 0.5635 - val_loss: 6.3779e-04 - val_mse: 6.3779e-04 - val_acc: 0.6427\n",
      "Epoch 3/30\n",
      "1135/1135 [==============================] - 4s 4ms/step - loss: 6.2521e-04 - mse: 6.2521e-04 - acc: 0.5816 - val_loss: 5.4084e-04 - val_mse: 5.4084e-04 - val_acc: 0.5614\n",
      "Epoch 4/30\n",
      "1135/1135 [==============================] - 4s 4ms/step - loss: 5.7789e-04 - mse: 5.7789e-04 - acc: 0.6144 - val_loss: 5.2769e-04 - val_mse: 5.2769e-04 - val_acc: 0.5684\n",
      "Epoch 5/30\n",
      "1135/1135 [==============================] - 4s 4ms/step - loss: 5.4966e-04 - mse: 5.4966e-04 - acc: 0.6177 - val_loss: 4.9048e-04 - val_mse: 4.9048e-04 - val_acc: 0.4436\n",
      "Epoch 6/30\n",
      "1135/1135 [==============================] - 5s 4ms/step - loss: 5.3416e-04 - mse: 5.3416e-04 - acc: 0.6284 - val_loss: 5.8497e-04 - val_mse: 5.8497e-04 - val_acc: 0.6337\n",
      "Epoch 7/30\n",
      "1135/1135 [==============================] - 4s 4ms/step - loss: 5.1571e-04 - mse: 5.1571e-04 - acc: 0.6283 - val_loss: 4.6670e-04 - val_mse: 4.6670e-04 - val_acc: 0.6177\n",
      "Epoch 8/30\n",
      "1135/1135 [==============================] - 4s 4ms/step - loss: 5.2007e-04 - mse: 5.2007e-04 - acc: 0.6374 - val_loss: 4.4621e-04 - val_mse: 4.4621e-04 - val_acc: 0.6469\n",
      "Epoch 9/30\n",
      "1135/1135 [==============================] - 5s 4ms/step - loss: 4.9747e-04 - mse: 4.9747e-04 - acc: 0.6416 - val_loss: 4.4206e-04 - val_mse: 4.4206e-04 - val_acc: 0.6373\n",
      "Epoch 10/30\n",
      "1135/1135 [==============================] - 5s 4ms/step - loss: 4.9470e-04 - mse: 4.9470e-04 - acc: 0.6431 - val_loss: 4.8367e-04 - val_mse: 4.8367e-04 - val_acc: 0.5739\n",
      "Epoch 11/30\n",
      "1135/1135 [==============================] - 5s 4ms/step - loss: 4.8566e-04 - mse: 4.8566e-04 - acc: 0.6462 - val_loss: 4.6632e-04 - val_mse: 4.6632e-04 - val_acc: 0.6245\n",
      "Epoch 12/30\n",
      "1135/1135 [==============================] - 4s 4ms/step - loss: 4.7674e-04 - mse: 4.7674e-04 - acc: 0.6459 - val_loss: 6.5417e-04 - val_mse: 6.5417e-04 - val_acc: 0.6118\n",
      "Epoch 13/30\n",
      "1135/1135 [==============================] - 4s 4ms/step - loss: 4.7646e-04 - mse: 4.7646e-04 - acc: 0.6506 - val_loss: 4.4008e-04 - val_mse: 4.4008e-04 - val_acc: 0.6459\n",
      "Epoch 14/30\n",
      "1135/1135 [==============================] - 4s 4ms/step - loss: 4.7022e-04 - mse: 4.7022e-04 - acc: 0.6521 - val_loss: 4.4000e-04 - val_mse: 4.4000e-04 - val_acc: 0.6532\n",
      "Epoch 15/30\n",
      "1135/1135 [==============================] - 4s 4ms/step - loss: 4.6232e-04 - mse: 4.6232e-04 - acc: 0.6521 - val_loss: 4.6082e-04 - val_mse: 4.6082e-04 - val_acc: 0.6204\n",
      "Epoch 16/30\n",
      "1135/1135 [==============================] - 4s 4ms/step - loss: 4.6332e-04 - mse: 4.6332e-04 - acc: 0.6516 - val_loss: 4.3971e-04 - val_mse: 4.3971e-04 - val_acc: 0.6419\n",
      "Epoch 17/30\n",
      "1135/1135 [==============================] - 4s 4ms/step - loss: 4.5921e-04 - mse: 4.5921e-04 - acc: 0.6550 - val_loss: 4.2716e-04 - val_mse: 4.2716e-04 - val_acc: 0.6358\n",
      "Epoch 18/30\n",
      "1135/1135 [==============================] - 4s 4ms/step - loss: 4.5220e-04 - mse: 4.5220e-04 - acc: 0.6545 - val_loss: 4.2419e-04 - val_mse: 4.2419e-04 - val_acc: 0.6220\n",
      "Epoch 19/30\n",
      "1135/1135 [==============================] - 4s 4ms/step - loss: 4.5133e-04 - mse: 4.5133e-04 - acc: 0.6552 - val_loss: 4.3900e-04 - val_mse: 4.3900e-04 - val_acc: 0.6106\n",
      "Epoch 20/30\n",
      "1135/1135 [==============================] - 4s 4ms/step - loss: 4.4837e-04 - mse: 4.4837e-04 - acc: 0.6537 - val_loss: 4.9292e-04 - val_mse: 4.9292e-04 - val_acc: 0.5551\n",
      "Epoch 21/30\n",
      "1135/1135 [==============================] - 4s 4ms/step - loss: 4.4600e-04 - mse: 4.4600e-04 - acc: 0.6575 - val_loss: 4.3352e-04 - val_mse: 4.3352e-04 - val_acc: 0.6133\n",
      "Epoch 22/30\n",
      "1135/1135 [==============================] - 4s 4ms/step - loss: 4.4486e-04 - mse: 4.4486e-04 - acc: 0.6572 - val_loss: 4.2272e-04 - val_mse: 4.2272e-04 - val_acc: 0.6326\n",
      "Epoch 23/30\n",
      "1135/1135 [==============================] - 4s 4ms/step - loss: 4.3848e-04 - mse: 4.3848e-04 - acc: 0.6593 - val_loss: 4.3324e-04 - val_mse: 4.3324e-04 - val_acc: 0.5700\n",
      "Epoch 24/30\n",
      "1135/1135 [==============================] - 4s 4ms/step - loss: 4.3686e-04 - mse: 4.3686e-04 - acc: 0.6556 - val_loss: 5.3143e-04 - val_mse: 5.3143e-04 - val_acc: 0.6451\n",
      "Epoch 25/30\n",
      "1135/1135 [==============================] - 4s 4ms/step - loss: 4.3371e-04 - mse: 4.3371e-04 - acc: 0.6591 - val_loss: 4.1828e-04 - val_mse: 4.1828e-04 - val_acc: 0.5983\n",
      "Epoch 26/30\n",
      "1135/1135 [==============================] - 4s 4ms/step - loss: 4.3278e-04 - mse: 4.3278e-04 - acc: 0.6590 - val_loss: 4.2667e-04 - val_mse: 4.2667e-04 - val_acc: 0.5469\n",
      "Epoch 27/30\n",
      "1135/1135 [==============================] - 4s 4ms/step - loss: 4.3308e-04 - mse: 4.3308e-04 - acc: 0.6590 - val_loss: 4.1530e-04 - val_mse: 4.1530e-04 - val_acc: 0.6160\n",
      "Epoch 28/30\n",
      "1135/1135 [==============================] - 4s 4ms/step - loss: 4.2936e-04 - mse: 4.2936e-04 - acc: 0.6595 - val_loss: 4.1071e-04 - val_mse: 4.1071e-04 - val_acc: 0.6078\n",
      "Epoch 29/30\n",
      "1135/1135 [==============================] - 4s 4ms/step - loss: 4.2660e-04 - mse: 4.2660e-04 - acc: 0.6591 - val_loss: 4.3182e-04 - val_mse: 4.3182e-04 - val_acc: 0.6493\n",
      "Epoch 30/30\n",
      "1135/1135 [==============================] - 4s 4ms/step - loss: 4.2700e-04 - mse: 4.2700e-04 - acc: 0.6585 - val_loss: 4.3383e-04 - val_mse: 4.3383e-04 - val_acc: 0.5319\n"
     ]
    },
    {
     "data": {
      "text/plain": [
       "<keras.callbacks.History at 0x189883c7eb0>"
      ]
     },
     "execution_count": 27,
     "metadata": {},
     "output_type": "execute_result"
    }
   ],
   "source": [
    "# Fit the model\n",
    "model.compile(loss=MeanSquaredError(), optimizer=Adam(learning_rate = 0.01), metrics = ['mse', 'acc'])\n",
    "model.fit(X_train, \n",
    "          y_train, \n",
    "          batch_size=100,\n",
    "          epochs=30,\n",
    "          verbose='auto',\n",
    "          callbacks=None,\n",
    "          validation_split=0.1,\n",
    "          shuffle=True)"
   ]
  },
  {
   "cell_type": "code",
   "execution_count": 28,
   "id": "ceea1dc7",
   "metadata": {},
   "outputs": [
    {
     "name": "stderr",
     "output_type": "stream",
     "text": [
      "WARNING:absl:Found untraced functions such as lstm_cell_layer_call_fn, lstm_cell_layer_call_and_return_conditional_losses while saving (showing 2 of 2). These functions will not be directly callable after loading.\n"
     ]
    },
    {
     "name": "stdout",
     "output_type": "stream",
     "text": [
      "INFO:tensorflow:Assets written to: ./LSTM/models/LSTM_16-4\\assets\n"
     ]
    },
    {
     "name": "stderr",
     "output_type": "stream",
     "text": [
      "INFO:tensorflow:Assets written to: ./LSTM/models/LSTM_16-4\\assets\n"
     ]
    },
    {
     "name": "stdout",
     "output_type": "stream",
     "text": [
      "3939/3939 [==============================] - 4s 917us/step\n",
      "985/985 [==============================] - 1s 910us/step\n"
     ]
    }
   ],
   "source": [
    "# save trained model\n",
    "model.save('./LSTM/models/' + model_name)\n",
    "y_hat_train = model.predict(X_train)\n",
    "y_hat_test = model.predict(X_test)"
   ]
  },
  {
   "cell_type": "code",
   "execution_count": 29,
   "id": "bd0043ef",
   "metadata": {},
   "outputs": [
    {
     "name": "stdout",
     "output_type": "stream",
     "text": [
      "mean_squared_error\n",
      "train set: 0.000410448137396148\n",
      "test set: 0.0004588499961577377\n"
     ]
    }
   ],
   "source": [
    "from sklearn.metrics import mean_squared_error\n",
    "print('mean_squared_error')\n",
    "print('train set:', mean_squared_error(y_train, y_hat_train, sample_weight=None))\n",
    "print('test set:', mean_squared_error(y_test, y_hat_test, sample_weight=None))"
   ]
  },
  {
   "cell_type": "markdown",
   "id": "1258ce9b",
   "metadata": {},
   "source": [
    "## input length : output length = 24:6"
   ]
  },
  {
   "cell_type": "code",
   "execution_count": 30,
   "id": "8be2411e",
   "metadata": {},
   "outputs": [],
   "source": [
    "# reset memory\n",
    "tf.Graph().as_default() \n",
    "\n",
    "# prepare sequences\n",
    "seq_len = 24\n",
    "forecast_len = 6\n",
    "X_train, y_train = split_sequences(train[:,:-1], train[:,-1], seq_len = seq_len, forecast_len = forecast_len)\n",
    "X_test, y_test = split_sequences(test[:,:-1], test[:,-1],seq_len = seq_len, forecast_len =  forecast_len)\n",
    "n_features = X_train.shape[2]"
   ]
  },
  {
   "cell_type": "code",
   "execution_count": 31,
   "id": "787bb430",
   "metadata": {},
   "outputs": [
    {
     "name": "stdout",
     "output_type": "stream",
     "text": [
      "Model: \"LSTM_24-6\"\n",
      "_________________________________________________________________\n",
      " Layer (type)                Output Shape              Param #   \n",
      "=================================================================\n",
      " input (InputLayer)          [(None, 24, 12)]          0         \n",
      "                                                                 \n",
      " lstm_1 (LSTM)               (None, 30)                5160      \n",
      "                                                                 \n",
      " dense_1 (Dense)             (None, 6)                 186       \n",
      "                                                                 \n",
      "=================================================================\n",
      "Total params: 5,346\n",
      "Trainable params: 5,346\n",
      "Non-trainable params: 0\n",
      "_________________________________________________________________\n"
     ]
    }
   ],
   "source": [
    "# create model instance\n",
    "model_name = 'LSTM_24-6'\n",
    "model = MyModel(input_shape = (seq_len, n_features), output_shape = (forecast_len), name = model_name)\n",
    "model.summary()"
   ]
  },
  {
   "cell_type": "code",
   "execution_count": 32,
   "id": "c2e8f948",
   "metadata": {},
   "outputs": [
    {
     "name": "stdout",
     "output_type": "stream",
     "text": [
      "Epoch 1/30\n",
      "1135/1135 [==============================] - 8s 6ms/step - loss: 0.0025 - mse: 0.0025 - acc: 0.4657 - val_loss: 9.8442e-04 - val_mse: 9.8442e-04 - val_acc: 0.4927\n",
      "Epoch 2/30\n",
      "1135/1135 [==============================] - 6s 5ms/step - loss: 9.4125e-04 - mse: 9.4125e-04 - acc: 0.5360 - val_loss: 9.0479e-04 - val_mse: 9.0479e-04 - val_acc: 0.3894\n",
      "Epoch 3/30\n",
      "1135/1135 [==============================] - 6s 5ms/step - loss: 8.4836e-04 - mse: 8.4836e-04 - acc: 0.5586 - val_loss: 0.0012 - val_mse: 0.0012 - val_acc: 0.5916\n",
      "Epoch 4/30\n",
      "1135/1135 [==============================] - 6s 5ms/step - loss: 8.2777e-04 - mse: 8.2777e-04 - acc: 0.5712 - val_loss: 7.3444e-04 - val_mse: 7.3444e-04 - val_acc: 0.5192\n",
      "Epoch 5/30\n",
      "1135/1135 [==============================] - 6s 5ms/step - loss: 8.0340e-04 - mse: 8.0340e-04 - acc: 0.5757 - val_loss: 7.1050e-04 - val_mse: 7.1050e-04 - val_acc: 0.5575\n",
      "Epoch 6/30\n",
      "1135/1135 [==============================] - 6s 5ms/step - loss: 7.8723e-04 - mse: 7.8723e-04 - acc: 0.5843 - val_loss: 7.3106e-04 - val_mse: 7.3106e-04 - val_acc: 0.4627\n",
      "Epoch 7/30\n",
      "1135/1135 [==============================] - 6s 5ms/step - loss: 7.6694e-04 - mse: 7.6694e-04 - acc: 0.5925 - val_loss: 8.2383e-04 - val_mse: 8.2383e-04 - val_acc: 0.5836\n",
      "Epoch 8/30\n",
      "1135/1135 [==============================] - 6s 5ms/step - loss: 7.4477e-04 - mse: 7.4477e-04 - acc: 0.5939 - val_loss: 7.0935e-04 - val_mse: 7.0935e-04 - val_acc: 0.5678\n",
      "Epoch 9/30\n",
      "1135/1135 [==============================] - 6s 5ms/step - loss: 7.3461e-04 - mse: 7.3461e-04 - acc: 0.5981 - val_loss: 6.9566e-04 - val_mse: 6.9566e-04 - val_acc: 0.4080\n",
      "Epoch 10/30\n",
      "1135/1135 [==============================] - 6s 6ms/step - loss: 7.2637e-04 - mse: 7.2637e-04 - acc: 0.6044 - val_loss: 6.7755e-04 - val_mse: 6.7755e-04 - val_acc: 0.5931\n",
      "Epoch 11/30\n",
      "1135/1135 [==============================] - 6s 6ms/step - loss: 7.0202e-04 - mse: 7.0202e-04 - acc: 0.6070 - val_loss: 6.8966e-04 - val_mse: 6.8966e-04 - val_acc: 0.6083\n",
      "Epoch 12/30\n",
      "1135/1135 [==============================] - 6s 5ms/step - loss: 7.0210e-04 - mse: 7.0210e-04 - acc: 0.6067 - val_loss: 6.5968e-04 - val_mse: 6.5968e-04 - val_acc: 0.5365\n",
      "Epoch 13/30\n",
      "1135/1135 [==============================] - 6s 5ms/step - loss: 6.9138e-04 - mse: 6.9138e-04 - acc: 0.6080 - val_loss: 6.5141e-04 - val_mse: 6.5141e-04 - val_acc: 0.5860\n",
      "Epoch 14/30\n",
      "1135/1135 [==============================] - 6s 5ms/step - loss: 6.7777e-04 - mse: 6.7777e-04 - acc: 0.6102 - val_loss: 6.7030e-04 - val_mse: 6.7030e-04 - val_acc: 0.5592\n",
      "Epoch 15/30\n",
      "1135/1135 [==============================] - 6s 5ms/step - loss: 6.6966e-04 - mse: 6.6966e-04 - acc: 0.6110 - val_loss: 6.6606e-04 - val_mse: 6.6606e-04 - val_acc: 0.5938\n",
      "Epoch 16/30\n",
      "1135/1135 [==============================] - 6s 5ms/step - loss: 6.6444e-04 - mse: 6.6444e-04 - acc: 0.6114 - val_loss: 7.2321e-04 - val_mse: 7.2321e-04 - val_acc: 0.6129\n",
      "Epoch 17/30\n",
      "1135/1135 [==============================] - 6s 5ms/step - loss: 6.5928e-04 - mse: 6.5928e-04 - acc: 0.6111 - val_loss: 6.4164e-04 - val_mse: 6.4164e-04 - val_acc: 0.6033\n",
      "Epoch 18/30\n",
      "1135/1135 [==============================] - 6s 5ms/step - loss: 6.5094e-04 - mse: 6.5094e-04 - acc: 0.6118 - val_loss: 6.6392e-04 - val_mse: 6.6392e-04 - val_acc: 0.5726\n",
      "Epoch 19/30\n",
      "1135/1135 [==============================] - 6s 5ms/step - loss: 6.4950e-04 - mse: 6.4950e-04 - acc: 0.6102 - val_loss: 7.1876e-04 - val_mse: 7.1876e-04 - val_acc: 0.6070\n",
      "Epoch 20/30\n",
      "1135/1135 [==============================] - 6s 5ms/step - loss: 6.4450e-04 - mse: 6.4450e-04 - acc: 0.6143 - val_loss: 6.5646e-04 - val_mse: 6.5646e-04 - val_acc: 0.5707\n",
      "Epoch 21/30\n",
      "1135/1135 [==============================] - 6s 5ms/step - loss: 6.3662e-04 - mse: 6.3662e-04 - acc: 0.6150 - val_loss: 8.0262e-04 - val_mse: 8.0262e-04 - val_acc: 0.5457\n",
      "Epoch 22/30\n",
      "1135/1135 [==============================] - 6s 5ms/step - loss: 6.3762e-04 - mse: 6.3762e-04 - acc: 0.6148 - val_loss: 7.0558e-04 - val_mse: 7.0558e-04 - val_acc: 0.5682\n",
      "Epoch 23/30\n",
      "1135/1135 [==============================] - 6s 5ms/step - loss: 6.3258e-04 - mse: 6.3258e-04 - acc: 0.6152 - val_loss: 7.9679e-04 - val_mse: 7.9679e-04 - val_acc: 0.5768\n",
      "Epoch 24/30\n",
      "1135/1135 [==============================] - 6s 5ms/step - loss: 6.2923e-04 - mse: 6.2923e-04 - acc: 0.6153 - val_loss: 7.0234e-04 - val_mse: 7.0234e-04 - val_acc: 0.5702\n",
      "Epoch 25/30\n",
      "1135/1135 [==============================] - 6s 5ms/step - loss: 6.2799e-04 - mse: 6.2799e-04 - acc: 0.6144 - val_loss: 8.5618e-04 - val_mse: 8.5618e-04 - val_acc: 0.6066\n",
      "Epoch 26/30\n",
      "1135/1135 [==============================] - 6s 5ms/step - loss: 6.2035e-04 - mse: 6.2035e-04 - acc: 0.6164 - val_loss: 7.0141e-04 - val_mse: 7.0141e-04 - val_acc: 0.4720\n",
      "Epoch 27/30\n",
      "1135/1135 [==============================] - 6s 5ms/step - loss: 6.2024e-04 - mse: 6.2024e-04 - acc: 0.6159 - val_loss: 8.9266e-04 - val_mse: 8.9266e-04 - val_acc: 0.6110\n",
      "Epoch 28/30\n",
      "1135/1135 [==============================] - 6s 5ms/step - loss: 6.1460e-04 - mse: 6.1460e-04 - acc: 0.6201 - val_loss: 8.0293e-04 - val_mse: 8.0293e-04 - val_acc: 0.6133\n",
      "Epoch 29/30\n",
      "1135/1135 [==============================] - 6s 5ms/step - loss: 6.1846e-04 - mse: 6.1846e-04 - acc: 0.6178 - val_loss: 7.9725e-04 - val_mse: 7.9725e-04 - val_acc: 0.5834\n",
      "Epoch 30/30\n",
      "1135/1135 [==============================] - 6s 5ms/step - loss: 6.0899e-04 - mse: 6.0899e-04 - acc: 0.6202 - val_loss: 7.0870e-04 - val_mse: 7.0870e-04 - val_acc: 0.5927\n"
     ]
    },
    {
     "data": {
      "text/plain": [
       "<keras.callbacks.History at 0x18990be6cb0>"
      ]
     },
     "execution_count": 32,
     "metadata": {},
     "output_type": "execute_result"
    }
   ],
   "source": [
    "# Fit the model\n",
    "model.compile(loss=MeanSquaredError(), optimizer=Adam(learning_rate = 0.01), metrics = ['mse', 'acc'])\n",
    "model.fit(X_train, \n",
    "          y_train, \n",
    "          batch_size=100,\n",
    "          epochs=30,\n",
    "          verbose='auto',\n",
    "          callbacks=None,\n",
    "          validation_split=0.1,\n",
    "          shuffle=True)"
   ]
  },
  {
   "cell_type": "code",
   "execution_count": 33,
   "id": "520fc1a0",
   "metadata": {},
   "outputs": [
    {
     "name": "stderr",
     "output_type": "stream",
     "text": [
      "WARNING:absl:Found untraced functions such as lstm_cell_1_layer_call_fn, lstm_cell_1_layer_call_and_return_conditional_losses while saving (showing 2 of 2). These functions will not be directly callable after loading.\n"
     ]
    },
    {
     "name": "stdout",
     "output_type": "stream",
     "text": [
      "INFO:tensorflow:Assets written to: ./LSTM/models/LSTM_24-6\\assets\n"
     ]
    },
    {
     "name": "stderr",
     "output_type": "stream",
     "text": [
      "INFO:tensorflow:Assets written to: ./LSTM/models/LSTM_24-6\\assets\n"
     ]
    },
    {
     "name": "stdout",
     "output_type": "stream",
     "text": [
      "3939/3939 [==============================] - 5s 1ms/step\n",
      "984/984 [==============================] - 1s 1ms/step\n",
      "mean_squared_error\n",
      "train set: 0.0006072851833836482\n",
      "test set: 0.0006667094617247199\n"
     ]
    }
   ],
   "source": [
    "# save trained model\n",
    "model.save('./LSTM/models/' + model_name)\n",
    "# evaluate the model\n",
    "from sklearn.metrics import mean_squared_error\n",
    "\n",
    "y_hat_train = model.predict(X_train)\n",
    "y_hat_test = model.predict(X_test)\n",
    "\n",
    "print('mean_squared_error')\n",
    "print('train set:', mean_squared_error(y_train, y_hat_train, sample_weight=None))\n",
    "print('test set:', mean_squared_error(y_test, y_hat_test, sample_weight=None))"
   ]
  },
  {
   "cell_type": "markdown",
   "id": "82dbd001",
   "metadata": {},
   "source": [
    "## input length : output length = 32:8"
   ]
  },
  {
   "cell_type": "code",
   "execution_count": 34,
   "id": "86bc5076",
   "metadata": {},
   "outputs": [],
   "source": [
    "# reset memory\n",
    "tf.Graph().as_default() \n",
    "\n",
    "# prepare sequences\n",
    "seq_len = 32\n",
    "forecast_len = 8\n",
    "X_train, y_train = split_sequences(train[:,:-1], train[:,-1], seq_len = seq_len, forecast_len = forecast_len)\n",
    "X_test, y_test = split_sequences(test[:,:-1], test[:,-1],seq_len = seq_len, forecast_len =  forecast_len)\n",
    "n_features = X_train.shape[2]"
   ]
  },
  {
   "cell_type": "code",
   "execution_count": 35,
   "id": "ab4164d4",
   "metadata": {},
   "outputs": [
    {
     "name": "stdout",
     "output_type": "stream",
     "text": [
      "Model: \"LSTM_32-8\"\n",
      "_________________________________________________________________\n",
      " Layer (type)                Output Shape              Param #   \n",
      "=================================================================\n",
      " input (InputLayer)          [(None, 32, 12)]          0         \n",
      "                                                                 \n",
      " lstm_1 (LSTM)               (None, 30)                5160      \n",
      "                                                                 \n",
      " dense_1 (Dense)             (None, 8)                 248       \n",
      "                                                                 \n",
      "=================================================================\n",
      "Total params: 5,408\n",
      "Trainable params: 5,408\n",
      "Non-trainable params: 0\n",
      "_________________________________________________________________\n"
     ]
    }
   ],
   "source": [
    "# create model instance\n",
    "model_name = 'LSTM_32-8'\n",
    "model = MyModel(input_shape = (seq_len, n_features), output_shape = (forecast_len), name = model_name)\n",
    "model.summary()"
   ]
  },
  {
   "cell_type": "code",
   "execution_count": 36,
   "id": "0b571424",
   "metadata": {},
   "outputs": [
    {
     "name": "stdout",
     "output_type": "stream",
     "text": [
      "Epoch 1/30\n",
      "1135/1135 [==============================] - 9s 7ms/step - loss: 0.0115 - mse: 0.0115 - acc: 0.3907 - val_loss: 0.0015 - val_mse: 0.0015 - val_acc: 0.3954\n",
      "Epoch 2/30\n",
      "1135/1135 [==============================] - 7s 6ms/step - loss: 0.0013 - mse: 0.0013 - acc: 0.4960 - val_loss: 0.0012 - val_mse: 0.0012 - val_acc: 0.4857\n",
      "Epoch 3/30\n",
      "1135/1135 [==============================] - 7s 7ms/step - loss: 0.0012 - mse: 0.0012 - acc: 0.5063 - val_loss: 0.0013 - val_mse: 0.0013 - val_acc: 0.4983\n",
      "Epoch 4/30\n",
      "1135/1135 [==============================] - 8s 7ms/step - loss: 0.0011 - mse: 0.0011 - acc: 0.5228 - val_loss: 0.0011 - val_mse: 0.0011 - val_acc: 0.4558\n",
      "Epoch 5/30\n",
      "1135/1135 [==============================] - 7s 6ms/step - loss: 0.0011 - mse: 0.0011 - acc: 0.5332 - val_loss: 0.0012 - val_mse: 0.0012 - val_acc: 0.5103\n",
      "Epoch 6/30\n",
      "1135/1135 [==============================] - 7s 6ms/step - loss: 0.0011 - mse: 0.0011 - acc: 0.5434 - val_loss: 9.7765e-04 - val_mse: 9.7765e-04 - val_acc: 0.4658\n",
      "Epoch 7/30\n",
      "1135/1135 [==============================] - 8s 7ms/step - loss: 0.0010 - mse: 0.0010 - acc: 0.5514 - val_loss: 0.0010 - val_mse: 0.0010 - val_acc: 0.4398\n",
      "Epoch 8/30\n",
      "1135/1135 [==============================] - 7s 7ms/step - loss: 0.0010 - mse: 0.0010 - acc: 0.5563 - val_loss: 0.0010 - val_mse: 0.0010 - val_acc: 0.4363\n",
      "Epoch 9/30\n",
      "1135/1135 [==============================] - 7s 6ms/step - loss: 9.9879e-04 - mse: 9.9879e-04 - acc: 0.5620 - val_loss: 9.8063e-04 - val_mse: 9.8063e-04 - val_acc: 0.5478\n",
      "Epoch 10/30\n",
      "1135/1135 [==============================] - 7s 6ms/step - loss: 9.7934e-04 - mse: 9.7934e-04 - acc: 0.5627 - val_loss: 0.0011 - val_mse: 0.0011 - val_acc: 0.5401\n",
      "Epoch 11/30\n",
      "1135/1135 [==============================] - 8s 7ms/step - loss: 9.6777e-04 - mse: 9.6777e-04 - acc: 0.5649 - val_loss: 9.9145e-04 - val_mse: 9.9145e-04 - val_acc: 0.5340\n",
      "Epoch 12/30\n",
      "1135/1135 [==============================] - 8s 7ms/step - loss: 9.5206e-04 - mse: 9.5206e-04 - acc: 0.5692 - val_loss: 0.0010 - val_mse: 0.0010 - val_acc: 0.5718\n",
      "Epoch 13/30\n",
      "1135/1135 [==============================] - 7s 7ms/step - loss: 9.4535e-04 - mse: 9.4535e-04 - acc: 0.5689 - val_loss: 0.0011 - val_mse: 0.0011 - val_acc: 0.5671\n",
      "Epoch 14/30\n",
      "1135/1135 [==============================] - 8s 7ms/step - loss: 9.3123e-04 - mse: 9.3123e-04 - acc: 0.5718 - val_loss: 0.0011 - val_mse: 0.0011 - val_acc: 0.5556\n",
      "Epoch 15/30\n",
      "1135/1135 [==============================] - 8s 7ms/step - loss: 9.2006e-04 - mse: 9.2006e-04 - acc: 0.5713 - val_loss: 0.0011 - val_mse: 0.0011 - val_acc: 0.4846\n",
      "Epoch 16/30\n",
      "1135/1135 [==============================] - 8s 7ms/step - loss: 9.0730e-04 - mse: 9.0730e-04 - acc: 0.5750 - val_loss: 0.0012 - val_mse: 0.0012 - val_acc: 0.5478\n",
      "Epoch 17/30\n",
      "1135/1135 [==============================] - 7s 7ms/step - loss: 8.9918e-04 - mse: 8.9918e-04 - acc: 0.5748 - val_loss: 0.0011 - val_mse: 0.0011 - val_acc: 0.5540\n",
      "Epoch 18/30\n",
      "1135/1135 [==============================] - 8s 7ms/step - loss: 8.8775e-04 - mse: 8.8775e-04 - acc: 0.5765 - val_loss: 0.0011 - val_mse: 0.0011 - val_acc: 0.4439\n",
      "Epoch 19/30\n",
      "1135/1135 [==============================] - 8s 7ms/step - loss: 8.9566e-04 - mse: 8.9566e-04 - acc: 0.5731 - val_loss: 0.0012 - val_mse: 0.0012 - val_acc: 0.5600\n",
      "Epoch 20/30\n",
      "1135/1135 [==============================] - 8s 7ms/step - loss: 8.7120e-04 - mse: 8.7120e-04 - acc: 0.5777 - val_loss: 0.0011 - val_mse: 0.0011 - val_acc: 0.5699\n",
      "Epoch 21/30\n",
      "1135/1135 [==============================] - 8s 7ms/step - loss: 8.7316e-04 - mse: 8.7316e-04 - acc: 0.5763 - val_loss: 0.0011 - val_mse: 0.0011 - val_acc: 0.5513\n",
      "Epoch 22/30\n",
      "1135/1135 [==============================] - 8s 7ms/step - loss: 8.6994e-04 - mse: 8.6994e-04 - acc: 0.5769 - val_loss: 0.0011 - val_mse: 0.0011 - val_acc: 0.5780\n",
      "Epoch 23/30\n",
      "1135/1135 [==============================] - 8s 7ms/step - loss: 8.6223e-04 - mse: 8.6223e-04 - acc: 0.5777 - val_loss: 0.0014 - val_mse: 0.0014 - val_acc: 0.5738\n",
      "Epoch 24/30\n",
      "1135/1135 [==============================] - 8s 7ms/step - loss: 8.6056e-04 - mse: 8.6056e-04 - acc: 0.5794 - val_loss: 0.0011 - val_mse: 0.0011 - val_acc: 0.5625\n",
      "Epoch 25/30\n",
      "1135/1135 [==============================] - 7s 7ms/step - loss: 8.5256e-04 - mse: 8.5256e-04 - acc: 0.5780 - val_loss: 0.0011 - val_mse: 0.0011 - val_acc: 0.5339\n",
      "Epoch 26/30\n",
      "1135/1135 [==============================] - 8s 7ms/step - loss: 8.5004e-04 - mse: 8.5004e-04 - acc: 0.5823 - val_loss: 0.0011 - val_mse: 0.0011 - val_acc: 0.5612\n",
      "Epoch 27/30\n",
      "1135/1135 [==============================] - 7s 6ms/step - loss: 8.4744e-04 - mse: 8.4744e-04 - acc: 0.5796 - val_loss: 0.0011 - val_mse: 0.0011 - val_acc: 0.5755\n",
      "Epoch 28/30\n",
      "1135/1135 [==============================] - 7s 6ms/step - loss: 8.4091e-04 - mse: 8.4091e-04 - acc: 0.5827 - val_loss: 0.0011 - val_mse: 0.0011 - val_acc: 0.5700\n",
      "Epoch 29/30\n",
      "1135/1135 [==============================] - 7s 6ms/step - loss: 8.3499e-04 - mse: 8.3499e-04 - acc: 0.5804 - val_loss: 0.0010 - val_mse: 0.0010 - val_acc: 0.5524\n",
      "Epoch 30/30\n",
      "1135/1135 [==============================] - 7s 6ms/step - loss: 8.3397e-04 - mse: 8.3397e-04 - acc: 0.5802 - val_loss: 0.0012 - val_mse: 0.0012 - val_acc: 0.4816\n"
     ]
    },
    {
     "data": {
      "text/plain": [
       "<keras.callbacks.History at 0x189bdf4b580>"
      ]
     },
     "execution_count": 36,
     "metadata": {},
     "output_type": "execute_result"
    }
   ],
   "source": [
    "# Fit the model\n",
    "model.compile(loss=MeanSquaredError(), optimizer=Adam(learning_rate = 0.01), metrics = ['mse', 'acc'])\n",
    "model.fit(X_train, \n",
    "          y_train, \n",
    "          batch_size=100,\n",
    "          epochs=30,\n",
    "          verbose='auto',\n",
    "          callbacks=None,\n",
    "          validation_split=0.1,\n",
    "          shuffle=True)"
   ]
  },
  {
   "cell_type": "code",
   "execution_count": 37,
   "id": "ed47bbbb",
   "metadata": {},
   "outputs": [
    {
     "name": "stderr",
     "output_type": "stream",
     "text": [
      "WARNING:absl:Found untraced functions such as lstm_cell_2_layer_call_fn, lstm_cell_2_layer_call_and_return_conditional_losses while saving (showing 2 of 2). These functions will not be directly callable after loading.\n"
     ]
    },
    {
     "name": "stdout",
     "output_type": "stream",
     "text": [
      "INFO:tensorflow:Assets written to: ./LSTM/models/LSTM_32-8\\assets\n"
     ]
    },
    {
     "name": "stderr",
     "output_type": "stream",
     "text": [
      "INFO:tensorflow:Assets written to: ./LSTM/models/LSTM_32-8\\assets\n"
     ]
    },
    {
     "name": "stdout",
     "output_type": "stream",
     "text": [
      "3939/3939 [==============================] - 6s 1ms/step\n",
      "984/984 [==============================] - 1s 1ms/step\n",
      "mean_squared_error\n",
      "train set: 0.001011904090414483\n",
      "test set: 0.0010585031586038249\n"
     ]
    }
   ],
   "source": [
    "# save trained model\n",
    "model.save('./LSTM/models/' + model_name)\n",
    "# evaluate the model\n",
    "from sklearn.metrics import mean_squared_error\n",
    "\n",
    "y_hat_train = model.predict(X_train)\n",
    "y_hat_test = model.predict(X_test)\n",
    "\n",
    "print('mean_squared_error')\n",
    "print('train set:', mean_squared_error(y_train, y_hat_train, sample_weight=None))\n",
    "print('test set:', mean_squared_error(y_test, y_hat_test, sample_weight=None))"
   ]
  },
  {
   "cell_type": "markdown",
   "id": "147e0a20",
   "metadata": {},
   "source": [
    "## input length : output length = 40:10"
   ]
  },
  {
   "cell_type": "code",
   "execution_count": 38,
   "id": "0c9521fc",
   "metadata": {},
   "outputs": [],
   "source": [
    "# reset memory\n",
    "tf.Graph().as_default() \n",
    "\n",
    "# prepare sequences\n",
    "seq_len = 40\n",
    "forecast_len = 10\n",
    "X_train, y_train = split_sequences(train[:,:-1], train[:,-1], seq_len = seq_len, forecast_len = forecast_len)\n",
    "X_test, y_test = split_sequences(test[:,:-1], test[:,-1],seq_len = seq_len, forecast_len =  forecast_len)\n",
    "n_features = X_train.shape[2]"
   ]
  },
  {
   "cell_type": "code",
   "execution_count": 41,
   "id": "2091b9f3",
   "metadata": {},
   "outputs": [
    {
     "name": "stdout",
     "output_type": "stream",
     "text": [
      "Model: \"LSTM_40-10\"\n",
      "_________________________________________________________________\n",
      " Layer (type)                Output Shape              Param #   \n",
      "=================================================================\n",
      " input (InputLayer)          [(None, 40, 12)]          0         \n",
      "                                                                 \n",
      " lstm_1 (LSTM)               (None, 30)                5160      \n",
      "                                                                 \n",
      " dense_1 (Dense)             (None, 10)                310       \n",
      "                                                                 \n",
      "=================================================================\n",
      "Total params: 5,470\n",
      "Trainable params: 5,470\n",
      "Non-trainable params: 0\n",
      "_________________________________________________________________\n"
     ]
    }
   ],
   "source": [
    "# create model instance\n",
    "model_name = 'LSTM_40-10'\n",
    "model = MyModel(input_shape = (seq_len, n_features), output_shape = (forecast_len), name = model_name)\n",
    "model.summary()"
   ]
  },
  {
   "cell_type": "code",
   "execution_count": 42,
   "id": "2de6ddb4",
   "metadata": {},
   "outputs": [
    {
     "name": "stdout",
     "output_type": "stream",
     "text": [
      "Epoch 1/30\n",
      "1135/1135 [==============================] - 11s 9ms/step - loss: 0.0051 - mse: 0.0051 - acc: 0.3866 - val_loss: 0.0022 - val_mse: 0.0022 - val_acc: 0.4507\n",
      "Epoch 2/30\n",
      "1135/1135 [==============================] - 10s 9ms/step - loss: 0.0016 - mse: 0.0016 - acc: 0.4590 - val_loss: 0.0016 - val_mse: 0.0016 - val_acc: 0.3866\n",
      "Epoch 3/30\n",
      "1135/1135 [==============================] - 10s 9ms/step - loss: 0.0015 - mse: 0.0015 - acc: 0.4812 - val_loss: 0.0014 - val_mse: 0.0014 - val_acc: 0.5158\n",
      "Epoch 4/30\n",
      "1135/1135 [==============================] - 9s 8ms/step - loss: 0.0014 - mse: 0.0014 - acc: 0.4917 - val_loss: 0.0014 - val_mse: 0.0014 - val_acc: 0.4284\n",
      "Epoch 5/30\n",
      "1135/1135 [==============================] - 10s 8ms/step - loss: 0.0014 - mse: 0.0014 - acc: 0.4998 - val_loss: 0.0014 - val_mse: 0.0014 - val_acc: 0.4013\n",
      "Epoch 6/30\n",
      "1135/1135 [==============================] - 10s 8ms/step - loss: 0.0013 - mse: 0.0013 - acc: 0.5082 - val_loss: 0.0017 - val_mse: 0.0017 - val_acc: 0.5316\n",
      "Epoch 7/30\n",
      "1135/1135 [==============================] - 10s 8ms/step - loss: 0.0013 - mse: 0.0013 - acc: 0.5147 - val_loss: 0.0016 - val_mse: 0.0016 - val_acc: 0.4829\n",
      "Epoch 8/30\n",
      "1135/1135 [==============================] - 10s 8ms/step - loss: 0.0013 - mse: 0.0013 - acc: 0.5189 - val_loss: 0.0014 - val_mse: 0.0014 - val_acc: 0.5004\n",
      "Epoch 9/30\n",
      "1135/1135 [==============================] - 9s 8ms/step - loss: 0.0012 - mse: 0.0012 - acc: 0.5229 - val_loss: 0.0016 - val_mse: 0.0016 - val_acc: 0.4323\n",
      "Epoch 10/30\n",
      "1135/1135 [==============================] - 10s 9ms/step - loss: 0.0012 - mse: 0.0012 - acc: 0.5263 - val_loss: 0.0014 - val_mse: 0.0014 - val_acc: 0.5124\n",
      "Epoch 11/30\n",
      "1135/1135 [==============================] - 10s 8ms/step - loss: 0.0012 - mse: 0.0012 - acc: 0.5272 - val_loss: 0.0018 - val_mse: 0.0018 - val_acc: 0.5277\n",
      "Epoch 12/30\n",
      "1135/1135 [==============================] - 9s 8ms/step - loss: 0.0012 - mse: 0.0012 - acc: 0.5275 - val_loss: 0.0017 - val_mse: 0.0017 - val_acc: 0.5280\n",
      "Epoch 13/30\n",
      "1135/1135 [==============================] - 10s 8ms/step - loss: 0.0012 - mse: 0.0012 - acc: 0.5308 - val_loss: 0.0022 - val_mse: 0.0022 - val_acc: 0.4902\n",
      "Epoch 14/30\n",
      "1135/1135 [==============================] - 9s 8ms/step - loss: 0.0011 - mse: 0.0011 - acc: 0.5331 - val_loss: 0.0026 - val_mse: 0.0026 - val_acc: 0.4829\n",
      "Epoch 15/30\n",
      "1135/1135 [==============================] - 10s 8ms/step - loss: 0.0011 - mse: 0.0011 - acc: 0.5341 - val_loss: 0.0031 - val_mse: 0.0031 - val_acc: 0.5123\n",
      "Epoch 16/30\n",
      "1135/1135 [==============================] - 9s 8ms/step - loss: 0.0011 - mse: 0.0011 - acc: 0.5325 - val_loss: 0.0021 - val_mse: 0.0021 - val_acc: 0.4731\n",
      "Epoch 17/30\n",
      "1135/1135 [==============================] - 10s 8ms/step - loss: 0.0011 - mse: 0.0011 - acc: 0.5352 - val_loss: 0.0018 - val_mse: 0.0018 - val_acc: 0.4568\n",
      "Epoch 18/30\n",
      "1135/1135 [==============================] - 10s 9ms/step - loss: 0.0011 - mse: 0.0011 - acc: 0.5347 - val_loss: 0.0025 - val_mse: 0.0025 - val_acc: 0.4969\n",
      "Epoch 19/30\n",
      "1135/1135 [==============================] - 9s 8ms/step - loss: 0.0011 - mse: 0.0011 - acc: 0.5353 - val_loss: 0.0023 - val_mse: 0.0023 - val_acc: 0.5205\n",
      "Epoch 20/30\n",
      "1135/1135 [==============================] - 9s 8ms/step - loss: 0.0011 - mse: 0.0011 - acc: 0.5358 - val_loss: 0.0020 - val_mse: 0.0020 - val_acc: 0.5269\n",
      "Epoch 21/30\n",
      "1135/1135 [==============================] - 9s 8ms/step - loss: 0.0011 - mse: 0.0011 - acc: 0.5356 - val_loss: 0.0018 - val_mse: 0.0018 - val_acc: 0.5322\n",
      "Epoch 22/30\n",
      "1135/1135 [==============================] - 9s 8ms/step - loss: 0.0011 - mse: 0.0011 - acc: 0.5369 - val_loss: 0.0017 - val_mse: 0.0017 - val_acc: 0.4915\n",
      "Epoch 23/30\n",
      "1135/1135 [==============================] - 9s 8ms/step - loss: 0.0011 - mse: 0.0011 - acc: 0.5369 - val_loss: 0.0017 - val_mse: 0.0017 - val_acc: 0.5155\n",
      "Epoch 24/30\n",
      "1135/1135 [==============================] - 9s 8ms/step - loss: 0.0011 - mse: 0.0011 - acc: 0.5381 - val_loss: 0.0018 - val_mse: 0.0018 - val_acc: 0.4750\n",
      "Epoch 25/30\n",
      "1135/1135 [==============================] - 9s 8ms/step - loss: 0.0011 - mse: 0.0011 - acc: 0.5386 - val_loss: 0.0016 - val_mse: 0.0016 - val_acc: 0.5081\n",
      "Epoch 26/30\n",
      "1135/1135 [==============================] - 9s 8ms/step - loss: 0.0010 - mse: 0.0010 - acc: 0.5372 - val_loss: 0.0017 - val_mse: 0.0017 - val_acc: 0.4254\n",
      "Epoch 27/30\n",
      "1135/1135 [==============================] - 9s 8ms/step - loss: 0.0010 - mse: 0.0010 - acc: 0.5372 - val_loss: 0.0019 - val_mse: 0.0019 - val_acc: 0.4836\n",
      "Epoch 28/30\n",
      "1135/1135 [==============================] - 9s 8ms/step - loss: 0.0010 - mse: 0.0010 - acc: 0.5391 - val_loss: 0.0017 - val_mse: 0.0017 - val_acc: 0.4917\n",
      "Epoch 29/30\n",
      "1135/1135 [==============================] - 9s 8ms/step - loss: 0.0017 - mse: 0.0017 - acc: 0.5014 - val_loss: 0.0016 - val_mse: 0.0016 - val_acc: 0.4796\n",
      "Epoch 30/30\n",
      "1135/1135 [==============================] - 9s 8ms/step - loss: 0.0014 - mse: 0.0014 - acc: 0.5036 - val_loss: 0.0015 - val_mse: 0.0015 - val_acc: 0.4669\n"
     ]
    },
    {
     "data": {
      "text/plain": [
       "<keras.callbacks.History at 0x189bf125ae0>"
      ]
     },
     "execution_count": 42,
     "metadata": {},
     "output_type": "execute_result"
    }
   ],
   "source": [
    "# Fit the model\n",
    "model.compile(loss=MeanSquaredError(), optimizer=Adam(learning_rate = 0.01), metrics = ['mse', 'acc'])\n",
    "model.fit(X_train, \n",
    "          y_train, \n",
    "          batch_size=100,\n",
    "          epochs=30,\n",
    "          verbose='auto',\n",
    "          callbacks=None,\n",
    "          validation_split=0.1,\n",
    "          shuffle=True)\n"
   ]
  },
  {
   "cell_type": "code",
   "execution_count": 43,
   "id": "881a1c18",
   "metadata": {},
   "outputs": [
    {
     "name": "stderr",
     "output_type": "stream",
     "text": [
      "WARNING:absl:Found untraced functions such as lstm_cell_4_layer_call_fn, lstm_cell_4_layer_call_and_return_conditional_losses while saving (showing 2 of 2). These functions will not be directly callable after loading.\n"
     ]
    },
    {
     "name": "stdout",
     "output_type": "stream",
     "text": [
      "INFO:tensorflow:Assets written to: ./LSTM/models/LSTM_40-10\\assets\n"
     ]
    },
    {
     "name": "stderr",
     "output_type": "stream",
     "text": [
      "INFO:tensorflow:Assets written to: ./LSTM/models/LSTM_40-10\\assets\n"
     ]
    },
    {
     "name": "stdout",
     "output_type": "stream",
     "text": [
      "3938/3938 [==============================] - 6s 2ms/step\n",
      "984/984 [==============================] - 2s 2ms/step\n",
      "mean_squared_error\n",
      "train set: 0.0013483855286335529\n",
      "test set: 0.00137299509520843\n"
     ]
    }
   ],
   "source": [
    "# save trained model\n",
    "model.save('./LSTM/models/' + model_name)\n",
    "# evaluate the model\n",
    "from sklearn.metrics import mean_squared_error\n",
    "\n",
    "y_hat_train = model.predict(X_train)\n",
    "y_hat_test = model.predict(X_test)\n",
    "\n",
    "print('mean_squared_error')\n",
    "print('train set:', mean_squared_error(y_train, y_hat_train, sample_weight=None))\n",
    "print('test set:', mean_squared_error(y_test, y_hat_test, sample_weight=None))"
   ]
  },
  {
   "cell_type": "code",
   "execution_count": null,
   "id": "f75c5a73-c40f-4b16-bef3-463526a7798f",
   "metadata": {},
   "outputs": [],
   "source": []
  }
 ],
 "metadata": {
  "kernelspec": {
   "display_name": "Python 3 (ipykernel)",
   "language": "python",
   "name": "python3"
  },
  "language_info": {
   "codemirror_mode": {
    "name": "ipython",
    "version": 3
   },
   "file_extension": ".py",
   "mimetype": "text/x-python",
   "name": "python",
   "nbconvert_exporter": "python",
   "pygments_lexer": "ipython3",
   "version": "3.10.13"
  }
 },
 "nbformat": 4,
 "nbformat_minor": 5
}
